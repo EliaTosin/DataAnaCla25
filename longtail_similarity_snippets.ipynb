{
 "cells": [
  {
   "metadata": {},
   "cell_type": "code",
   "source": [
    "ratings_per_movie = df_pivot.count().sort_values(ascending=False)\n",
    "\n",
    "plt.figure(figsize=(10, 6))\n",
    "plt.plot(ratings_per_movie.values)\n",
    "plt.xlabel(\"Movies sorted by number of ratings\")\n",
    "plt.ylabel(\"Number of ratings\")\n",
    "plt.title(\"Long Tail Distribution of Movie Ratings\")\n",
    "plt.grid(True)\n",
    "plt.show()"
   ],
   "id": "92cc204618a4412f",
   "outputs": [],
   "execution_count": null
  },
  {
   "metadata": {},
   "cell_type": "code",
   "source": [
    "# Creiamo una lista di tuple (user_1, user_2, pearson_corr)\n",
    "correlations = []\n",
    "\n",
    "# Lista di utenti\n",
    "users = df_pivot.index\n",
    "\n",
    "# Ciclo su tutte le coppie di utenti\n",
    "for i in range(len(users)):\n",
    "    for j in range(i + 1, len(users)):\n",
    "        user_1 = df_pivot.loc[users[i]]\n",
    "        user_2 = df_pivot.loc[users[j]]\n",
    "\n",
    "        # Trova i film valutati da entrambi\n",
    "        common_movies = user_1.notna() & user_2.notna()\n",
    "        ratings_1 = user_1[common_movies]\n",
    "        ratings_2 = user_2[common_movies]\n",
    "\n",
    "        # Calcola Pearson solo se ci sono almeno due valutazioni comuni\n",
    "        if len(ratings_1) > 1:\n",
    "            correlation, _ = pearsonr(ratings_1, ratings_2)\n",
    "        else:\n",
    "            correlation = None\n",
    "\n",
    "        # Aggiungi il risultato\n",
    "        correlations.append((users[i], users[j], correlation))\n",
    "\n",
    "# Creiamo un DataFrame con le correlazioni\n",
    "df_correlations = pd.DataFrame(correlations, columns=[\"user_1\", \"user_2\", \"pearson_corr\"])"
   ],
   "id": "9b1296fba48569f8",
   "outputs": [],
   "execution_count": null
  }
 ],
 "metadata": {
  "kernelspec": {
   "display_name": "Python 3",
   "language": "python",
   "name": "python3"
  },
  "language_info": {
   "codemirror_mode": {
    "name": "ipython",
    "version": 2
   },
   "file_extension": ".py",
   "mimetype": "text/x-python",
   "name": "python",
   "nbconvert_exporter": "python",
   "pygments_lexer": "ipython2",
   "version": "2.7.6"
  }
 },
 "nbformat": 4,
 "nbformat_minor": 5
}
