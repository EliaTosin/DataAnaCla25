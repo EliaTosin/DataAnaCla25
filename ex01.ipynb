{
 "cells": [
  {
   "cell_type": "code",
   "execution_count": 42,
   "id": "initial_id",
   "metadata": {
    "ExecuteTime": {
     "end_time": "2025-03-11T09:52:30.899386Z",
     "start_time": "2025-03-11T09:52:30.896483Z"
    },
    "collapsed": true
   },
   "outputs": [],
   "source": [
    "import pandas as pd\n",
    "import matplotlib.pyplot as plt\n",
    "import numpy as np\n",
    "from scipy.stats import pearsonr\n",
    "from sklearn.metrics.pairwise import cosine_similarity\n",
    "import random"
   ]
  },
  {
   "cell_type": "markdown",
   "id": "5a54cae31b9630a6",
   "metadata": {
    "collapsed": false
   },
   "source": [
    "# Step 1: Load and Explore the Dataset"
   ]
  },
  {
   "cell_type": "code",
   "execution_count": 43,
   "id": "1423d2360ebb59a2",
   "metadata": {
    "ExecuteTime": {
     "end_time": "2025-03-11T09:52:30.959002Z",
     "start_time": "2025-03-11T09:52:30.942586Z"
    },
    "collapsed": false
   },
   "outputs": [],
   "source": [
    "df_ratings = pd.read_csv(\"ml-latest-small/ratings.csv\")"
   ]
  },
  {
   "cell_type": "code",
   "execution_count": 44,
   "id": "94a565684743e4ec",
   "metadata": {
    "ExecuteTime": {
     "end_time": "2025-03-11T09:52:31.021103Z",
     "start_time": "2025-03-11T09:52:31.017737Z"
    },
    "collapsed": false
   },
   "outputs": [
    {
     "name": "stdout",
     "output_type": "stream",
     "text": [
      "<class 'pandas.core.frame.DataFrame'>\n",
      "RangeIndex: 100836 entries, 0 to 100835\n",
      "Data columns (total 4 columns):\n",
      " #   Column     Non-Null Count   Dtype  \n",
      "---  ------     --------------   -----  \n",
      " 0   userId     100836 non-null  int64  \n",
      " 1   movieId    100836 non-null  int64  \n",
      " 2   rating     100836 non-null  float64\n",
      " 3   timestamp  100836 non-null  int64  \n",
      "dtypes: float64(1), int64(3)\n",
      "memory usage: 3.1 MB\n"
     ]
    }
   ],
   "source": [
    "df_ratings.info()"
   ]
  },
  {
   "cell_type": "code",
   "execution_count": 45,
   "id": "80a7bf8e26ec6994",
   "metadata": {
    "ExecuteTime": {
     "end_time": "2025-03-11T09:52:31.047893Z",
     "start_time": "2025-03-11T09:52:31.037322Z"
    },
    "collapsed": false
   },
   "outputs": [
    {
     "data": {
      "text/html": [
       "<div>\n",
       "<style scoped>\n",
       "    .dataframe tbody tr th:only-of-type {\n",
       "        vertical-align: middle;\n",
       "    }\n",
       "\n",
       "    .dataframe tbody tr th {\n",
       "        vertical-align: top;\n",
       "    }\n",
       "\n",
       "    .dataframe thead th {\n",
       "        text-align: right;\n",
       "    }\n",
       "</style>\n",
       "<table border=\"1\" class=\"dataframe\">\n",
       "  <thead>\n",
       "    <tr style=\"text-align: right;\">\n",
       "      <th></th>\n",
       "      <th>userId</th>\n",
       "      <th>movieId</th>\n",
       "      <th>rating</th>\n",
       "      <th>timestamp</th>\n",
       "    </tr>\n",
       "  </thead>\n",
       "  <tbody>\n",
       "    <tr>\n",
       "      <th>count</th>\n",
       "      <td>100836.000000</td>\n",
       "      <td>100836.000000</td>\n",
       "      <td>100836.000000</td>\n",
       "      <td>1.008360e+05</td>\n",
       "    </tr>\n",
       "    <tr>\n",
       "      <th>mean</th>\n",
       "      <td>326.127564</td>\n",
       "      <td>19435.295718</td>\n",
       "      <td>3.501557</td>\n",
       "      <td>1.205946e+09</td>\n",
       "    </tr>\n",
       "    <tr>\n",
       "      <th>std</th>\n",
       "      <td>182.618491</td>\n",
       "      <td>35530.987199</td>\n",
       "      <td>1.042529</td>\n",
       "      <td>2.162610e+08</td>\n",
       "    </tr>\n",
       "    <tr>\n",
       "      <th>min</th>\n",
       "      <td>1.000000</td>\n",
       "      <td>1.000000</td>\n",
       "      <td>0.500000</td>\n",
       "      <td>8.281246e+08</td>\n",
       "    </tr>\n",
       "    <tr>\n",
       "      <th>25%</th>\n",
       "      <td>177.000000</td>\n",
       "      <td>1199.000000</td>\n",
       "      <td>3.000000</td>\n",
       "      <td>1.019124e+09</td>\n",
       "    </tr>\n",
       "    <tr>\n",
       "      <th>50%</th>\n",
       "      <td>325.000000</td>\n",
       "      <td>2991.000000</td>\n",
       "      <td>3.500000</td>\n",
       "      <td>1.186087e+09</td>\n",
       "    </tr>\n",
       "    <tr>\n",
       "      <th>75%</th>\n",
       "      <td>477.000000</td>\n",
       "      <td>8122.000000</td>\n",
       "      <td>4.000000</td>\n",
       "      <td>1.435994e+09</td>\n",
       "    </tr>\n",
       "    <tr>\n",
       "      <th>max</th>\n",
       "      <td>610.000000</td>\n",
       "      <td>193609.000000</td>\n",
       "      <td>5.000000</td>\n",
       "      <td>1.537799e+09</td>\n",
       "    </tr>\n",
       "  </tbody>\n",
       "</table>\n",
       "</div>"
      ],
      "text/plain": [
       "              userId        movieId         rating     timestamp\n",
       "count  100836.000000  100836.000000  100836.000000  1.008360e+05\n",
       "mean      326.127564   19435.295718       3.501557  1.205946e+09\n",
       "std       182.618491   35530.987199       1.042529  2.162610e+08\n",
       "min         1.000000       1.000000       0.500000  8.281246e+08\n",
       "25%       177.000000    1199.000000       3.000000  1.019124e+09\n",
       "50%       325.000000    2991.000000       3.500000  1.186087e+09\n",
       "75%       477.000000    8122.000000       4.000000  1.435994e+09\n",
       "max       610.000000  193609.000000       5.000000  1.537799e+09"
      ]
     },
     "execution_count": 45,
     "metadata": {},
     "output_type": "execute_result"
    }
   ],
   "source": [
    "df_ratings.describe()"
   ]
  },
  {
   "cell_type": "code",
   "execution_count": 46,
   "id": "b53cd1e17a28f512",
   "metadata": {
    "ExecuteTime": {
     "end_time": "2025-03-11T09:52:31.106753Z",
     "start_time": "2025-03-11T09:52:31.100655Z"
    },
    "collapsed": false
   },
   "outputs": [],
   "source": [
    "df_movies = pd.read_csv(\"ml-latest-small/movies.csv\")"
   ]
  },
  {
   "cell_type": "code",
   "execution_count": 47,
   "id": "91c804c08b66c1a9",
   "metadata": {
    "ExecuteTime": {
     "end_time": "2025-03-11T09:52:31.148997Z",
     "start_time": "2025-03-11T09:52:31.144084Z"
    },
    "collapsed": false
   },
   "outputs": [
    {
     "name": "stdout",
     "output_type": "stream",
     "text": [
      "<class 'pandas.core.frame.DataFrame'>\n",
      "RangeIndex: 9742 entries, 0 to 9741\n",
      "Data columns (total 3 columns):\n",
      " #   Column   Non-Null Count  Dtype \n",
      "---  ------   --------------  ----- \n",
      " 0   movieId  9742 non-null   int64 \n",
      " 1   title    9742 non-null   object\n",
      " 2   genres   9742 non-null   object\n",
      "dtypes: int64(1), object(2)\n",
      "memory usage: 228.5+ KB\n"
     ]
    }
   ],
   "source": [
    "df_movies.info()"
   ]
  },
  {
   "cell_type": "markdown",
   "id": "ddc43d748558ed91",
   "metadata": {
    "collapsed": false
   },
   "source": [
    "# Step 2: Analyze the Sparsity of the Rating Matrix"
   ]
  },
  {
   "cell_type": "markdown",
   "id": "7c12bd7d6497e1c2",
   "metadata": {
    "collapsed": false
   },
   "source": [
    "#### Construct a user-item interaction matrix where rows represent users and columns represent movies, with ratings as values."
   ]
  },
  {
   "cell_type": "code",
   "execution_count": 48,
   "id": "5265f14b824737f3",
   "metadata": {
    "ExecuteTime": {
     "end_time": "2025-03-11T09:52:31.367332Z",
     "start_time": "2025-03-11T09:52:31.181870Z"
    },
    "collapsed": false
   },
   "outputs": [
    {
     "name": "stdout",
     "output_type": "stream",
     "text": [
      "<class 'pandas.core.frame.DataFrame'>\n",
      "Index: 610 entries, 1 to 610\n",
      "Columns: 9724 entries, 1 to 193609\n",
      "dtypes: float64(9724)\n",
      "memory usage: 45.3 MB\n"
     ]
    }
   ],
   "source": [
    "df_pivot = df_ratings.pivot(index=\"userId\", columns=\"movieId\", values=\"rating\")\n",
    "df_pivot.info()"
   ]
  },
  {
   "cell_type": "code",
   "execution_count": 49,
   "id": "75212297187174f9",
   "metadata": {
    "ExecuteTime": {
     "end_time": "2025-03-11T10:27:19.499336Z",
     "start_time": "2025-03-11T10:27:19.361868Z"
    }
   },
   "outputs": [
    {
     "data": {
      "image/png": "[encoded data removed]",
      "text/plain": [
       "<Figure size 800x600 with 1 Axes>"
      ]
     },
     "metadata": {},
     "output_type": "display_data"
    },
    {
     "name": "stdout",
     "output_type": "stream",
     "text": [
      "count     610.000000\n",
      "mean      165.304918\n",
      "std       269.480584\n",
      "min        20.000000\n",
      "25%        35.000000\n",
      "50%        70.500000\n",
      "75%       168.000000\n",
      "max      2698.000000\n",
      "dtype: float64\n"
     ]
    }
   ],
   "source": [
    "# Contare il numero di rating effettuati da ciascun utente\n",
    "ratings_per_user = df_pivot.notna().sum(axis=1)\n",
    "\n",
    "plt.figure(figsize=(8, 6))\n",
    "plt.hist(ratings_per_user, bins=len(ratings_per_user.unique()))\n",
    "plt.title('Distribuzione del numero di rating per utente')\n",
    "plt.xlabel('Numero di rating')\n",
    "plt.ylabel('Frequenza')\n",
    "plt.show()\n",
    "\n",
    "print(ratings_per_user.describe())"
   ]
  },
  {
   "cell_type": "markdown",
   "id": "b45bee32c1e8e0e3",
   "metadata": {
    "collapsed": false
   },
   "source": [
    "####  Compute the sparsity of the matrix:"
   ]
  },
  {
   "cell_type": "code",
   "execution_count": 50,
   "id": "696ac8462c991c96",
   "metadata": {
    "ExecuteTime": {
     "end_time": "2025-03-11T09:52:31.374549Z",
     "start_time": "2025-03-11T09:52:31.371632Z"
    },
    "collapsed": false
   },
   "outputs": [
    {
     "data": {
      "text/plain": [
       "0.9998973516731677"
      ]
     },
     "execution_count": 50,
     "metadata": {},
     "output_type": "execute_result"
    }
   ],
   "source": [
    "num_of_ratings = len(df_ratings)\n",
    "user_movie_pairs = len(df_ratings)*len(df_movies)\n",
    "sparsity = 1 - num_of_ratings/user_movie_pairs\n",
    "sparsity"
   ]
  },
  {
   "cell_type": "markdown",
   "id": "3e615ef2a5f33b45",
   "metadata": {
    "collapsed": false
   },
   "source": [
    "# Step 3: Handle Missing Values"
   ]
  },
  {
   "cell_type": "markdown",
   "id": "8763db707b220e15",
   "metadata": {
    "collapsed": false
   },
   "source": [
    "#### Identify movies and users with the most missing ratings."
   ]
  },
  {
   "cell_type": "code",
   "execution_count": 51,
   "id": "2ed9b7869bf922d0",
   "metadata": {
    "ExecuteTime": {
     "end_time": "2025-03-11T09:52:31.430077Z",
     "start_time": "2025-03-11T09:52:31.417936Z"
    },
    "collapsed": false
   },
   "outputs": [
    {
     "name": "stdout",
     "output_type": "stream",
     "text": [
      "movieId\n",
      "Andrew Dice Clay: Dice Rules (1991)          609\n",
      "Bungo Stray Dogs: Dead Apple (2018)          609\n",
      "Flint (2017)                                 609\n",
      "No Game No Life: Zero (2017)                 609\n",
      "Black Butler: Book of the Atlantic (2017)    609\n",
      "Jon Stewart Has Left the Building (2015)     609\n",
      "Spiral (2018)                                609\n",
      "Boundaries (2018)                            609\n",
      "The Man Who Killed Don Quixote (2018)        609\n",
      "Tag (2018)                                   609\n",
      "dtype: int64\n"
     ]
    }
   ],
   "source": [
    "# Conta i valori mancanti (NaN) per ogni film\n",
    "missing_by_movie = df_pivot.isna().sum().sort_values(ascending=False)\n",
    "\n",
    "# Converte gli ID in titoli usando movie_dict\n",
    "movie_dict = pd.Series(df_movies.title.values, index=df_movies.movieId).to_dict()\n",
    "missing_by_movie.index = missing_by_movie.index.map(movie_dict)\n",
    "\n",
    "# Mostra i film con più rating mancanti\n",
    "print(missing_by_movie.head(10))"
   ]
  },
  {
   "cell_type": "code",
   "execution_count": 52,
   "id": "2576cae1f7dcbba8",
   "metadata": {
    "ExecuteTime": {
     "end_time": "2025-03-11T09:52:31.471709Z",
     "start_time": "2025-03-11T09:52:31.465150Z"
    },
    "collapsed": false
   },
   "outputs": [
    {
     "name": "stdout",
     "output_type": "stream",
     "text": [
      "userId\n",
      "576    9704\n",
      "569    9704\n",
      "278    9704\n",
      "257    9704\n",
      "595    9704\n",
      "147    9704\n",
      "207    9704\n",
      "189    9704\n",
      "194    9704\n",
      "320    9704\n",
      "dtype: int64\n"
     ]
    }
   ],
   "source": [
    "# Conta i valori mancanti per ogni utente\n",
    "missing_by_user = df_pivot.isna().sum(axis=1).sort_values(ascending=False)\n",
    "\n",
    "# Mostra gli utenti con più rating mancanti\n",
    "print(missing_by_user.head(10))"
   ]
  },
  {
   "cell_type": "markdown",
   "id": "720901cdf16f449d",
   "metadata": {
    "collapsed": false
   },
   "source": [
    "#### Apply simple missing value imputation techniques:\n",
    "- Fill missing ratings with the movie’s average rating."
   ]
  },
  {
   "cell_type": "code",
   "execution_count": 53,
   "id": "ed397eac57a0cf19",
   "metadata": {
    "ExecuteTime": {
     "end_time": "2025-03-11T09:52:32.077124Z",
     "start_time": "2025-03-11T09:52:31.509579Z"
    },
    "collapsed": false
   },
   "outputs": [],
   "source": [
    "# Calcola la media di ogni film (colonne)\n",
    "movie_avg = df_pivot.mean(axis=0)\n",
    "\n",
    "# Riempie i valori NaN con la media del film\n",
    "df_movie_avg_filled = df_pivot.apply(lambda col: col.fillna(movie_avg[col.name]), axis=0)"
   ]
  },
  {
   "cell_type": "markdown",
   "id": "292f42870fee997",
   "metadata": {
    "collapsed": false
   },
   "source": [
    "✅ Pro:\n",
    "\n",
    "Tiene conto delle caratteristiche specifiche del film.\n",
    "Funziona bene se i film hanno ricevuto un numero decente di valutazioni.\n",
    "\n",
    "❌ Contro:\n",
    "\n",
    "I film poco recensiti rischiano di avere una media poco rappresentativa.\n",
    "Se un film non ha nessuna valutazione, rimane comunque un NaN.\n",
    "Non considera le preferenze individuali degli utenti.\n",
    "\n",
    "💡 Quando usarlo: Quando i film hanno abbastanza recensioni e vuoi mantenere una visione orientata al contenuto."
   ]
  },
  {
   "cell_type": "markdown",
   "id": "ccb42595a48282ca",
   "metadata": {
    "collapsed": false
   },
   "source": [
    "- Fill missing ratings with the user’s average rating."
   ]
  },
  {
   "cell_type": "code",
   "execution_count": 54,
   "id": "60b4c0217a3444eb",
   "metadata": {
    "ExecuteTime": {
     "end_time": "2025-03-11T09:52:32.164222Z",
     "start_time": "2025-03-11T09:52:32.107171Z"
    },
    "collapsed": false
   },
   "outputs": [],
   "source": [
    "# Calcola la media di ogni utente (righe)\n",
    "user_avg = df_pivot.mean(axis=1)\n",
    "\n",
    "# Riempie i valori NaN con la media dell'utente\n",
    "df_user_avg_filled = df_pivot.apply(lambda row: row.fillna(user_avg[row.name]), axis=1)"
   ]
  },
  {
   "cell_type": "markdown",
   "id": "bb891f540ccfd9a0",
   "metadata": {
    "collapsed": false
   },
   "source": [
    "✅ Pro:\n",
    "\n",
    "Tiene conto delle preferenze personali di ciascun utente.\n",
    "È utile se alcuni utenti tendono a dare voti sempre alti o sempre bassi.\n",
    "\n",
    "❌ Contro:\n",
    "\n",
    "Non considera la qualità o popolarità del film, solo il comportamento dell'utente.\n",
    "Se un utente ha valutato pochissimi film, la sua media potrebbe non essere significativa.\n",
    "\n",
    "💡 Quando usarlo: Quando gli utenti hanno pattern di valutazione chiari (es. qualcuno vota sempre severo, qualcun altro sempre generoso)."
   ]
  },
  {
   "cell_type": "markdown",
   "id": "195581b12fb65c10",
   "metadata": {
    "collapsed": false
   },
   "source": [
    "- Fill missing ratings with the global average rating."
   ]
  },
  {
   "cell_type": "code",
   "execution_count": 55,
   "id": "9afa4320b9a044fc",
   "metadata": {
    "ExecuteTime": {
     "end_time": "2025-03-11T09:52:32.238560Z",
     "start_time": "2025-03-11T09:52:32.195180Z"
    },
    "collapsed": false
   },
   "outputs": [],
   "source": [
    "# Calcola la media globale\n",
    "global_avg = df_pivot.stack().mean() \n",
    "\n",
    "# Riempie i NaN con la media globale\n",
    "df_global_avg_filled = df_pivot.fillna(global_avg)"
   ]
  },
  {
   "cell_type": "markdown",
   "id": "55e93833d9c8c68f",
   "metadata": {
    "collapsed": false
   },
   "source": [
    "✅ Pro:\n",
    "\n",
    "È semplice e veloce da applicare.\n",
    "Non lascia buchi: tutti i NaN vengono riempiti.\n",
    "\n",
    "❌ Contro:\n",
    "\n",
    "È molto generico: ignora sia le preferenze dell'utente che la popolarità/qualità del film.\n",
    "Può introdurre bias: se molti film hanno rating molto diversi dalla media globale, questa approssimazione è debole.\n",
    "\n",
    "💡 Quando usarlo: Quando hai molti valori mancanti e hai bisogno di un’imputazione di base, magari come punto di partenza per tecniche più avanzate."
   ]
  },
  {
   "cell_type": "code",
   "execution_count": 56,
   "id": "f69b8f829f8f25d1",
   "metadata": {
    "ExecuteTime": {
     "end_time": "2025-03-11T09:52:32.272470Z",
     "start_time": "2025-03-11T09:52:32.270319Z"
    }
   },
   "outputs": [],
   "source": [
    "chosen_df_filled = df_user_avg_filled"
   ]
  },
  {
   "cell_type": "markdown",
   "id": "4d90a8cb9b85adc2",
   "metadata": {
    "collapsed": false
   },
   "source": [
    "# Step 4: Week 2"
   ]
  },
  {
   "cell_type": "markdown",
   "id": "ea7734a223c431d",
   "metadata": {
    "collapsed": false
   },
   "source": [
    "#### Identify which kind of rating you have in the dataset"
   ]
  },
  {
   "cell_type": "code",
   "execution_count": 57,
   "id": "36e234caaa39b27e",
   "metadata": {
    "ExecuteTime": {
     "end_time": "2025-03-11T09:52:32.361514Z",
     "start_time": "2025-03-11T09:52:32.305979Z"
    },
    "collapsed": false
   },
   "outputs": [
    {
     "name": "stdout",
     "output_type": "stream",
     "text": [
      "Uniques:  [4.  5.  3.  2.  1.  4.5 3.5 2.5 0.5 1.5]\n",
      "\n",
      "Stats: \t count    100836.000000\n",
      "mean          3.501557\n",
      "std           1.042529\n",
      "min           0.500000\n",
      "25%           3.000000\n",
      "50%           3.500000\n",
      "75%           4.000000\n",
      "max           5.000000\n",
      "Name: rating, dtype: float64\n"
     ]
    },
    {
     "data": {
      "image/png": "[encoded data removed]",
      "text/plain": [
       "<Figure size 640x480 with 1 Axes>"
      ]
     },
     "metadata": {},
     "output_type": "display_data"
    }
   ],
   "source": [
    "# Valori unici dei rating\n",
    "print(\"Uniques: \", df_ratings['rating'].unique())\n",
    "\n",
    "# Statistiche di base\n",
    "print(\"\\nStats: \\t\", df_ratings['rating'].describe())\n",
    "\n",
    "# Distribuzione dei rating\n",
    "plt.hist(df_ratings['rating'], bins=20)\n",
    "plt.title('Distribuzione dei rating')\n",
    "plt.xlabel('Rating')\n",
    "plt.ylabel('Frequenza')\n",
    "plt.show()"
   ]
  },
  {
   "cell_type": "markdown",
   "id": "b8fa142b73439c72",
   "metadata": {
    "collapsed": false
   },
   "source": [
    "#### Verify the ratings have a long tail distribution"
   ]
  },
  {
   "cell_type": "code",
   "execution_count": 58,
   "id": "4cb79ee81e78dc0a",
   "metadata": {
    "ExecuteTime": {
     "end_time": "2025-03-11T09:52:32.487100Z",
     "start_time": "2025-03-11T09:52:32.398062Z"
    },
    "collapsed": false
   },
   "outputs": [
    {
     "data": {
      "image/png": "[encoded data removed]",
      "text/plain": [
       "<Figure size 1000x600 with 1 Axes>"
      ]
     },
     "metadata": {},
     "output_type": "display_data"
    }
   ],
   "source": [
    "ratings_per_movie = df_pivot.count()\n",
    "\n",
    "plt.figure(figsize=(10, 6))\n",
    "\n",
    "plt.plot(ratings_per_movie.sort_values(ascending=False).values, label='Sorted Movie Ratings')\n",
    "plt.plot(ratings_per_movie.values, alpha=0.5, label=\"Movie Ratings\")\n",
    "\n",
    "plt.xlabel(\"Movies sorted by number of ratings\")\n",
    "plt.ylabel(\"Number of ratings\")\n",
    "plt.title(\"Long Tail Distribution of Movie Ratings\")\n",
    "plt.legend()\n",
    "plt.grid(True)\n",
    "plt.show()"
   ]
  },
  {
   "cell_type": "markdown",
   "id": "67c39f0ca404395c",
   "metadata": {},
   "source": [
    "#### Implement a Neighbourhood Based Collaborative Filtering exploiting a user based approach to identify the neighborhood."
   ]
  },
  {
   "cell_type": "markdown",
   "id": "616dae511a50ff50",
   "metadata": {},
   "source": [
    "#### 1. Pearson Coefficient"
   ]
  },
  {
   "cell_type": "code",
   "execution_count": 59,
   "id": "395f7aba2de37dd8",
   "metadata": {
    "ExecuteTime": {
     "end_time": "2025-03-11T09:53:21.735227Z",
     "start_time": "2025-03-11T09:52:32.527182Z"
    }
   },
   "outputs": [
    {
     "data": {
      "text/html": [
       "<div>\n",
       "<style scoped>\n",
       "    .dataframe tbody tr th:only-of-type {\n",
       "        vertical-align: middle;\n",
       "    }\n",
       "\n",
       "    .dataframe tbody tr th {\n",
       "        vertical-align: top;\n",
       "    }\n",
       "\n",
       "    .dataframe thead th {\n",
       "        text-align: right;\n",
       "    }\n",
       "</style>\n",
       "<table border=\"1\" class=\"dataframe\">\n",
       "  <thead>\n",
       "    <tr style=\"text-align: right;\">\n",
       "      <th></th>\n",
       "      <th>user_1</th>\n",
       "      <th>user_2</th>\n",
       "      <th>pearson_corr</th>\n",
       "    </tr>\n",
       "  </thead>\n",
       "  <tbody>\n",
       "    <tr>\n",
       "      <th>0</th>\n",
       "      <td>1</td>\n",
       "      <td>3</td>\n",
       "      <td>0.079819</td>\n",
       "    </tr>\n",
       "    <tr>\n",
       "      <th>1</th>\n",
       "      <td>1</td>\n",
       "      <td>4</td>\n",
       "      <td>0.207983</td>\n",
       "    </tr>\n",
       "    <tr>\n",
       "      <th>2</th>\n",
       "      <td>1</td>\n",
       "      <td>5</td>\n",
       "      <td>0.268749</td>\n",
       "    </tr>\n",
       "    <tr>\n",
       "      <th>3</th>\n",
       "      <td>1</td>\n",
       "      <td>6</td>\n",
       "      <td>-0.291636</td>\n",
       "    </tr>\n",
       "    <tr>\n",
       "      <th>4</th>\n",
       "      <td>1</td>\n",
       "      <td>7</td>\n",
       "      <td>-0.118773</td>\n",
       "    </tr>\n",
       "    <tr>\n",
       "      <th>5</th>\n",
       "      <td>1</td>\n",
       "      <td>8</td>\n",
       "      <td>0.469668</td>\n",
       "    </tr>\n",
       "    <tr>\n",
       "      <th>6</th>\n",
       "      <td>1</td>\n",
       "      <td>9</td>\n",
       "      <td>0.918559</td>\n",
       "    </tr>\n",
       "    <tr>\n",
       "      <th>7</th>\n",
       "      <td>1</td>\n",
       "      <td>10</td>\n",
       "      <td>-0.037987</td>\n",
       "    </tr>\n",
       "    <tr>\n",
       "      <th>8</th>\n",
       "      <td>1</td>\n",
       "      <td>11</td>\n",
       "      <td>-0.087643</td>\n",
       "    </tr>\n",
       "    <tr>\n",
       "      <th>9</th>\n",
       "      <td>1</td>\n",
       "      <td>13</td>\n",
       "      <td>0.878310</td>\n",
       "    </tr>\n",
       "  </tbody>\n",
       "</table>\n",
       "</div>"
      ],
      "text/plain": [
       "   user_1  user_2  pearson_corr\n",
       "0       1       3      0.079819\n",
       "1       1       4      0.207983\n",
       "2       1       5      0.268749\n",
       "3       1       6     -0.291636\n",
       "4       1       7     -0.118773\n",
       "5       1       8      0.469668\n",
       "6       1       9      0.918559\n",
       "7       1      10     -0.037987\n",
       "8       1      11     -0.087643\n",
       "9       1      13      0.878310"
      ]
     },
     "metadata": {},
     "output_type": "display_data"
    },
    {
     "data": {
      "text/html": [
       "<div>\n",
       "<style scoped>\n",
       "    .dataframe tbody tr th:only-of-type {\n",
       "        vertical-align: middle;\n",
       "    }\n",
       "\n",
       "    .dataframe tbody tr th {\n",
       "        vertical-align: top;\n",
       "    }\n",
       "\n",
       "    .dataframe thead th {\n",
       "        text-align: right;\n",
       "    }\n",
       "</style>\n",
       "<table border=\"1\" class=\"dataframe\">\n",
       "  <thead>\n",
       "    <tr style=\"text-align: right;\">\n",
       "      <th></th>\n",
       "      <th>user_1</th>\n",
       "      <th>user_2</th>\n",
       "      <th>pearson_corr</th>\n",
       "    </tr>\n",
       "  </thead>\n",
       "  <tbody>\n",
       "    <tr>\n",
       "      <th>count</th>\n",
       "      <td>132404.000000</td>\n",
       "      <td>132404.000000</td>\n",
       "      <td>132404.000000</td>\n",
       "    </tr>\n",
       "    <tr>\n",
       "      <th>mean</th>\n",
       "      <td>202.220854</td>\n",
       "      <td>406.831055</td>\n",
       "      <td>0.128944</td>\n",
       "    </tr>\n",
       "    <tr>\n",
       "      <th>std</th>\n",
       "      <td>143.664873</td>\n",
       "      <td>144.622821</td>\n",
       "      <td>0.452352</td>\n",
       "    </tr>\n",
       "    <tr>\n",
       "      <th>min</th>\n",
       "      <td>1.000000</td>\n",
       "      <td>3.000000</td>\n",
       "      <td>-1.000000</td>\n",
       "    </tr>\n",
       "    <tr>\n",
       "      <th>25%</th>\n",
       "      <td>80.000000</td>\n",
       "      <td>305.000000</td>\n",
       "      <td>-0.120096</td>\n",
       "    </tr>\n",
       "    <tr>\n",
       "      <th>50%</th>\n",
       "      <td>179.000000</td>\n",
       "      <td>430.000000</td>\n",
       "      <td>0.159808</td>\n",
       "    </tr>\n",
       "    <tr>\n",
       "      <th>75%</th>\n",
       "      <td>305.000000</td>\n",
       "      <td>529.000000</td>\n",
       "      <td>0.412751</td>\n",
       "    </tr>\n",
       "    <tr>\n",
       "      <th>max</th>\n",
       "      <td>609.000000</td>\n",
       "      <td>610.000000</td>\n",
       "      <td>1.000000</td>\n",
       "    </tr>\n",
       "  </tbody>\n",
       "</table>\n",
       "</div>"
      ],
      "text/plain": [
       "              user_1         user_2   pearson_corr\n",
       "count  132404.000000  132404.000000  132404.000000\n",
       "mean      202.220854     406.831055       0.128944\n",
       "std       143.664873     144.622821       0.452352\n",
       "min         1.000000       3.000000      -1.000000\n",
       "25%        80.000000     305.000000      -0.120096\n",
       "50%       179.000000     430.000000       0.159808\n",
       "75%       305.000000     529.000000       0.412751\n",
       "max       609.000000     610.000000       1.000000"
      ]
     },
     "metadata": {},
     "output_type": "display_data"
    }
   ],
   "source": [
    "corr_matrix = df_pivot.T.corr(method=\"pearson\")\n",
    "mask = np.triu(np.ones(corr_matrix.shape), k=1).astype(bool)\n",
    "df_pearson = (\n",
    "    corr_matrix.where(mask)\n",
    "    .stack()\n",
    "    .rename_axis([\"user_1\", \"user_2\"])\n",
    "    .reset_index(name=\"pearson_corr\")\n",
    ")\n",
    "\n",
    "display(df_pearson.head(10))\n",
    "display(df_pearson.describe())\n"
   ]
  },
  {
   "cell_type": "markdown",
   "id": "4152fe7989b80892",
   "metadata": {},
   "source": [
    "🔗 Why Pearson Correlation was not used:\n",
    "\n",
    "- <b>Problemi con dati costanti:</b> come hai visto col warning `ConstantInputWarning`, se uno degli utenti ha varianza zero (ad esempio ha dato sempre lo stesso voto), Pearson non è definito. Questo è comune nei sistemi di raccomandazione con utenti che valutano pochi item."
   ]
  },
  {
   "cell_type": "markdown",
   "id": "151858424336d4f7",
   "metadata": {},
   "source": [
    "#### 2. Cosine Similarity"
   ]
  },
  {
   "cell_type": "code",
   "execution_count": 60,
   "id": "e4500d3c61b3f602",
   "metadata": {
    "ExecuteTime": {
     "end_time": "2025-03-11T09:53:21.804076Z",
     "start_time": "2025-03-11T09:53:21.767617Z"
    }
   },
   "outputs": [
    {
     "name": "stdout",
     "output_type": "stream",
     "text": [
      "Similarità tra utenti:\n",
      " userId       1         2         3         4         5         6         7    \\\n",
      "userId                                                                         \n",
      "1       1.000000  0.999542  0.998167  0.998170  0.999449  0.998593  0.998280   \n",
      "2       0.999542  1.000000  0.998504  0.998423  0.999780  0.998977  0.998621   \n",
      "3       0.998167  0.998504  1.000000  0.997026  0.998369  0.997624  0.997253   \n",
      "4       0.998170  0.998423  0.997026  1.000000  0.998300  0.997575  0.997346   \n",
      "5       0.999449  0.999780  0.998369  0.998300  1.000000  0.998891  0.998533   \n",
      "...          ...       ...       ...       ...       ...       ...       ...   \n",
      "606     0.997387  0.997707  0.996196  0.996334  0.997630  0.996785  0.996549   \n",
      "607     0.999035  0.999311  0.997928  0.997901  0.999235  0.998496  0.998122   \n",
      "608     0.994793  0.994911  0.993479  0.993272  0.994811  0.994124  0.993817   \n",
      "609     0.999560  0.999899  0.998529  0.998450  0.999815  0.999032  0.998656   \n",
      "610     0.996034  0.996368  0.995062  0.994899  0.996241  0.995491  0.995394   \n",
      "\n",
      "userId       8         9         10   ...       601       602       603  \\\n",
      "userId                                ...                                 \n",
      "1       0.999451  0.999264  0.998673  ...  0.999553  0.999013  0.994362   \n",
      "2       0.999755  0.999588  0.999024  ...  0.999880  0.999356  0.994741   \n",
      "3       0.998357  0.998212  0.997647  ...  0.998507  0.997963  0.993470   \n",
      "4       0.998320  0.998133  0.997698  ...  0.998417  0.998039  0.993458   \n",
      "5       0.999657  0.999484  0.998893  ...  0.999785  0.999272  0.994689   \n",
      "...          ...       ...       ...  ...       ...       ...       ...   \n",
      "606     0.997615  0.997467  0.996732  ...  0.997745  0.997228  0.993243   \n",
      "607     0.999236  0.999015  0.998434  ...  0.999342  0.998852  0.994361   \n",
      "608     0.994938  0.994714  0.993841  ...  0.994996  0.994582  0.989936   \n",
      "609     0.999802  0.999613  0.999033  ...  0.999914  0.999410  0.994780   \n",
      "610     0.996258  0.996170  0.995396  ...  0.996370  0.995921  0.991668   \n",
      "\n",
      "userId       604       605       606       607       608       609       610  \n",
      "userId                                                                        \n",
      "1       0.999346  0.998835  0.997387  0.999035  0.994793  0.999560  0.996034  \n",
      "2       0.999707  0.999205  0.997707  0.999311  0.994911  0.999899  0.996368  \n",
      "3       0.998331  0.997827  0.996196  0.997928  0.993479  0.998529  0.995062  \n",
      "4       0.998244  0.997844  0.996334  0.997901  0.993272  0.998450  0.994899  \n",
      "5       0.999608  0.999076  0.997630  0.999235  0.994811  0.999815  0.996241  \n",
      "...          ...       ...       ...       ...       ...       ...       ...  \n",
      "606     0.997618  0.997079  1.000000  0.997184  0.993130  0.997749  0.994602  \n",
      "607     0.999147  0.998604  0.997184  1.000000  0.994516  0.999349  0.995851  \n",
      "608     0.994759  0.994216  0.993130  0.994516  1.000000  0.994985  0.991862  \n",
      "609     0.999749  0.999212  0.997749  0.999349  0.994985  1.000000  0.996361  \n",
      "610     0.996201  0.995899  0.994602  0.995851  0.991862  0.996361  1.000000  \n",
      "\n",
      "[610 rows x 610 columns]\n"
     ]
    }
   ],
   "source": [
    "# Calcolare la similarità del coseno tra gli utenti\n",
    "user_similarity = cosine_similarity(chosen_df_filled)\n",
    "# Creare un DataFrame di similarità\n",
    "user_similarity_df = pd.DataFrame(user_similarity, index=chosen_df_filled.index, columns=chosen_df_filled.index)\n",
    "print(\"Similarità tra utenti:\\n\", user_similarity_df)"
   ]
  },
  {
   "cell_type": "markdown",
   "id": "5881e5e4ea264fbf",
   "metadata": {},
   "source": [
    "📐 Cosine Similarity:\n",
    "\n",
    "- Misura l'angolo tra i vettori, non la distanza. In termini di raccomandazioni, ogni utente è un vettore di rating, e cosine si concentra sulla direzione piuttosto che sulla magnitudine.\n",
    "- Resistente alle scale diverse: se due utenti danno rating simili ma uno tende a dare voti più alti di default, la cosine similarity li considera comunque simili.\n",
    "- Funziona bene anche con molti valori mancanti: quando ci sono molti NaN (come accade nei sistemi di raccomandazione), la cosine similarity riesce comunque a cogliere pattern di somiglianza anche su pochi item comuni.\n",
    "\n",
    "#### 💡 Quando preferire cosine similarity:\n",
    "\n",
    "- Quando hai dati molto sparsi (molti NaN) — cosa molto comune nei sistemi di raccomandazione.\n",
    "- Quando ti interessa la similarità nella “forma” dei rating, più che nelle differenze assolute.\n",
    "- Quando vuoi evitare problemi di varianza zero.\n",
    "\n",
    "#### 🔍 Quando usare Pearson:\n",
    "\n",
    "- Se sai che i dati sono ben distribuiti e senza troppi valori mancanti.\n",
    "- Quando vuoi normalizzare la tendenza di ciascun utente (es. un utente che vota sempre alto vs. uno che vota sempre basso, anche se concordano nei pattern)."
   ]
  },
  {
   "cell_type": "code",
   "execution_count": 61,
   "id": "904bcd64e991beb5",
   "metadata": {
    "ExecuteTime": {
     "end_time": "2025-03-11T10:23:12.323839Z",
     "start_time": "2025-03-11T10:23:12.320963Z"
    },
    "collapsed": false
   },
   "outputs": [],
   "source": [
    "def predict_rating(utente_target, film_target, user_similarity_df=user_similarity_df):\n",
    "    if utente_target not in chosen_df_filled.index:\n",
    "        raise ValueError(f\"L'utente {utente_target} non esiste nel dataset.\")\n",
    "    if film_target not in chosen_df_filled.columns:\n",
    "        raise ValueError(f\"Il film {film_target} non esiste nel dataset.\")\n",
    "\n",
    "    # Ordinare gli utenti in base alla similarità (escludendo l'utente stesso)\n",
    "    neighborhood = user_similarity_df[utente_target].drop(utente_target).sort_values(ascending=False)\n",
    "    print(f\"\\nVicinato dei 5 utenti di [{utente_target}]:\\n\", neighborhood[:5])\n",
    "\n",
    "    # Prendere solo i rating dei vicini per quel film\n",
    "    ratings_from_neighbors = chosen_df_filled.loc[neighborhood.index, film_target]\n",
    "\n",
    "    # Ponderare i rating in base alla similarità\n",
    "    weighted_sum = sum(rating * neighborhood[utente] for utente, rating in ratings_from_neighbors.items())\n",
    "    similarity_sum = sum(neighborhood[utente] for utente in ratings_from_neighbors.index)\n",
    "\n",
    "    # Previsione del rating (evitare divisione per 0)\n",
    "    if similarity_sum != 0:\n",
    "        predicted_rating = weighted_sum / similarity_sum\n",
    "    else:\n",
    "        predicted_rating = np.nan\n",
    "\n",
    "    print(f\"\\nRating previsto per utente [{utente_target}] su {movie_dict[film_target]}: {predicted_rating:.2f}\")"
   ]
  },
  {
   "cell_type": "code",
   "execution_count": 62,
   "id": "c4bd2257e95685d4",
   "metadata": {
    "ExecuteTime": {
     "end_time": "2025-03-11T10:23:12.365010Z",
     "start_time": "2025-03-11T10:23:12.361187Z"
    }
   },
   "outputs": [
    {
     "name": "stdout",
     "output_type": "stream",
     "text": [
      "\n",
      "Vicinato dei 5 utenti di [420]:\n",
      " userId\n",
      "53     0.999852\n",
      "49     0.999849\n",
      "25     0.999848\n",
      "515    0.999848\n",
      "189    0.999842\n",
      "Name: 420, dtype: float64\n",
      "\n",
      "Rating previsto per utente [420] su Boot, Das (Boat, The) (1981): 3.70\n"
     ]
    }
   ],
   "source": [
    "chosen_user = random.choice(chosen_df_filled.index)\n",
    "chosen_film = random.choice(chosen_df_filled.columns)\n",
    "\n",
    "predict_rating(chosen_user, chosen_film, user_similarity_df)"
   ]
  },
  {
   "cell_type": "markdown",
   "id": "215ea546c4c5da92",
   "metadata": {},
   "source": [
    "####  Handle the personal bias by weighting the rating data present in the dataset"
   ]
  },
  {
   "cell_type": "code",
   "execution_count": 63,
   "id": "c61d9fa46836a18e",
   "metadata": {
    "ExecuteTime": {
     "end_time": "2025-03-11T10:23:12.457244Z",
     "start_time": "2025-03-11T10:23:12.404243Z"
    }
   },
   "outputs": [],
   "source": [
    "# Centrare i dati sottraendo la media dei rating per ogni utente\n",
    "user_means = chosen_df_filled.mean(axis=1)\n",
    "df_centered = chosen_df_filled.sub(user_means, axis=0)\n",
    "\n",
    "# Ricalcolare la similarità del coseno sui dati centrati\n",
    "user_similarity = cosine_similarity(df_centered)\n",
    "user_similarity_no_bias_df = pd.DataFrame(user_similarity, index=chosen_df_filled.index, columns=chosen_df_filled.index)"
   ]
  },
  {
   "cell_type": "code",
   "execution_count": 64,
   "id": "af4f8bd2e987dc92",
   "metadata": {
    "ExecuteTime": {
     "end_time": "2025-03-11T10:23:12.557717Z",
     "start_time": "2025-03-11T10:23:12.548063Z"
    }
   },
   "outputs": [
    {
     "name": "stdout",
     "output_type": "stream",
     "text": [
      "\n",
      "Vicinato dei 5 utenti di [420]:\n",
      " userId\n",
      "511    0.143875\n",
      "439    0.123935\n",
      "509    0.121544\n",
      "407    0.119308\n",
      "322    0.117237\n",
      "Name: 420, dtype: float64\n",
      "\n",
      "Rating previsto per utente [420] su Boot, Das (Boat, The) (1981): 3.73\n"
     ]
    }
   ],
   "source": [
    "predict_rating(chosen_user, chosen_film, user_similarity_no_bias_df)"
   ]
  },
  {
   "cell_type": "markdown",
   "id": "9dca303824796d31",
   "metadata": {},
   "source": [
    "#### Apply a Discount Factor in the calculation of similarity"
   ]
  },
  {
   "cell_type": "code",
   "execution_count": 65,
   "id": "be9ae14e9da2ed88",
   "metadata": {
    "ExecuteTime": {
     "end_time": "2025-03-11T10:36:41.900056Z",
     "start_time": "2025-03-11T10:36:40.276320Z"
    }
   },
   "outputs": [],
   "source": [
    "# Conteggio degli item in comune tra due utenti\n",
    "common_items_count = df_pivot.notna().astype(int).dot(df_pivot.notna().astype(int).T)\n",
    "\n",
    "# Discount factor: più bassa è la sovrapposizione, più forte è lo sconto\n",
    "min_common_items = 15  # Visto che minimo un utente ha recensito 20 film, scelto 15 come n# film comuni\n",
    "discount_factor = common_items_count / (common_items_count + min_common_items)\n",
    "\n",
    "# Applicare il discount factor alla similarità\n",
    "user_similarity_discounted = user_similarity_no_bias_df * discount_factor\n",
    "user_similarity_discounted_df = pd.DataFrame(user_similarity_discounted, index=chosen_df_filled.index, columns=chosen_df_filled.index)"
   ]
  },
  {
   "cell_type": "code",
   "execution_count": 66,
   "id": "2ce150abcc5bc2e4",
   "metadata": {
    "ExecuteTime": {
     "end_time": "2025-03-11T10:36:44.114833Z",
     "start_time": "2025-03-11T10:36:44.110070Z"
    }
   },
   "outputs": [
    {
     "name": "stdout",
     "output_type": "stream",
     "text": [
      "\n",
      "Vicinato dei 5 utenti di [420]:\n",
      " userId\n",
      "509    0.093495\n",
      "525    0.085984\n",
      "132    0.078459\n",
      "322    0.078158\n",
      "254    0.077016\n",
      "Name: 420, dtype: float64\n",
      "\n",
      "Rating previsto per utente [420] su Boot, Das (Boat, The) (1981): 3.70\n"
     ]
    }
   ],
   "source": [
    "predict_rating(chosen_user, chosen_film, user_similarity_discounted_df)"
   ]
  },
  {
   "cell_type": "markdown",
   "id": "9eeaa69409358a8",
   "metadata": {},
   "source": [
    "####  Integrate a strategy to handle the Long Tail Problem\n",
    "\n",
    "L'approccio \"Inverse User Frequency\" (IUF) è una tecnica utile per affrontare il Long Tail Problem in un sistema di raccomandazione. L'idea di base dell'IUF è di dare maggiore importanza agli oggetti (come film) che sono meno comuni tra gli utenti, ovvero quelli che appaiono meno frequentemente nelle interazioni. Questo approccio aiuta a contrastare la tendenza degli algoritmi di raccomandazione a favorire gli oggetti più popolari, promuovendo invece quelli che sono più specifici per ogni utente."
   ]
  },
  {
   "cell_type": "code",
   "execution_count": 67,
   "id": "e9cce3ebf7bf658",
   "metadata": {
    "ExecuteTime": {
     "end_time": "2025-03-11T13:09:35.670505Z",
     "start_time": "2025-03-11T13:09:34.110028Z"
    }
   },
   "outputs": [
    {
     "name": "stdout",
     "output_type": "stream",
     "text": [
      "<class 'pandas.core.frame.DataFrame'>\n",
      "Index: 610 entries, 1 to 610\n",
      "Columns: 9724 entries, 1 to 193609\n",
      "dtypes: float64(9724)\n",
      "memory usage: 45.3 MB\n",
      "None \n",
      "\n",
      "count    100836.000000\n",
      "mean         10.241887\n",
      "std           5.313311\n",
      "min           0.308701\n",
      "25%           6.413459\n",
      "50%           9.313441\n",
      "75%          13.002052\n",
      "max          32.067295\n",
      "dtype: float64\n"
     ]
    }
   ],
   "source": [
    "# 1. Calcolare il numero di utenti che hanno visto ogni film (non-NaN)\n",
    "num_users_per_movie = df_pivot.notna().sum()\n",
    "\n",
    "# 2. Calcolare l'Inverse User Frequency (IUF) per ciascun film\n",
    "total_users = df_pivot.shape[0]  # Numero totale di utenti (righe)\n",
    "iuf = np.log(total_users / num_users_per_movie)\n",
    "\n",
    "# 3. Creare una matrice IUF per ogni film (con le colonne in IUF)\n",
    "iuf_matrix = df_pivot.copy()  # Copia del dataframe per aggiungere l'IUF\n",
    "for movie in df_pivot.columns:\n",
    "    iuf_matrix[movie] = df_pivot[movie] * iuf[movie]  # Ponderare il rating per l'IUF\n",
    "\n",
    "print(iuf_matrix.info(), \"\\n\")\n",
    "print(iuf_matrix.stack().describe())"
   ]
  },
  {
   "cell_type": "code",
   "execution_count": 68,
   "id": "e7812d4d2bd6a68c",
   "metadata": {
    "ExecuteTime": {
     "end_time": "2025-03-11T13:10:43.446865Z",
     "start_time": "2025-03-11T13:10:43.308530Z"
    }
   },
   "outputs": [
    {
     "name": "stdout",
     "output_type": "stream",
     "text": [
      "userId       1         2         3         4         5         6         7    \\\n",
      "userId                                                                         \n",
      "1       1.000000  0.997283  0.995510  0.995110  0.997137  0.995764  0.995735   \n",
      "2       0.997283  1.000000  0.997369  0.996215  0.998781  0.996949  0.997268   \n",
      "3       0.995510  0.997369  1.000000  0.994412  0.997003  0.995237  0.995468   \n",
      "4       0.995110  0.996215  0.994412  1.000000  0.996040  0.994405  0.994624   \n",
      "5       0.997137  0.998781  0.997003  0.996040  1.000000  0.997054  0.996991   \n",
      "...          ...       ...       ...       ...       ...       ...       ...   \n",
      "606     0.988579  0.988913  0.987116  0.987326  0.988613  0.987826  0.987656   \n",
      "607     0.996283  0.997056  0.995342  0.994697  0.996990  0.995583  0.995480   \n",
      "608     0.989885  0.990100  0.988379  0.988113  0.990061  0.989671  0.988891   \n",
      "609     0.997128  0.998703  0.996901  0.995815  0.998516  0.997033  0.996924   \n",
      "610     0.987450  0.988175  0.986457  0.986054  0.987969  0.986745  0.986920   \n",
      "\n",
      "userId       8         9         10   ...       601       602       603  \\\n",
      "userId                                ...                                 \n",
      "1       0.997640  0.997213  0.995901  ...  0.996837  0.996665  0.987097   \n",
      "2       0.999269  0.998997  0.997494  ...  0.998526  0.998052  0.987532   \n",
      "3       0.997496  0.997252  0.995677  ...  0.996682  0.996278  0.985967   \n",
      "4       0.996376  0.996098  0.994892  ...  0.995758  0.995600  0.986586   \n",
      "5       0.998929  0.998604  0.997113  ...  0.998122  0.998180  0.987482   \n",
      "...          ...       ...       ...  ...       ...       ...       ...   \n",
      "606     0.989076  0.988943  0.988001  ...  0.988907  0.988427  0.981886   \n",
      "607     0.997294  0.996909  0.995551  ...  0.996522  0.996429  0.986813   \n",
      "608     0.990408  0.990007  0.988813  ...  0.989836  0.990083  0.980947   \n",
      "609     0.998940  0.998528  0.997074  ...  0.998027  0.997972  0.987443   \n",
      "610     0.988384  0.988019  0.987227  ...  0.988037  0.987522  0.979188   \n",
      "\n",
      "userId       604       605       606       607       608       609       610  \n",
      "userId                                                                        \n",
      "1       0.996672  0.995815  0.988579  0.996283  0.989885  0.997128  0.987450  \n",
      "2       0.998218  0.997022  0.988913  0.997056  0.990100  0.998703  0.988175  \n",
      "3       0.996474  0.995285  0.987116  0.995342  0.988379  0.996901  0.986457  \n",
      "4       0.995526  0.994381  0.987326  0.994697  0.988113  0.995815  0.986054  \n",
      "5       0.998149  0.996873  0.988613  0.996990  0.990061  0.998516  0.987969  \n",
      "...          ...       ...       ...       ...       ...       ...       ...  \n",
      "606     0.988376  0.988013  1.000000  0.987870  0.982833  0.988785  0.982169  \n",
      "607     0.996604  0.995418  0.987870  1.000000  0.989664  0.996907  0.987150  \n",
      "608     0.989923  0.989035  0.982833  0.989664  1.000000  0.990070  0.980675  \n",
      "609     0.998041  0.996943  0.988785  0.996907  0.990070  1.000000  0.987896  \n",
      "610     0.987496  0.987095  0.982169  0.987150  0.980675  0.987896  1.000000  \n",
      "\n",
      "[610 rows x 610 columns]\n"
     ]
    }
   ],
   "source": [
    "# Ricalcolo similarity con IUF\n",
    "iuf_matrix_filled = iuf_matrix.apply(lambda row: row.fillna(row.mean()), axis=1)\n",
    "cos_iuf_matrix = cosine_similarity(iuf_matrix_filled)\n",
    "\n",
    "# Creare un DataFrame per visualizzare la matrice di similarità\n",
    "iuf_similarity_df = pd.DataFrame(cos_iuf_matrix, index=iuf_matrix.index, columns=iuf_matrix.index)\n",
    "\n",
    "# Visualizzare la matrice di similarità\n",
    "print(iuf_similarity_df)"
   ]
  },
  {
   "cell_type": "code",
   "execution_count": 69,
   "id": "e7ee3c8406ee6ce1",
   "metadata": {
    "ExecuteTime": {
     "end_time": "2025-03-11T13:11:16.408456Z",
     "start_time": "2025-03-11T13:11:16.403421Z"
    }
   },
   "outputs": [
    {
     "name": "stdout",
     "output_type": "stream",
     "text": [
      "\n",
      "Vicinato dei 5 utenti di [420]:\n",
      " userId\n",
      "340    0.998354\n",
      "581    0.998352\n",
      "189    0.998332\n",
      "569    0.998332\n",
      "53     0.998326\n",
      "Name: 420, dtype: float64\n",
      "\n",
      "Rating previsto per utente [420] su Boot, Das (Boat, The) (1981): 3.70\n"
     ]
    }
   ],
   "source": [
    "predict_rating(chosen_user, chosen_film, iuf_similarity_df)"
   ]
  },
  {
   "cell_type": "markdown",
   "id": "f676e6a9",
   "metadata": {},
   "source": [
    "#  User-Based Nearest Neighbour Regression Collaborative Filtering"
   ]
  },
  {
   "cell_type": "code",
   "execution_count": 70,
   "id": "354c70ac",
   "metadata": {},
   "outputs": [],
   "source": [
    "import numpy as np\n",
    "import pandas as pd\n",
    "from sklearn.linear_model import LinearRegression"
   ]
  },
  {
   "cell_type": "code",
   "execution_count": 85,
   "id": "1e361738",
   "metadata": {},
   "outputs": [
    {
     "name": "stderr",
     "output_type": "stream",
     "text": [
      "C:\\Users\\lollo\\AppData\\Local\\Temp\\ipykernel_1468\\491380758.py:5: DeprecationWarning: DataFrameGroupBy.apply operated on the grouping columns. This behavior is deprecated, and in a future version of pandas the grouping columns will be excluded from the operation. Either pass `include_groups=False` to exclude the groupings or explicitly select the grouping columns after groupby to silence this warning.\n",
      "  .apply(lambda grp: grp.nlargest(k, 'pearson_corr'))\n"
     ]
    }
   ],
   "source": [
    "# Number of top similar users to retain\n",
    "k = 40  \n",
    "\n",
    "# Select the top-k most similar users for each user\n",
    "df_top_k_users = (\n",
    "    df_pearson\n",
    "    .groupby('user_1', group_keys=True)  # Group by each user\n",
    "    .apply(lambda grp: grp.nlargest(k, 'pearson_corr'))  # Take top-k by Pearson correlation\n",
    "    .reset_index(drop=True)  # Reset index for cleaner DataFrame\n",
    ")\n",
    "\n",
    "# Function to retrieve top-k neighbors for a given user\n",
    "def get_top_k_neighbors(u, similarity_df, k=10):\n",
    "    \"\"\"\n",
    "    Retrieves the top-k most similar users for a given user.\n",
    "\n",
    "    Parameters:\n",
    "    - u (int): The ID of the target user for whom we want to find similar users.\n",
    "    - similarity_df (pd.DataFrame): DataFrame containing pairwise user similarity scores.\n",
    "    - k (int, optional): Number of top neighbors to return (default is 10).\n",
    "\n",
    "    Returns:\n",
    "    - pd.Index: Index of the top-k most similar users.\n",
    "    \"\"\"\n",
    "    # Extract the similarity row corresponding to user 'u', excluding the user itself\n",
    "    sim_row = similarity_df.loc[u].drop(u, errors='ignore')\n",
    "    \n",
    "    # Sort similarities in descending order and select the top-k users\n",
    "    top_k = sim_row.nlargest(k).index  \n",
    "    return top_k\n"
   ]
  },
  {
   "cell_type": "code",
   "execution_count": null,
   "outputs": [],
   "source": [
    "def train_regression_for_user(u, df_pivot, user_avg, neighbors, min_common=2, verbose=False):\n",
    "    \"\"\"\n",
    "    Trains a linear regression model for a given user to predict their ratings \n",
    "    based on their neighbors' ratings.\n",
    "\n",
    "    Returns:\n",
    "      - w_{vu} (np.ndarray): The vector of regression weights for the user's neighbors.\n",
    "      - mse (float): The mean squared error (MSE) of the model on the training set.\n",
    "\n",
    "    Regression equation:\n",
    "        (r_{uj} - mu_u) = sum_v [ w_{vu} * (r_{vj} - mu_v) ]\n",
    "    for all items j that user u has rated.\n",
    "\n",
    "    Parameters:\n",
    "    - u (int): The target user ID for whom the regression model is being trained.\n",
    "    - df_pivot (pd.DataFrame): Pivot table of user-item ratings with NaN for missing values.\n",
    "    - user_avg (pd.Series): Series containing the average rating for each user.\n",
    "    - neighbors (list): List of neighbor user IDs to be used as features in the regression model.\n",
    "    - min_common (int, optional): Minimum number of rated items required to train the model (default = 2).\n",
    "    - verbose (bool, optional): If True, prints additional information about the training process (default = False).\n",
    "\n",
    "    Returns:\n",
    "    - np.ndarray: Array of learned weights (one for each neighbor).\n",
    "    - float: Mean squared error (MSE) on the training set. Returns np.nan if there are insufficient training points.\n",
    "    \"\"\"\n",
    "\n",
    "    # List of items rated by user u\n",
    "    user_ratings = df_pivot.loc[u]\n",
    "    items_rated_by_u = user_ratings[user_ratings.notna()].index\n",
    "\n",
    "    # Target vector Y (centered ratings) and feature matrix X\n",
    "    X = []  # Each row corresponds to a rated item with features from neighbors\n",
    "    Y = []  # Each element corresponds to the target value for that item\n",
    "\n",
    "    # Mean rating of user u\n",
    "    mu_u = user_avg[u]\n",
    "\n",
    "    # Build X (neighbor features) and Y (target) for each rated item\n",
    "    for item_j in items_rated_by_u:\n",
    "        r_uj = df_pivot.loc[u, item_j]  # User u's rating for item j\n",
    "        y_j = r_uj - mu_u               # Centered rating (target)\n",
    "        \n",
    "        row_features = []\n",
    "        # Build features for each neighbor's centered rating\n",
    "        for v in neighbors:\n",
    "            r_vj = df_pivot.loc[v, item_j]  # Neighbor v's rating for item j\n",
    "            if pd.isna(r_vj):  \n",
    "                # If the neighbor hasn't rated item j, use 0 (or fallback to their mean)\n",
    "                row_features.append(0.0)\n",
    "            else:\n",
    "                mu_v = user_avg[v]  # Mean rating of neighbor v\n",
    "                row_features.append(r_vj - mu_v)\n",
    "\n",
    "        X.append(row_features)\n",
    "        Y.append(y_j)\n",
    "\n",
    "    # Convert to numpy arrays for regression\n",
    "    X = np.array(X)\n",
    "    Y = np.array(Y)\n",
    "\n",
    "    # If there are too few data points, return zero weights and np.nan MSE\n",
    "    if len(Y) < min_common:\n",
    "        if verbose:\n",
    "            print(f\"[User {u}] Too few items for regression: {len(Y)} < {min_common}\")\n",
    "        return np.zeros(len(neighbors)), np.nan\n",
    "\n",
    "    # Train a linear regression model without an intercept\n",
    "    model = LinearRegression(fit_intercept=False)\n",
    "    model.fit(X, Y)\n",
    "\n",
    "    # Calculate MSE on the training set\n",
    "    Y_pred = model.predict(X)\n",
    "    mse = np.mean((Y_pred - Y)**2)\n",
    "\n",
    "    if verbose:\n",
    "        print(f\"[User {u}] MSE: {mse:.4f}\")\n",
    "\n",
    "    return model.coef_, mse"
   ],
   "metadata": {
    "collapsed": false
   },
   "id": "661bb45f32eda87d"
  },
  {
   "cell_type": "code",
   "execution_count": null,
   "outputs": [],
   "source": [
    "user_regression_models = {}  # Dictionary to store regression models for each user\n",
    "all_mse = []  # List to track MSE values across all users\n",
    "\n",
    "# Iterate over all users in the pivot table\n",
    "for u in df_pivot.index:\n",
    "    # Identify the top k neighbors for user u\n",
    "    neighbors_u = get_top_k_neighbors(u, user_similarity_df, k)\n",
    "    \n",
    "    # Train the regression model for user u\n",
    "    w_u, mse_u = train_regression_for_user(\n",
    "        u=u,                      # Current user ID\n",
    "        df_pivot=df_pivot,        # Pivot table with user-item ratings\n",
    "        user_avg=user_avg,        # Series with average user ratings\n",
    "        neighbors=neighbors_u,    # Identified top k neighbors\n",
    "        min_common=2,             # Minimum items in common for valid training\n",
    "        verbose=True              # Display MSE for each user during training\n",
    "    )\n",
    "    \n",
    "    # Store the trained model's results\n",
    "    user_regression_models[u] = {\n",
    "        'neighbors': neighbors_u,  # List of neighbor IDs\n",
    "        'weights': w_u             # Corresponding regression weights\n",
    "    }\n",
    "\n",
    "    # Collect the MSE value for performance analysis\n",
    "    all_mse.append(mse_u)\n",
    "\n",
    "# Compute and display the overall average MSE (ignoring NaN values)\n",
    "all_mse = [m for m in all_mse if not np.isnan(m)]\n",
    "if all_mse:\n",
    "    print(f\"\\nAverage MSE across all users: {np.mean(all_mse):.4f}\")\n",
    "else:\n",
    "    print(\"No MSE available (too many users with too few ratings?).\")"
   ],
   "metadata": {
    "collapsed": false
   },
   "id": "a3fc0258d3bef87a"
  },
  {
   "cell_type": "markdown",
   "source": [
    "![](images/img.png)"
   ],
   "metadata": {
    "collapsed": false
   },
   "id": "762f480bb70dfad5"
  },
  {
   "cell_type": "markdown",
   "source": [
    "![](images/img_1.png)"
   ],
   "metadata": {
    "collapsed": false
   },
   "id": "d026b1877b87a536"
  },
  {
   "cell_type": "code",
   "execution_count": null,
   "outputs": [],
   "source": [
    "def predict_rating_regression(u, j, df_pivot, user_avg, user_regression_models):\n",
    "    \"\"\"\n",
    "    Predicts the rating of user u for item j using the regression model's learned weights.\n",
    "\n",
    "    Parameters:\n",
    "    - u (int): ID of the user for whom the rating is predicted.\n",
    "    - j (int): ID of the item (movie) to predict the rating for.\n",
    "    - df_pivot (pd.DataFrame): Pivot table with users as rows, items as columns, and values as ratings.\n",
    "    - user_avg (pd.Series): Mean rating for each user.\n",
    "    - user_regression_models (dict): Dictionary containing for each user:\n",
    "        - 'neighbors': List of neighbors.\n",
    "        - 'weights': Vector of learned regression weights.\n",
    "\n",
    "    Returns:\n",
    "    - float: The predicted rating for user u on item j, or np.nan if the model is unavailable.\n",
    "    \"\"\"\n",
    "\n",
    "    # If the user has no regression model, return np.nan\n",
    "    if u not in user_regression_models:\n",
    "        return np.nan\n",
    "\n",
    "    # Retrieve neighbors and learned weights\n",
    "    neighbors = user_regression_models[u]['neighbors']\n",
    "    weights = user_regression_models[u]['weights']\n",
    "    mu_u = user_avg[u]  # Mean rating of user u\n",
    "\n",
    "    # Build the weighted contribution sum from neighbors\n",
    "    contribution_sum = 0.0\n",
    "    for w_vu, v in zip(weights, neighbors):\n",
    "        # Get neighbor v's rating for item j\n",
    "        r_vj = df_pivot.loc[v, j]\n",
    "        # If neighbor v hasn't rated item j, use their mean rating as a fallback\n",
    "        if pd.isna(r_vj):\n",
    "            r_vj = user_avg[v]\n",
    "\n",
    "        mu_v = user_avg[v]  # Mean rating of neighbor v\n",
    "        contribution_sum += w_vu * (r_vj - mu_v)  # Weighted contribution\n",
    "\n",
    "    # Return the predicted rating using the formula: r_{uj} = mu_u + sum_v [w_{vu} * (r_{vj} - mu_v)]\n",
    "    return mu_u + contribution_sum"
   ],
   "metadata": {
    "collapsed": false
   },
   "id": "90ea42d7e57dae26"
  },
  {
   "cell_type": "code",
   "execution_count": null,
   "id": "b7f3c74e",
   "metadata": {},
   "outputs": [
    {
     "name": "stdout",
     "output_type": "stream",
     "text": [
      "Rating previsto per l'utente 155 sull'item 3761: 3.61\n"
     ]
    }
   ],
   "source": [
    "# random user and item\n",
    "chosen_user = random.choice(df_pivot.index)\n",
    "chosen_item = random.choice(df_pivot.columns)\n",
    "\n",
    "# Predict the rating for the chosen user and item\n",
    "pred = predict_rating_regression(chosen_user, chosen_item, df_pivot, user_avg, user_regression_models)\n",
    "print(f\"Predicted rating for user {chosen_user} on item {chosen_item}: {pred:.2f}\")"
   ]
  }
 ],
 "metadata": {
  "kernelspec": {
   "display_name": "Python 3",
   "language": "python",
   "name": "python3"
  },
  "language_info": {
   "codemirror_mode": {
    "name": "ipython",
    "version": 3
   },
   "file_extension": ".py",
   "mimetype": "text/x-python",
   "name": "python",
   "nbconvert_exporter": "python",
   "pygments_lexer": "ipython3",
   "version": "3.11.9"
  }
 },
 "nbformat": 4,
 "nbformat_minor": 5
}
