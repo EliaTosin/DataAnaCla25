{
 "cells": [
  {
   "cell_type": "code",
   "id": "initial_id",
   "metadata": {
    "collapsed": true,
    "ExecuteTime": {
     "end_time": "2025-03-11T09:52:30.899386Z",
     "start_time": "2025-03-11T09:52:30.896483Z"
    }
   },
   "source": [
    "import pandas as pd\n",
    "import matplotlib.pyplot as plt\n",
    "import numpy as np\n",
    "from scipy.stats import pearsonr\n",
    "from sklearn.metrics.pairwise import cosine_similarity\n",
    "import random"
   ],
   "outputs": [],
   "execution_count": 110
  },
  {
   "cell_type": "markdown",
   "source": [
    "# Step 1: Load and Explore the Dataset"
   ],
   "metadata": {
    "collapsed": false
   },
   "id": "5a54cae31b9630a6"
  },
  {
   "cell_type": "code",
   "source": "df_ratings = pd.read_csv(\"ml-latest-small/ratings.csv\")",
   "metadata": {
    "collapsed": false,
    "ExecuteTime": {
     "end_time": "2025-03-11T09:52:30.959002Z",
     "start_time": "2025-03-11T09:52:30.942586Z"
    }
   },
   "id": "1423d2360ebb59a2",
   "outputs": [],
   "execution_count": 111
  },
  {
   "cell_type": "code",
   "source": [
    "df_ratings.info()"
   ],
   "metadata": {
    "collapsed": false,
    "ExecuteTime": {
     "end_time": "2025-03-11T09:52:31.021103Z",
     "start_time": "2025-03-11T09:52:31.017737Z"
    }
   },
   "id": "94a565684743e4ec",
   "outputs": [
    {
     "name": "stdout",
     "output_type": "stream",
     "text": [
      "<class 'pandas.core.frame.DataFrame'>\n",
      "RangeIndex: 100836 entries, 0 to 100835\n",
      "Data columns (total 4 columns):\n",
      " #   Column     Non-Null Count   Dtype  \n",
      "---  ------     --------------   -----  \n",
      " 0   userId     100836 non-null  int64  \n",
      " 1   movieId    100836 non-null  int64  \n",
      " 2   rating     100836 non-null  float64\n",
      " 3   timestamp  100836 non-null  int64  \n",
      "dtypes: float64(1), int64(3)\n",
      "memory usage: 3.1 MB\n"
     ]
    }
   ],
   "execution_count": 112
  },
  {
   "cell_type": "code",
   "source": [
    "df_ratings.describe()"
   ],
   "metadata": {
    "collapsed": false,
    "ExecuteTime": {
     "end_time": "2025-03-11T09:52:31.047893Z",
     "start_time": "2025-03-11T09:52:31.037322Z"
    }
   },
   "id": "80a7bf8e26ec6994",
   "outputs": [
    {
     "data": {
      "text/plain": [
       "              userId        movieId         rating     timestamp\n",
       "count  100836.000000  100836.000000  100836.000000  1.008360e+05\n",
       "mean      326.127564   19435.295718       3.501557  1.205946e+09\n",
       "std       182.618491   35530.987199       1.042529  2.162610e+08\n",
       "min         1.000000       1.000000       0.500000  8.281246e+08\n",
       "25%       177.000000    1199.000000       3.000000  1.019124e+09\n",
       "50%       325.000000    2991.000000       3.500000  1.186087e+09\n",
       "75%       477.000000    8122.000000       4.000000  1.435994e+09\n",
       "max       610.000000  193609.000000       5.000000  1.537799e+09"
      ],
      "text/html": [
       "<div>\n",
       "<style scoped>\n",
       "    .dataframe tbody tr th:only-of-type {\n",
       "        vertical-align: middle;\n",
       "    }\n",
       "\n",
       "    .dataframe tbody tr th {\n",
       "        vertical-align: top;\n",
       "    }\n",
       "\n",
       "    .dataframe thead th {\n",
       "        text-align: right;\n",
       "    }\n",
       "</style>\n",
       "<table border=\"1\" class=\"dataframe\">\n",
       "  <thead>\n",
       "    <tr style=\"text-align: right;\">\n",
       "      <th></th>\n",
       "      <th>userId</th>\n",
       "      <th>movieId</th>\n",
       "      <th>rating</th>\n",
       "      <th>timestamp</th>\n",
       "    </tr>\n",
       "  </thead>\n",
       "  <tbody>\n",
       "    <tr>\n",
       "      <th>count</th>\n",
       "      <td>100836.000000</td>\n",
       "      <td>100836.000000</td>\n",
       "      <td>100836.000000</td>\n",
       "      <td>1.008360e+05</td>\n",
       "    </tr>\n",
       "    <tr>\n",
       "      <th>mean</th>\n",
       "      <td>326.127564</td>\n",
       "      <td>19435.295718</td>\n",
       "      <td>3.501557</td>\n",
       "      <td>1.205946e+09</td>\n",
       "    </tr>\n",
       "    <tr>\n",
       "      <th>std</th>\n",
       "      <td>182.618491</td>\n",
       "      <td>35530.987199</td>\n",
       "      <td>1.042529</td>\n",
       "      <td>2.162610e+08</td>\n",
       "    </tr>\n",
       "    <tr>\n",
       "      <th>min</th>\n",
       "      <td>1.000000</td>\n",
       "      <td>1.000000</td>\n",
       "      <td>0.500000</td>\n",
       "      <td>8.281246e+08</td>\n",
       "    </tr>\n",
       "    <tr>\n",
       "      <th>25%</th>\n",
       "      <td>177.000000</td>\n",
       "      <td>1199.000000</td>\n",
       "      <td>3.000000</td>\n",
       "      <td>1.019124e+09</td>\n",
       "    </tr>\n",
       "    <tr>\n",
       "      <th>50%</th>\n",
       "      <td>325.000000</td>\n",
       "      <td>2991.000000</td>\n",
       "      <td>3.500000</td>\n",
       "      <td>1.186087e+09</td>\n",
       "    </tr>\n",
       "    <tr>\n",
       "      <th>75%</th>\n",
       "      <td>477.000000</td>\n",
       "      <td>8122.000000</td>\n",
       "      <td>4.000000</td>\n",
       "      <td>1.435994e+09</td>\n",
       "    </tr>\n",
       "    <tr>\n",
       "      <th>max</th>\n",
       "      <td>610.000000</td>\n",
       "      <td>193609.000000</td>\n",
       "      <td>5.000000</td>\n",
       "      <td>1.537799e+09</td>\n",
       "    </tr>\n",
       "  </tbody>\n",
       "</table>\n",
       "</div>"
      ]
     },
     "execution_count": 113,
     "metadata": {},
     "output_type": "execute_result"
    }
   ],
   "execution_count": 113
  },
  {
   "cell_type": "code",
   "source": "df_movies = pd.read_csv(\"ml-latest-small/movies.csv\")",
   "metadata": {
    "collapsed": false,
    "ExecuteTime": {
     "end_time": "2025-03-11T09:52:31.106753Z",
     "start_time": "2025-03-11T09:52:31.100655Z"
    }
   },
   "id": "b53cd1e17a28f512",
   "outputs": [],
   "execution_count": 114
  },
  {
   "cell_type": "code",
   "source": [
    "df_movies.info()"
   ],
   "metadata": {
    "collapsed": false,
    "ExecuteTime": {
     "end_time": "2025-03-11T09:52:31.148997Z",
     "start_time": "2025-03-11T09:52:31.144084Z"
    }
   },
   "id": "91c804c08b66c1a9",
   "outputs": [
    {
     "name": "stdout",
     "output_type": "stream",
     "text": [
      "<class 'pandas.core.frame.DataFrame'>\n",
      "RangeIndex: 9742 entries, 0 to 9741\n",
      "Data columns (total 3 columns):\n",
      " #   Column   Non-Null Count  Dtype \n",
      "---  ------   --------------  ----- \n",
      " 0   movieId  9742 non-null   int64 \n",
      " 1   title    9742 non-null   object\n",
      " 2   genres   9742 non-null   object\n",
      "dtypes: int64(1), object(2)\n",
      "memory usage: 228.5+ KB\n"
     ]
    }
   ],
   "execution_count": 115
  },
  {
   "cell_type": "markdown",
   "source": [
    "# Step 2: Analyze the Sparsity of the Rating Matrix"
   ],
   "metadata": {
    "collapsed": false
   },
   "id": "ddc43d748558ed91"
  },
  {
   "cell_type": "markdown",
   "source": [
    "#### Construct a user-item interaction matrix where rows represent users and columns represent movies, with ratings as values."
   ],
   "metadata": {
    "collapsed": false
   },
   "id": "7c12bd7d6497e1c2"
  },
  {
   "cell_type": "code",
   "source": [
    "df_pivot = df_ratings.pivot(index=\"userId\", columns=\"movieId\", values=\"rating\")\n",
    "df_pivot.info()"
   ],
   "metadata": {
    "collapsed": false,
    "ExecuteTime": {
     "end_time": "2025-03-11T09:52:31.367332Z",
     "start_time": "2025-03-11T09:52:31.181870Z"
    }
   },
   "id": "5265f14b824737f3",
   "outputs": [
    {
     "name": "stdout",
     "output_type": "stream",
     "text": [
      "<class 'pandas.core.frame.DataFrame'>\n",
      "Index: 610 entries, 1 to 610\n",
      "Columns: 9724 entries, 1 to 193609\n",
      "dtypes: float64(9724)\n",
      "memory usage: 45.3 MB\n"
     ]
    }
   ],
   "execution_count": 116
  },
  {
   "metadata": {
    "ExecuteTime": {
     "end_time": "2025-03-11T10:27:19.499336Z",
     "start_time": "2025-03-11T10:27:19.361868Z"
    }
   },
   "cell_type": "code",
   "source": [
    "# Contare il numero di rating effettuati da ciascun utente\n",
    "ratings_per_user = df_pivot.notna().sum(axis=1)\n",
    "\n",
    "plt.figure(figsize=(8, 6))\n",
    "plt.hist(ratings_per_user, bins=len(ratings_per_user.unique()))\n",
    "plt.title('Distribuzione del numero di rating per utente')\n",
    "plt.xlabel('Numero di rating')\n",
    "plt.ylabel('Frequenza')\n",
    "plt.show()\n",
    "\n",
    "print(ratings_per_user.describe())"
   ],
   "id": "75212297187174f9",
   "outputs": [
    {
     "data": {
      "text/plain": [
       "<Figure size 800x600 with 1 Axes>"
      ],
      "image/png": "[encoded data removed]"
     },
     "metadata": {},
     "output_type": "display_data"
    },
    {
     "name": "stdout",
     "output_type": "stream",
     "text": [
      "count     610.000000\n",
      "mean      165.304918\n",
      "std       269.480584\n",
      "min        20.000000\n",
      "25%        35.000000\n",
      "50%        70.500000\n",
      "75%       168.000000\n",
      "max      2698.000000\n",
      "dtype: float64\n"
     ]
    }
   ],
   "execution_count": 151
  },
  {
   "cell_type": "markdown",
   "source": [
    "####  Compute the sparsity of the matrix:"
   ],
   "metadata": {
    "collapsed": false
   },
   "id": "b45bee32c1e8e0e3"
  },
  {
   "cell_type": "code",
   "source": [
    "num_of_ratings = len(df_ratings)\n",
    "user_movie_pairs = len(df_ratings)*len(df_movies)\n",
    "sparsity = 1 - num_of_ratings/user_movie_pairs\n",
    "sparsity"
   ],
   "metadata": {
    "collapsed": false,
    "ExecuteTime": {
     "end_time": "2025-03-11T09:52:31.374549Z",
     "start_time": "2025-03-11T09:52:31.371632Z"
    }
   },
   "id": "696ac8462c991c96",
   "outputs": [
    {
     "data": {
      "text/plain": [
       "0.9998973516731677"
      ]
     },
     "execution_count": 117,
     "metadata": {},
     "output_type": "execute_result"
    }
   ],
   "execution_count": 117
  },
  {
   "cell_type": "markdown",
   "source": [
    "# Step 3: Handle Missing Values"
   ],
   "metadata": {
    "collapsed": false
   },
   "id": "3e615ef2a5f33b45"
  },
  {
   "cell_type": "markdown",
   "source": [
    "#### Identify movies and users with the most missing ratings."
   ],
   "metadata": {
    "collapsed": false
   },
   "id": "8763db707b220e15"
  },
  {
   "cell_type": "code",
   "source": [
    "# Conta i valori mancanti (NaN) per ogni film\n",
    "missing_by_movie = df_pivot.isna().sum().sort_values(ascending=False)\n",
    "\n",
    "# Converte gli ID in titoli usando movie_dict\n",
    "movie_dict = pd.Series(df_movies.title.values, index=df_movies.movieId).to_dict()\n",
    "missing_by_movie.index = missing_by_movie.index.map(movie_dict)\n",
    "\n",
    "# Mostra i film con più rating mancanti\n",
    "print(missing_by_movie.head(10))"
   ],
   "metadata": {
    "collapsed": false,
    "ExecuteTime": {
     "end_time": "2025-03-11T09:52:31.430077Z",
     "start_time": "2025-03-11T09:52:31.417936Z"
    }
   },
   "id": "2ed9b7869bf922d0",
   "outputs": [
    {
     "name": "stdout",
     "output_type": "stream",
     "text": [
      "movieId\n",
      "Andrew Dice Clay: Dice Rules (1991)                     609\n",
      "Drained (O cheiro do Ralo) (2006)                       609\n",
      "Everlasting Piece, An (2000)                            609\n",
      "Signal, The (2007)                                      609\n",
      "Untraceable (2008)                                      609\n",
      "First Sunday (2008)                                     609\n",
      "Cat Soup (Nekojiru-so) (2001)                           609\n",
      "Heaven and Earth (Ten to Chi to) (1990)                 609\n",
      "Hatchet (2006)                                          609\n",
      "In the Name of the King: A Dungeon Siege Tale (2008)    609\n",
      "dtype: int64\n"
     ]
    }
   ],
   "execution_count": 118
  },
  {
   "cell_type": "code",
   "source": [
    "# Conta i valori mancanti per ogni utente\n",
    "missing_by_user = df_pivot.isna().sum(axis=1).sort_values(ascending=False)\n",
    "\n",
    "# Mostra gli utenti con più rating mancanti\n",
    "print(missing_by_user.head(10))"
   ],
   "metadata": {
    "collapsed": false,
    "ExecuteTime": {
     "end_time": "2025-03-11T09:52:31.471709Z",
     "start_time": "2025-03-11T09:52:31.465150Z"
    }
   },
   "id": "2576cae1f7dcbba8",
   "outputs": [
    {
     "name": "stdout",
     "output_type": "stream",
     "text": [
      "userId\n",
      "595    9704\n",
      "207    9704\n",
      "406    9704\n",
      "189    9704\n",
      "442    9704\n",
      "194    9704\n",
      "278    9704\n",
      "569    9704\n",
      "147    9704\n",
      "257    9704\n",
      "dtype: int64\n"
     ]
    }
   ],
   "execution_count": 119
  },
  {
   "cell_type": "markdown",
   "source": [
    "#### Apply simple missing value imputation techniques:\n",
    "- Fill missing ratings with the movie’s average rating."
   ],
   "metadata": {
    "collapsed": false
   },
   "id": "720901cdf16f449d"
  },
  {
   "cell_type": "code",
   "source": [
    "# Calcola la media di ogni film (colonne)\n",
    "movie_avg = df_pivot.mean(axis=0)\n",
    "\n",
    "# Riempie i valori NaN con la media del film\n",
    "df_movie_avg_filled = df_pivot.apply(lambda col: col.fillna(movie_avg[col.name]), axis=0)"
   ],
   "metadata": {
    "collapsed": false,
    "ExecuteTime": {
     "end_time": "2025-03-11T09:52:32.077124Z",
     "start_time": "2025-03-11T09:52:31.509579Z"
    }
   },
   "id": "ed397eac57a0cf19",
   "outputs": [],
   "execution_count": 120
  },
  {
   "cell_type": "markdown",
   "source": [
    "✅ Pro:\n",
    "\n",
    "Tiene conto delle caratteristiche specifiche del film.\n",
    "Funziona bene se i film hanno ricevuto un numero decente di valutazioni.\n",
    "\n",
    "❌ Contro:\n",
    "\n",
    "I film poco recensiti rischiano di avere una media poco rappresentativa.\n",
    "Se un film non ha nessuna valutazione, rimane comunque un NaN.\n",
    "Non considera le preferenze individuali degli utenti.\n",
    "\n",
    "💡 Quando usarlo: Quando i film hanno abbastanza recensioni e vuoi mantenere una visione orientata al contenuto."
   ],
   "metadata": {
    "collapsed": false
   },
   "id": "292f42870fee997"
  },
  {
   "cell_type": "markdown",
   "source": [
    "- Fill missing ratings with the user’s average rating."
   ],
   "metadata": {
    "collapsed": false
   },
   "id": "ccb42595a48282ca"
  },
  {
   "cell_type": "code",
   "source": [
    "# Calcola la media di ogni utente (righe)\n",
    "user_avg = df_pivot.mean(axis=1)\n",
    "\n",
    "# Riempie i valori NaN con la media dell'utente\n",
    "df_user_avg_filled = df_pivot.apply(lambda row: row.fillna(user_avg[row.name]), axis=1)"
   ],
   "metadata": {
    "collapsed": false,
    "ExecuteTime": {
     "end_time": "2025-03-11T09:52:32.164222Z",
     "start_time": "2025-03-11T09:52:32.107171Z"
    }
   },
   "id": "60b4c0217a3444eb",
   "outputs": [],
   "execution_count": 121
  },
  {
   "cell_type": "markdown",
   "source": [
    "✅ Pro:\n",
    "\n",
    "Tiene conto delle preferenze personali di ciascun utente.\n",
    "È utile se alcuni utenti tendono a dare voti sempre alti o sempre bassi.\n",
    "\n",
    "❌ Contro:\n",
    "\n",
    "Non considera la qualità o popolarità del film, solo il comportamento dell'utente.\n",
    "Se un utente ha valutato pochissimi film, la sua media potrebbe non essere significativa.\n",
    "\n",
    "💡 Quando usarlo: Quando gli utenti hanno pattern di valutazione chiari (es. qualcuno vota sempre severo, qualcun altro sempre generoso)."
   ],
   "metadata": {
    "collapsed": false
   },
   "id": "bb891f540ccfd9a0"
  },
  {
   "cell_type": "markdown",
   "source": [
    "- Fill missing ratings with the global average rating."
   ],
   "metadata": {
    "collapsed": false
   },
   "id": "195581b12fb65c10"
  },
  {
   "cell_type": "code",
   "source": [
    "# Calcola la media globale\n",
    "global_avg = df_pivot.stack().mean() \n",
    "\n",
    "# Riempie i NaN con la media globale\n",
    "df_global_avg_filled = df_pivot.fillna(global_avg)"
   ],
   "metadata": {
    "collapsed": false,
    "ExecuteTime": {
     "end_time": "2025-03-11T09:52:32.238560Z",
     "start_time": "2025-03-11T09:52:32.195180Z"
    }
   },
   "id": "9afa4320b9a044fc",
   "outputs": [],
   "execution_count": 122
  },
  {
   "cell_type": "markdown",
   "source": [
    "✅ Pro:\n",
    "\n",
    "È semplice e veloce da applicare.\n",
    "Non lascia buchi: tutti i NaN vengono riempiti.\n",
    "\n",
    "❌ Contro:\n",
    "\n",
    "È molto generico: ignora sia le preferenze dell'utente che la popolarità/qualità del film.\n",
    "Può introdurre bias: se molti film hanno rating molto diversi dalla media globale, questa approssimazione è debole.\n",
    "\n",
    "💡 Quando usarlo: Quando hai molti valori mancanti e hai bisogno di un’imputazione di base, magari come punto di partenza per tecniche più avanzate."
   ],
   "metadata": {
    "collapsed": false
   },
   "id": "55e93833d9c8c68f"
  },
  {
   "metadata": {
    "ExecuteTime": {
     "end_time": "2025-03-11T09:52:32.272470Z",
     "start_time": "2025-03-11T09:52:32.270319Z"
    }
   },
   "cell_type": "code",
   "source": "chosen_df_filled = df_user_avg_filled",
   "id": "f69b8f829f8f25d1",
   "outputs": [],
   "execution_count": 123
  },
  {
   "cell_type": "markdown",
   "source": [
    "# Step 4: Week 2"
   ],
   "metadata": {
    "collapsed": false
   },
   "id": "4d90a8cb9b85adc2"
  },
  {
   "cell_type": "markdown",
   "source": [
    "#### Identify which kind of rating you have in the dataset"
   ],
   "metadata": {
    "collapsed": false
   },
   "id": "ea7734a223c431d"
  },
  {
   "cell_type": "code",
   "source": [
    "# Valori unici dei rating\n",
    "print(\"Uniques: \", df_ratings['rating'].unique())\n",
    "\n",
    "# Statistiche di base\n",
    "print(\"\\nStats: \\t\", df_ratings['rating'].describe())\n",
    "\n",
    "# Distribuzione dei rating\n",
    "plt.hist(df_ratings['rating'], bins=20)\n",
    "plt.title('Distribuzione dei rating')\n",
    "plt.xlabel('Rating')\n",
    "plt.ylabel('Frequenza')\n",
    "plt.show()"
   ],
   "metadata": {
    "collapsed": false,
    "ExecuteTime": {
     "end_time": "2025-03-11T09:52:32.361514Z",
     "start_time": "2025-03-11T09:52:32.305979Z"
    }
   },
   "id": "36e234caaa39b27e",
   "outputs": [
    {
     "name": "stdout",
     "output_type": "stream",
     "text": [
      "Uniques:  [4.  5.  3.  2.  1.  4.5 3.5 2.5 0.5 1.5]\n",
      "\n",
      "Stats: \t count    100836.000000\n",
      "mean          3.501557\n",
      "std           1.042529\n",
      "min           0.500000\n",
      "25%           3.000000\n",
      "50%           3.500000\n",
      "75%           4.000000\n",
      "max           5.000000\n",
      "Name: rating, dtype: float64\n"
     ]
    },
    {
     "data": {
      "text/plain": [
       "<Figure size 640x480 with 1 Axes>"
      ],
      "image/png": "[encoded data removed]"
     },
     "metadata": {},
     "output_type": "display_data"
    }
   ],
   "execution_count": 124
  },
  {
   "cell_type": "markdown",
   "source": [
    "#### Verify the ratings have a long tail distribution"
   ],
   "metadata": {
    "collapsed": false
   },
   "id": "b8fa142b73439c72"
  },
  {
   "cell_type": "code",
   "source": [
    "ratings_per_movie = df_pivot.count()\n",
    "\n",
    "plt.figure(figsize=(10, 6))\n",
    "\n",
    "plt.plot(ratings_per_movie.sort_values(ascending=False).values, label='Sorted Movie Ratings')\n",
    "plt.plot(ratings_per_movie.values, alpha=0.5, label=\"Movie Ratings\")\n",
    "\n",
    "plt.xlabel(\"Movies sorted by number of ratings\")\n",
    "plt.ylabel(\"Number of ratings\")\n",
    "plt.title(\"Long Tail Distribution of Movie Ratings\")\n",
    "plt.legend()\n",
    "plt.grid(True)\n",
    "plt.show()"
   ],
   "metadata": {
    "collapsed": false,
    "ExecuteTime": {
     "end_time": "2025-03-11T09:52:32.487100Z",
     "start_time": "2025-03-11T09:52:32.398062Z"
    }
   },
   "id": "4cb79ee81e78dc0a",
   "outputs": [
    {
     "data": {
      "text/plain": [
       "<Figure size 1000x600 with 1 Axes>"
      ],
      "image/png": "[encoded data removed]"
     },
     "metadata": {},
     "output_type": "display_data"
    }
   ],
   "execution_count": 125
  },
  {
   "metadata": {},
   "cell_type": "markdown",
   "source": "#### Implement a Neighbourhood Based Collaborative Filtering exploiting a user based approach to identify the neighborhood.",
   "id": "67c39f0ca404395c"
  },
  {
   "metadata": {},
   "cell_type": "markdown",
   "source": "#### 1. Pearson Coefficient",
   "id": "616dae511a50ff50"
  },
  {
   "metadata": {
    "ExecuteTime": {
     "end_time": "2025-03-11T09:53:21.735227Z",
     "start_time": "2025-03-11T09:52:32.527182Z"
    }
   },
   "cell_type": "code",
   "source": [
    "# Creiamo una lista di tuple (user_1, user_2, pearson_corr)\n",
    "correlations = []\n",
    "\n",
    "# Lista di utenti\n",
    "users = chosen_df_filled.index\n",
    "\n",
    "# Ciclo su tutte le coppie di utenti\n",
    "for i in range(len(users)):\n",
    "    for j in range(i + 1, len(users)):\n",
    "        user_1 = df_pivot.loc[users[i]]\n",
    "        user_2 = df_pivot.loc[users[j]]\n",
    "\n",
    "        # Trova i film valutati da entrambi\n",
    "        common_movies = user_1.notna() & user_2.notna()\n",
    "        ratings_1 = user_1[common_movies]\n",
    "        ratings_2 = user_2[common_movies]\n",
    "\n",
    "        # Calcola Pearson solo se ci sono almeno due valutazioni comuni\n",
    "        if len(ratings_1) > 1:\n",
    "            correlation, _ = pearsonr(ratings_1, ratings_2)\n",
    "        else:\n",
    "            correlation = None\n",
    "\n",
    "        # Aggiungi il risultato\n",
    "        correlations.append((users[i], users[j], correlation))\n",
    "\n",
    "# Creiamo un DataFrame con le correlazioni\n",
    "df_pearson = pd.DataFrame(correlations, columns=[\"user_1\", \"user_2\", \"pearson_corr\"])"
   ],
   "id": "395f7aba2de37dd8",
   "outputs": [
    {
     "name": "stderr",
     "output_type": "stream",
     "text": [
      "/tmp/ipykernel_138019/624115338.py:20: ConstantInputWarning: An input array is constant; the correlation coefficient is not defined.\n",
      "  correlation, _ = pearsonr(ratings_1, ratings_2)\n"
     ]
    }
   ],
   "execution_count": 126
  },
  {
   "metadata": {},
   "cell_type": "markdown",
   "source": [
    "🔗 Why Pearson Correlation was not used:\n",
    "\n",
    "- <b>Problemi con dati costanti:</b> come hai visto col warning `ConstantInputWarning`, se uno degli utenti ha varianza zero (ad esempio ha dato sempre lo stesso voto), Pearson non è definito. Questo è comune nei sistemi di raccomandazione con utenti che valutano pochi item."
   ],
   "id": "4152fe7989b80892"
  },
  {
   "metadata": {},
   "cell_type": "markdown",
   "source": "#### 2. Cosine Similarity",
   "id": "151858424336d4f7"
  },
  {
   "metadata": {
    "ExecuteTime": {
     "end_time": "2025-03-11T09:53:21.804076Z",
     "start_time": "2025-03-11T09:53:21.767617Z"
    }
   },
   "cell_type": "code",
   "source": [
    "# Calcolare la similarità del coseno tra gli utenti\n",
    "user_similarity = cosine_similarity(chosen_df_filled)\n",
    "# Creare un DataFrame di similarità\n",
    "user_similarity_df = pd.DataFrame(user_similarity, index=chosen_df_filled.index, columns=chosen_df_filled.index)\n",
    "print(\"Similarità tra utenti:\\n\", user_similarity_df)"
   ],
   "id": "e4500d3c61b3f602",
   "outputs": [
    {
     "name": "stdout",
     "output_type": "stream",
     "text": [
      "Similarità tra utenti:\n",
      " userId       1         2         3         4         5         6         7    \\\n",
      "userId                                                                         \n",
      "1       1.000000  0.999542  0.998167  0.998170  0.999449  0.998593  0.998280   \n",
      "2       0.999542  1.000000  0.998504  0.998423  0.999780  0.998977  0.998621   \n",
      "3       0.998167  0.998504  1.000000  0.997026  0.998369  0.997624  0.997253   \n",
      "4       0.998170  0.998423  0.997026  1.000000  0.998300  0.997575  0.997346   \n",
      "5       0.999449  0.999780  0.998369  0.998300  1.000000  0.998891  0.998533   \n",
      "...          ...       ...       ...       ...       ...       ...       ...   \n",
      "606     0.997387  0.997707  0.996196  0.996334  0.997630  0.996785  0.996549   \n",
      "607     0.999035  0.999311  0.997928  0.997901  0.999235  0.998496  0.998122   \n",
      "608     0.994793  0.994911  0.993479  0.993272  0.994811  0.994124  0.993817   \n",
      "609     0.999560  0.999899  0.998529  0.998450  0.999815  0.999032  0.998656   \n",
      "610     0.996034  0.996368  0.995062  0.994899  0.996241  0.995491  0.995394   \n",
      "\n",
      "userId       8         9         10   ...       601       602       603  \\\n",
      "userId                                ...                                 \n",
      "1       0.999451  0.999264  0.998673  ...  0.999553  0.999013  0.994362   \n",
      "2       0.999755  0.999588  0.999024  ...  0.999880  0.999356  0.994741   \n",
      "3       0.998357  0.998212  0.997647  ...  0.998507  0.997963  0.993470   \n",
      "4       0.998320  0.998133  0.997698  ...  0.998417  0.998039  0.993458   \n",
      "5       0.999657  0.999484  0.998893  ...  0.999785  0.999272  0.994689   \n",
      "...          ...       ...       ...  ...       ...       ...       ...   \n",
      "606     0.997615  0.997467  0.996732  ...  0.997745  0.997228  0.993243   \n",
      "607     0.999236  0.999015  0.998434  ...  0.999342  0.998852  0.994361   \n",
      "608     0.994938  0.994714  0.993841  ...  0.994996  0.994582  0.989936   \n",
      "609     0.999802  0.999613  0.999033  ...  0.999914  0.999410  0.994780   \n",
      "610     0.996258  0.996170  0.995396  ...  0.996370  0.995921  0.991668   \n",
      "\n",
      "userId       604       605       606       607       608       609       610  \n",
      "userId                                                                        \n",
      "1       0.999346  0.998835  0.997387  0.999035  0.994793  0.999560  0.996034  \n",
      "2       0.999707  0.999205  0.997707  0.999311  0.994911  0.999899  0.996368  \n",
      "3       0.998331  0.997827  0.996196  0.997928  0.993479  0.998529  0.995062  \n",
      "4       0.998244  0.997844  0.996334  0.997901  0.993272  0.998450  0.994899  \n",
      "5       0.999608  0.999076  0.997630  0.999235  0.994811  0.999815  0.996241  \n",
      "...          ...       ...       ...       ...       ...       ...       ...  \n",
      "606     0.997618  0.997079  1.000000  0.997184  0.993130  0.997749  0.994602  \n",
      "607     0.999147  0.998604  0.997184  1.000000  0.994516  0.999349  0.995851  \n",
      "608     0.994759  0.994216  0.993130  0.994516  1.000000  0.994985  0.991862  \n",
      "609     0.999749  0.999212  0.997749  0.999349  0.994985  1.000000  0.996361  \n",
      "610     0.996201  0.995899  0.994602  0.995851  0.991862  0.996361  1.000000  \n",
      "\n",
      "[610 rows x 610 columns]\n"
     ]
    }
   ],
   "execution_count": 127
  },
  {
   "metadata": {},
   "cell_type": "markdown",
   "source": [
    "📐 Cosine Similarity:\n",
    "\n",
    "- Misura l'angolo tra i vettori, non la distanza. In termini di raccomandazioni, ogni utente è un vettore di rating, e cosine si concentra sulla direzione piuttosto che sulla magnitudine.\n",
    "- Resistente alle scale diverse: se due utenti danno rating simili ma uno tende a dare voti più alti di default, la cosine similarity li considera comunque simili.\n",
    "- Funziona bene anche con molti valori mancanti: quando ci sono molti NaN (come accade nei sistemi di raccomandazione), la cosine similarity riesce comunque a cogliere pattern di somiglianza anche su pochi item comuni.\n",
    "\n",
    "#### 💡 Quando preferire cosine similarity:\n",
    "\n",
    "- Quando hai dati molto sparsi (molti NaN) — cosa molto comune nei sistemi di raccomandazione.\n",
    "- Quando ti interessa la similarità nella “forma” dei rating, più che nelle differenze assolute.\n",
    "- Quando vuoi evitare problemi di varianza zero.\n",
    "\n",
    "#### 🔍 Quando usare Pearson:\n",
    "\n",
    "- Se sai che i dati sono ben distribuiti e senza troppi valori mancanti.\n",
    "- Quando vuoi normalizzare la tendenza di ciascun utente (es. un utente che vota sempre alto vs. uno che vota sempre basso, anche se concordano nei pattern)."
   ],
   "id": "5881e5e4ea264fbf"
  },
  {
   "metadata": {
    "collapsed": false,
    "ExecuteTime": {
     "end_time": "2025-03-11T10:23:12.323839Z",
     "start_time": "2025-03-11T10:23:12.320963Z"
    }
   },
   "cell_type": "code",
   "source": [
    "def predict_rating(utente_target, film_target, user_similarity_df=user_similarity_df):\n",
    "    if utente_target not in chosen_df_filled.index:\n",
    "        raise ValueError(f\"L'utente {utente_target} non esiste nel dataset.\")\n",
    "    if film_target not in chosen_df_filled.columns:\n",
    "        raise ValueError(f\"Il film {film_target} non esiste nel dataset.\")\n",
    "\n",
    "    # Ordinare gli utenti in base alla similarità (escludendo l'utente stesso)\n",
    "    neighborhood = user_similarity_df[utente_target].drop(utente_target).sort_values(ascending=False)\n",
    "    print(f\"\\nVicinato dei 5 utenti di [{utente_target}]:\\n\", neighborhood[:5])\n",
    "\n",
    "    # Prendere solo i rating dei vicini per quel film\n",
    "    ratings_from_neighbors = chosen_df_filled.loc[neighborhood.index, film_target]\n",
    "\n",
    "    # Ponderare i rating in base alla similarità\n",
    "    weighted_sum = sum(rating * neighborhood[utente] for utente, rating in ratings_from_neighbors.items())\n",
    "    similarity_sum = sum(neighborhood[utente] for utente in ratings_from_neighbors.index)\n",
    "\n",
    "    # Previsione del rating (evitare divisione per 0)\n",
    "    if similarity_sum != 0:\n",
    "        predicted_rating = weighted_sum / similarity_sum\n",
    "    else:\n",
    "        predicted_rating = np.nan\n",
    "\n",
    "    print(f\"\\nRating previsto per utente [{utente_target}] su {movie_dict[film_target]}: {predicted_rating:.2f}\")"
   ],
   "id": "904bcd64e991beb5",
   "outputs": [],
   "execution_count": 142
  },
  {
   "metadata": {
    "ExecuteTime": {
     "end_time": "2025-03-11T10:23:12.365010Z",
     "start_time": "2025-03-11T10:23:12.361187Z"
    }
   },
   "cell_type": "code",
   "source": [
    "chosen_user = random.choice(chosen_df_filled.index)\n",
    "chosen_film = random.choice(chosen_df_filled.columns)\n",
    "\n",
    "predict_rating(chosen_user, chosen_film, user_similarity_df)"
   ],
   "id": "c4bd2257e95685d4",
   "outputs": [
    {
     "name": "stdout",
     "output_type": "stream",
     "text": [
      "\n",
      "Vicinato dei 5 utenti di [385]:\n",
      " userId\n",
      "440    0.999328\n",
      "53     0.999315\n",
      "72     0.999315\n",
      "118    0.999313\n",
      "515    0.999313\n",
      "Name: 385, dtype: float64\n",
      "\n",
      "Rating previsto per utente [385] su April Morning (1988): 3.66\n"
     ]
    }
   ],
   "execution_count": 143
  },
  {
   "metadata": {},
   "cell_type": "markdown",
   "source": "####  Handle the personal bias by weighting the rating data present in the dataset",
   "id": "215ea546c4c5da92"
  },
  {
   "metadata": {
    "ExecuteTime": {
     "end_time": "2025-03-11T10:23:12.457244Z",
     "start_time": "2025-03-11T10:23:12.404243Z"
    }
   },
   "cell_type": "code",
   "source": [
    "# Centrare i dati sottraendo la media dei rating per ogni utente\n",
    "user_means = chosen_df_filled.mean(axis=1)\n",
    "df_centered = chosen_df_filled.sub(user_means, axis=0)\n",
    "\n",
    "# Ricalcolare la similarità del coseno sui dati centrati\n",
    "user_similarity = cosine_similarity(df_centered)\n",
    "user_similarity_no_bias_df = pd.DataFrame(user_similarity, index=chosen_df_filled.index, columns=chosen_df_filled.index)"
   ],
   "id": "c61d9fa46836a18e",
   "outputs": [],
   "execution_count": 144
  },
  {
   "metadata": {
    "ExecuteTime": {
     "end_time": "2025-03-11T10:23:12.557717Z",
     "start_time": "2025-03-11T10:23:12.548063Z"
    }
   },
   "cell_type": "code",
   "source": "predict_rating(chosen_user, chosen_film, user_similarity_no_bias_df)",
   "id": "af4f8bd2e987dc92",
   "outputs": [
    {
     "name": "stdout",
     "output_type": "stream",
     "text": [
      "\n",
      "Vicinato dei 5 utenti di [385]:\n",
      " userId\n",
      "266    0.168142\n",
      "229    0.166996\n",
      "304    0.165835\n",
      "434    0.164360\n",
      "199    0.163569\n",
      "Name: 385, dtype: float64\n",
      "\n",
      "Rating previsto per utente [385] su April Morning (1988): 3.61\n"
     ]
    }
   ],
   "execution_count": 145
  },
  {
   "metadata": {},
   "cell_type": "markdown",
   "source": "#### Apply a Discount Factor in the calculation of similarity",
   "id": "9dca303824796d31"
  },
  {
   "metadata": {
    "ExecuteTime": {
     "end_time": "2025-03-11T10:36:41.900056Z",
     "start_time": "2025-03-11T10:36:40.276320Z"
    }
   },
   "cell_type": "code",
   "source": [
    "# Conteggio degli item in comune tra due utenti\n",
    "common_items_count = df_pivot.notna().astype(int).dot(df_pivot.notna().astype(int).T)\n",
    "\n",
    "# Discount factor: più bassa è la sovrapposizione, più forte è lo sconto\n",
    "min_common_items = 15  # Visto che minimo un utente ha recensito 20 film, scelto 15 come n# film comuni\n",
    "discount_factor = common_items_count / (common_items_count + min_common_items)\n",
    "\n",
    "# Applicare il discount factor alla similarità\n",
    "user_similarity_discounted = user_similarity_no_bias_df * discount_factor\n",
    "user_similarity_discounted_df = pd.DataFrame(user_similarity_discounted, index=chosen_df_filled.index, columns=chosen_df_filled.index)"
   ],
   "id": "be9ae14e9da2ed88",
   "outputs": [],
   "execution_count": 155
  },
  {
   "metadata": {
    "ExecuteTime": {
     "end_time": "2025-03-11T10:36:44.114833Z",
     "start_time": "2025-03-11T10:36:44.110070Z"
    }
   },
   "cell_type": "code",
   "source": "predict_rating(chosen_user, chosen_film, user_similarity_discounted_df)",
   "id": "2ce150abcc5bc2e4",
   "outputs": [
    {
     "name": "stdout",
     "output_type": "stream",
     "text": [
      "\n",
      "Vicinato dei 5 utenti di [385]:\n",
      " userId\n",
      "304    0.137243\n",
      "199    0.132900\n",
      "266    0.131589\n",
      "434    0.127005\n",
      "202    0.126683\n",
      "Name: 385, dtype: float64\n",
      "\n",
      "Rating previsto per utente [385] su April Morning (1988): 3.58\n"
     ]
    }
   ],
   "execution_count": 156
  },
  {
   "metadata": {},
   "cell_type": "markdown",
   "source": [
    "####  Integrate a strategy to handle the Long Tail Problem\n",
    "\n",
    "L'approccio \"Inverse User Frequency\" (IUF) è una tecnica utile per affrontare il Long Tail Problem in un sistema di raccomandazione. L'idea di base dell'IUF è di dare maggiore importanza agli oggetti (come film) che sono meno comuni tra gli utenti, ovvero quelli che appaiono meno frequentemente nelle interazioni. Questo approccio aiuta a contrastare la tendenza degli algoritmi di raccomandazione a favorire gli oggetti più popolari, promuovendo invece quelli che sono più specifici per ogni utente."
   ],
   "id": "9eeaa69409358a8"
  },
  {
   "metadata": {
    "ExecuteTime": {
     "end_time": "2025-03-11T13:09:35.670505Z",
     "start_time": "2025-03-11T13:09:34.110028Z"
    }
   },
   "cell_type": "code",
   "source": [
    "# 1. Calcolare il numero di utenti che hanno visto ogni film (non-NaN)\n",
    "num_users_per_movie = df_pivot.notna().sum()\n",
    "\n",
    "# 2. Calcolare l'Inverse User Frequency (IUF) per ciascun film\n",
    "total_users = df_pivot.shape[0]  # Numero totale di utenti (righe)\n",
    "iuf = np.log(total_users / num_users_per_movie)\n",
    "\n",
    "# 3. Creare una matrice IUF per ogni film (con le colonne in IUF)\n",
    "iuf_matrix = df_pivot.copy()  # Copia del dataframe per aggiungere l'IUF\n",
    "for movie in df_pivot.columns:\n",
    "    iuf_matrix[movie] = df_pivot[movie] * iuf[movie]  # Ponderare il rating per l'IUF\n",
    "\n",
    "print(iuf_matrix.info(), \"\\n\")\n",
    "print(iuf_matrix.stack().describe())"
   ],
   "id": "e9cce3ebf7bf658",
   "outputs": [
    {
     "name": "stdout",
     "output_type": "stream",
     "text": [
      "<class 'pandas.core.frame.DataFrame'>\n",
      "Index: 610 entries, 1 to 610\n",
      "Columns: 9724 entries, 1 to 193609\n",
      "dtypes: float64(9724)\n",
      "memory usage: 45.3 MB\n",
      "None \n",
      "\n",
      "count    100836.000000\n",
      "mean         10.241887\n",
      "std           5.313311\n",
      "min           0.308701\n",
      "25%           6.413459\n",
      "50%           9.313441\n",
      "75%          13.002052\n",
      "max          32.067295\n",
      "dtype: float64\n"
     ]
    }
   ],
   "execution_count": 169
  },
  {
   "metadata": {
    "ExecuteTime": {
     "end_time": "2025-03-11T13:10:43.446865Z",
     "start_time": "2025-03-11T13:10:43.308530Z"
    }
   },
   "cell_type": "code",
   "source": [
    "# Ricalcolo similarity con IUF\n",
    "iuf_matrix_filled = iuf_matrix.apply(lambda row: row.fillna(row.mean()), axis=1)\n",
    "cos_iuf_matrix = cosine_similarity(iuf_matrix_filled)\n",
    "\n",
    "# Creare un DataFrame per visualizzare la matrice di similarità\n",
    "iuf_similarity_df = pd.DataFrame(cos_iuf_matrix, index=iuf_matrix.index, columns=iuf_matrix.index)\n",
    "\n",
    "# Visualizzare la matrice di similarità\n",
    "print(iuf_similarity_df)"
   ],
   "id": "e7812d4d2bd6a68c",
   "outputs": [
    {
     "name": "stdout",
     "output_type": "stream",
     "text": [
      "userId       1         2         3         4         5         6         7    \\\n",
      "userId                                                                         \n",
      "1       1.000000  0.997283  0.995510  0.995110  0.997137  0.995764  0.995735   \n",
      "2       0.997283  1.000000  0.997369  0.996215  0.998781  0.996949  0.997268   \n",
      "3       0.995510  0.997369  1.000000  0.994412  0.997003  0.995237  0.995468   \n",
      "4       0.995110  0.996215  0.994412  1.000000  0.996040  0.994405  0.994624   \n",
      "5       0.997137  0.998781  0.997003  0.996040  1.000000  0.997054  0.996991   \n",
      "...          ...       ...       ...       ...       ...       ...       ...   \n",
      "606     0.988579  0.988913  0.987116  0.987326  0.988613  0.987826  0.987656   \n",
      "607     0.996283  0.997056  0.995342  0.994697  0.996990  0.995583  0.995480   \n",
      "608     0.989885  0.990100  0.988379  0.988113  0.990061  0.989671  0.988891   \n",
      "609     0.997128  0.998703  0.996901  0.995815  0.998516  0.997033  0.996924   \n",
      "610     0.987450  0.988175  0.986457  0.986054  0.987969  0.986745  0.986920   \n",
      "\n",
      "userId       8         9         10   ...       601       602       603  \\\n",
      "userId                                ...                                 \n",
      "1       0.997640  0.997213  0.995901  ...  0.996837  0.996665  0.987097   \n",
      "2       0.999269  0.998997  0.997494  ...  0.998526  0.998052  0.987532   \n",
      "3       0.997496  0.997252  0.995677  ...  0.996682  0.996278  0.985967   \n",
      "4       0.996376  0.996098  0.994892  ...  0.995758  0.995600  0.986586   \n",
      "5       0.998929  0.998604  0.997113  ...  0.998122  0.998180  0.987482   \n",
      "...          ...       ...       ...  ...       ...       ...       ...   \n",
      "606     0.989076  0.988943  0.988001  ...  0.988907  0.988427  0.981886   \n",
      "607     0.997294  0.996909  0.995551  ...  0.996522  0.996429  0.986813   \n",
      "608     0.990408  0.990007  0.988813  ...  0.989836  0.990083  0.980947   \n",
      "609     0.998940  0.998528  0.997074  ...  0.998027  0.997972  0.987443   \n",
      "610     0.988384  0.988019  0.987227  ...  0.988037  0.987522  0.979188   \n",
      "\n",
      "userId       604       605       606       607       608       609       610  \n",
      "userId                                                                        \n",
      "1       0.996672  0.995815  0.988579  0.996283  0.989885  0.997128  0.987450  \n",
      "2       0.998218  0.997022  0.988913  0.997056  0.990100  0.998703  0.988175  \n",
      "3       0.996474  0.995285  0.987116  0.995342  0.988379  0.996901  0.986457  \n",
      "4       0.995526  0.994381  0.987326  0.994697  0.988113  0.995815  0.986054  \n",
      "5       0.998149  0.996873  0.988613  0.996990  0.990061  0.998516  0.987969  \n",
      "...          ...       ...       ...       ...       ...       ...       ...  \n",
      "606     0.988376  0.988013  1.000000  0.987870  0.982833  0.988785  0.982169  \n",
      "607     0.996604  0.995418  0.987870  1.000000  0.989664  0.996907  0.987150  \n",
      "608     0.989923  0.989035  0.982833  0.989664  1.000000  0.990070  0.980675  \n",
      "609     0.998041  0.996943  0.988785  0.996907  0.990070  1.000000  0.987896  \n",
      "610     0.987496  0.987095  0.982169  0.987150  0.980675  0.987896  1.000000  \n",
      "\n",
      "[610 rows x 610 columns]\n"
     ]
    }
   ],
   "execution_count": 172
  },
  {
   "metadata": {
    "ExecuteTime": {
     "end_time": "2025-03-11T13:11:16.408456Z",
     "start_time": "2025-03-11T13:11:16.403421Z"
    }
   },
   "cell_type": "code",
   "source": "predict_rating(chosen_user, chosen_film, iuf_similarity_df)",
   "id": "e7ee3c8406ee6ce1",
   "outputs": [
    {
     "name": "stdout",
     "output_type": "stream",
     "text": [
      "\n",
      "Vicinato dei 5 utenti di [385]:\n",
      " userId\n",
      "276    0.998132\n",
      "568    0.998087\n",
      "134    0.998082\n",
      "26     0.998081\n",
      "404    0.998073\n",
      "Name: 385, dtype: float64\n",
      "\n",
      "Rating previsto per utente [385] su April Morning (1988): 3.66\n"
     ]
    }
   ],
   "execution_count": 173
  }
 ],
 "metadata": {
  "kernelspec": {
   "display_name": "Python 3",
   "language": "python",
   "name": "python3"
  },
  "language_info": {
   "codemirror_mode": {
    "name": "ipython",
    "version": 2
   },
   "file_extension": ".py",
   "mimetype": "text/x-python",
   "name": "python",
   "nbconvert_exporter": "python",
   "pygments_lexer": "ipython2",
   "version": "2.7.6"
  }
 },
 "nbformat": 4,
 "nbformat_minor": 5
}
