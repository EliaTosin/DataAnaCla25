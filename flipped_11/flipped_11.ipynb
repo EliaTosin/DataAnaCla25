{
 "cells": [
  {
   "cell_type": "code",
   "id": "788747e7",
   "metadata": {
    "ExecuteTime": {
     "end_time": "2025-05-05T17:24:04.713343Z",
     "start_time": "2025-05-05T17:24:04.552275Z"
    }
   },
   "source": [
    "import pandas as pd\n",
    "import numpy as np\n",
    "import random\n",
    "\n",
    "from sklearn.feature_extraction.text import TfidfVectorizer\n",
    "from sklearn.metrics.pairwise import cosine_similarity\n",
    "from sklearn.metrics import roc_auc_score\n",
    "from sentence_transformers import SentenceTransformer\n",
    "import matplotlib.pyplot as plt\n",
    "from tqdm import tqdm"
   ],
   "outputs": [],
   "execution_count": 45
  },
  {
   "metadata": {},
   "cell_type": "markdown",
   "source": "Load all data",
   "id": "72ebfc6a5e7432bc"
  },
  {
   "metadata": {
    "ExecuteTime": {
     "end_time": "2025-05-05T17:16:45.510356Z",
     "start_time": "2025-05-05T17:16:44.727879Z"
    }
   },
   "cell_type": "code",
   "source": [
    "def load_news(news_path):\n",
    "    df = pd.read_csv(news_path, sep='\\t', header=None,\n",
    "                     names=['news_id', 'category', 'subcategory', 'title', 'abstract', 'url', 'title_entities', 'abstract_entities'])\n",
    "    df['content'] = df['title'].fillna('') + ' ' + df['abstract'].fillna('')\n",
    "    return df[['news_id', 'content']]\n",
    "\n",
    "train_news = load_news('MINDsmall_train/news.tsv')\n",
    "dev_news = load_news('MINDsmall_dev/news.tsv')\n",
    "# Check for duplicates on news_id and content\n",
    "all_news = pd.concat([train_news, dev_news]).drop_duplicates(['news_id', 'content'])"
   ],
   "id": "42fd275555768bce",
   "outputs": [],
   "execution_count": 34
  },
  {
   "metadata": {
    "ExecuteTime": {
     "end_time": "2025-05-05T17:16:45.550589Z",
     "start_time": "2025-05-05T17:16:45.545796Z"
    }
   },
   "cell_type": "code",
   "source": "all_news.head()",
   "id": "dba939476f1b551b",
   "outputs": [
    {
     "data": {
      "text/plain": [
       "  news_id                                            content\n",
       "0  N55528  The Brands Queen Elizabeth, Prince Charles, an...\n",
       "1  N19639  50 Worst Habits For Belly Fat These seemingly ...\n",
       "2  N61837  The Cost of Trump's Aid Freeze in the Trenches...\n",
       "3  N53526  I Was An NBA Wife. Here's How It Affected My M...\n",
       "4  N38324  How to Get Rid of Skin Tags, According to a De..."
      ],
      "text/html": [
       "<div>\n",
       "<style scoped>\n",
       "    .dataframe tbody tr th:only-of-type {\n",
       "        vertical-align: middle;\n",
       "    }\n",
       "\n",
       "    .dataframe tbody tr th {\n",
       "        vertical-align: top;\n",
       "    }\n",
       "\n",
       "    .dataframe thead th {\n",
       "        text-align: right;\n",
       "    }\n",
       "</style>\n",
       "<table border=\"1\" class=\"dataframe\">\n",
       "  <thead>\n",
       "    <tr style=\"text-align: right;\">\n",
       "      <th></th>\n",
       "      <th>news_id</th>\n",
       "      <th>content</th>\n",
       "    </tr>\n",
       "  </thead>\n",
       "  <tbody>\n",
       "    <tr>\n",
       "      <th>0</th>\n",
       "      <td>N55528</td>\n",
       "      <td>The Brands Queen Elizabeth, Prince Charles, an...</td>\n",
       "    </tr>\n",
       "    <tr>\n",
       "      <th>1</th>\n",
       "      <td>N19639</td>\n",
       "      <td>50 Worst Habits For Belly Fat These seemingly ...</td>\n",
       "    </tr>\n",
       "    <tr>\n",
       "      <th>2</th>\n",
       "      <td>N61837</td>\n",
       "      <td>The Cost of Trump's Aid Freeze in the Trenches...</td>\n",
       "    </tr>\n",
       "    <tr>\n",
       "      <th>3</th>\n",
       "      <td>N53526</td>\n",
       "      <td>I Was An NBA Wife. Here's How It Affected My M...</td>\n",
       "    </tr>\n",
       "    <tr>\n",
       "      <th>4</th>\n",
       "      <td>N38324</td>\n",
       "      <td>How to Get Rid of Skin Tags, According to a De...</td>\n",
       "    </tr>\n",
       "  </tbody>\n",
       "</table>\n",
       "</div>"
      ]
     },
     "execution_count": 35,
     "metadata": {},
     "output_type": "execute_result"
    }
   ],
   "execution_count": 35
  },
  {
   "metadata": {
    "ExecuteTime": {
     "end_time": "2025-05-05T17:46:13.774435Z",
     "start_time": "2025-05-05T17:46:13.770792Z"
    }
   },
   "cell_type": "code",
   "source": "all_news.loc[0].content",
   "id": "e118962572bd34b5",
   "outputs": [
    {
     "data": {
      "text/plain": [
       "\"The Brands Queen Elizabeth, Prince Charles, and Prince Philip Swear By Shop the notebooks, jackets, and more that the royals can't live without.\""
      ]
     },
     "execution_count": 50,
     "metadata": {},
     "output_type": "execute_result"
    }
   ],
   "execution_count": 50
  },
  {
   "metadata": {
    "ExecuteTime": {
     "end_time": "2025-05-05T17:16:45.709421Z",
     "start_time": "2025-05-05T17:16:45.642345Z"
    }
   },
   "cell_type": "code",
   "source": "all_news.describe()",
   "id": "ce3f002d855e7a88",
   "outputs": [
    {
     "data": {
      "text/plain": [
       "       news_id                                            content\n",
       "count    65238                                              65238\n",
       "unique   65238                                              64277\n",
       "top     N55528  Photos of the Day Our top photos from the last...\n",
       "freq         1                                                 15"
      ],
      "text/html": [
       "<div>\n",
       "<style scoped>\n",
       "    .dataframe tbody tr th:only-of-type {\n",
       "        vertical-align: middle;\n",
       "    }\n",
       "\n",
       "    .dataframe tbody tr th {\n",
       "        vertical-align: top;\n",
       "    }\n",
       "\n",
       "    .dataframe thead th {\n",
       "        text-align: right;\n",
       "    }\n",
       "</style>\n",
       "<table border=\"1\" class=\"dataframe\">\n",
       "  <thead>\n",
       "    <tr style=\"text-align: right;\">\n",
       "      <th></th>\n",
       "      <th>news_id</th>\n",
       "      <th>content</th>\n",
       "    </tr>\n",
       "  </thead>\n",
       "  <tbody>\n",
       "    <tr>\n",
       "      <th>count</th>\n",
       "      <td>65238</td>\n",
       "      <td>65238</td>\n",
       "    </tr>\n",
       "    <tr>\n",
       "      <th>unique</th>\n",
       "      <td>65238</td>\n",
       "      <td>64277</td>\n",
       "    </tr>\n",
       "    <tr>\n",
       "      <th>top</th>\n",
       "      <td>N55528</td>\n",
       "      <td>Photos of the Day Our top photos from the last...</td>\n",
       "    </tr>\n",
       "    <tr>\n",
       "      <th>freq</th>\n",
       "      <td>1</td>\n",
       "      <td>15</td>\n",
       "    </tr>\n",
       "  </tbody>\n",
       "</table>\n",
       "</div>"
      ]
     },
     "execution_count": 36,
     "metadata": {},
     "output_type": "execute_result"
    }
   ],
   "execution_count": 36
  },
  {
   "metadata": {
    "ExecuteTime": {
     "end_time": "2025-05-05T17:56:41.138067Z",
     "start_time": "2025-05-05T17:56:41.134790Z"
    }
   },
   "cell_type": "code",
   "source": [
    "print(\"Size of the train dataset:\", train_news.shape[0])\n",
    "print(\"Size of the test dataset:\", dev_news.shape[0])"
   ],
   "id": "6010c3a67808b58a",
   "outputs": [
    {
     "name": "stdout",
     "output_type": "stream",
     "text": [
      "Size of the train dataset: 51282\n",
      "Size of the test dataset: 42416\n"
     ]
    }
   ],
   "execution_count": 52
  },
  {
   "cell_type": "markdown",
   "id": "a0b810e2",
   "metadata": {},
   "source": "train TF-IDF"
  },
  {
   "cell_type": "code",
   "id": "f9fdef17",
   "metadata": {
    "ExecuteTime": {
     "end_time": "2025-05-05T17:16:46.717348Z",
     "start_time": "2025-05-05T17:16:45.784336Z"
    }
   },
   "source": [
    "# TF-IDF vectorization\n",
    "vectorizer = TfidfVectorizer(stop_words='english', max_features=5000)\n",
    "news_vectors = vectorizer.fit_transform(train_news['content'])  # only train content for training\n",
    "\n",
    "# Map news_id to index\n",
    "news_id_to_index = dict(zip(train_news['news_id'], range(len(train_news))))"
   ],
   "outputs": [],
   "execution_count": 37
  },
  {
   "metadata": {},
   "cell_type": "markdown",
   "source": "Calculate embeddings",
   "id": "a265e7be910b2eb4"
  },
  {
   "metadata": {
    "ExecuteTime": {
     "end_time": "2025-05-05T17:21:05.350651Z",
     "start_time": "2025-05-05T17:16:46.800353Z"
    }
   },
   "cell_type": "code",
   "source": [
    "# Load the embedding model\n",
    "model = SentenceTransformer('all-MiniLM-L6-v2')\n",
    "# Compute embeddings for all text rows\n",
    "embeddings = model.encode(train_news['content'].tolist(), show_progress_bar=True)"
   ],
   "id": "49661aa2cf62f844",
   "outputs": [
    {
     "data": {
      "text/plain": [
       "Batches:   0%|          | 0/1603 [00:00<?, ?it/s]"
      ],
      "application/vnd.jupyter.widget-view+json": {
       "version_major": 2,
       "version_minor": 0,
       "model_id": "a0698d9931b74d638963539070123c1e"
      }
     },
     "metadata": {},
     "output_type": "display_data"
    }
   ],
   "execution_count": 38
  },
  {
   "cell_type": "markdown",
   "id": "ce861971",
   "metadata": {},
   "source": [
    "Load Training Behaviors and Build User Profiles"
   ]
  },
  {
   "cell_type": "code",
   "id": "1e8c19bc",
   "metadata": {
    "ExecuteTime": {
     "end_time": "2025-05-05T17:21:36.406712Z",
     "start_time": "2025-05-05T17:21:05.418580Z"
    }
   },
   "source": [
    "train_behaviors = pd.read_csv('MINDsmall_train/behaviors.tsv', sep='\\t', header=None,\n",
    "                              names=['impression_id', 'user_id', 'time', 'history', 'impressions'])\n",
    "\n",
    "user_profiles = {}\n",
    "\n",
    "for _, row in train_behaviors.iterrows():\n",
    "    user = row['user_id']\n",
    "    history = row['history']\n",
    "    if pd.isna(history): continue\n",
    "    history_ids = [nid for nid in history.split() if nid in news_id_to_index]\n",
    "    if not history_ids: continue\n",
    "    indices = [news_id_to_index[nid] for nid in history_ids]\n",
    "    profile_vector = news_vectors[indices].mean(axis=0)\n",
    "    user_profiles[user] = profile_vector"
   ],
   "outputs": [],
   "execution_count": 39
  },
  {
   "metadata": {
    "ExecuteTime": {
     "end_time": "2025-05-05T17:21:46.648038Z",
     "start_time": "2025-05-05T17:21:36.441810Z"
    }
   },
   "cell_type": "code",
   "source": [
    "user_embed_profiles = {}\n",
    "\n",
    "for _, row in train_behaviors.iterrows():\n",
    "    user = row['user_id']\n",
    "    history = row['history']\n",
    "    if pd.isna(history): continue\n",
    "    history_ids = [nid for nid in history.split() if nid in news_id_to_index]\n",
    "    if not history_ids: continue\n",
    "    indices = [news_id_to_index[nid] for nid in history_ids]\n",
    "    user_embedding = np.mean([embeddings[i] for i in indices], axis=0)\n",
    "    user_embed_profiles[user] = user_embedding.reshape(1, -1)  # Reshape to 2D array for cosine similarity"
   ],
   "id": "b5a4bf9840129223",
   "outputs": [],
   "execution_count": 40
  },
  {
   "cell_type": "markdown",
   "id": "9253a52a",
   "metadata": {},
   "source": [
    "Evaluate the model on the dev set"
   ]
  },
  {
   "cell_type": "code",
   "id": "d067c1d8",
   "metadata": {
    "ExecuteTime": {
     "end_time": "2025-05-05T17:21:46.990966Z",
     "start_time": "2025-05-05T17:21:46.681692Z"
    }
   },
   "source": [
    "dev_behaviors = pd.read_csv('MINDsmall_dev/behaviors.tsv', sep='\\t', header=None,\n",
    "                            names=['impression_id', 'user_id', 'time', 'history', 'impressions'])\n",
    "\n",
    "\n",
    "def mrr(scores, labels):\n",
    "    sorted_labels = [l for _, l in sorted(zip(scores, labels), reverse=True)]\n",
    "    for i, label in enumerate(sorted_labels):\n",
    "        if label == 1:\n",
    "            return 1.0 / (i + 1)\n",
    "    return 0.0\n",
    "\n",
    "def ndcg(scores, labels, k):\n",
    "    sorted_labels = [l for _, l in sorted(zip(scores, labels), reverse=True)][:k]\n",
    "    dcg = sum([1.0 / np.log2(i + 2) if l == 1 else 0 for i, l in enumerate(sorted_labels)])\n",
    "    ideal_dcg = sum([1.0 / np.log2(i + 2) for i in range(min(sum(labels), k))])\n",
    "    return dcg / ideal_dcg if ideal_dcg > 0 else 0.0\n",
    "\n",
    "def evaluate(dev_behaviors, news_id_to_index, news_vectors, user_profiles):\n",
    "    aucs, mrrs, ndcg5s, ndcg10s = [], [], [], []\n",
    "\n",
    "    for _, row in tqdm(dev_behaviors.iterrows(), total=len(dev_behaviors)):\n",
    "        user = row['user_id']\n",
    "        impressions = [imp.split('-') for imp in row['impressions'].split()]\n",
    "        news_ids = [nid for nid, _ in impressions if nid in news_id_to_index]\n",
    "        labels = [int(label) for nid, label in impressions if nid in news_id_to_index]\n",
    "\n",
    "        if not news_ids or user not in user_profiles or len(set(labels)) == 1:\n",
    "            continue\n",
    "\n",
    "        profile_vector = np.asarray(user_profiles[user])  # Convert to numpy array\n",
    "        candidate_idxs = [news_id_to_index[nid] for nid in news_ids]\n",
    "        candidate_vectors = news_vectors[candidate_idxs]\n",
    "        # print(f\"Candidate vectors shape: {candidate_vectors.shape}\")\n",
    "        # print(f\"Profile vector shape: {profile_vector.shape}\")\n",
    "        sims = cosine_similarity(profile_vector, candidate_vectors).flatten()\n",
    "\n",
    "        aucs.append(roc_auc_score(labels, sims, multi_class='ovr'))\n",
    "        mrrs.append(mrr(sims, labels))\n",
    "        ndcg5s.append(ndcg(sims, labels, 5))\n",
    "        ndcg10s.append(ndcg(sims, labels, 10))\n",
    "\n",
    "    return {\n",
    "        'AUC': np.mean(aucs),\n",
    "        'MRR': np.mean(mrrs),\n",
    "        'nDCG@5': np.mean(ndcg5s),\n",
    "        'nDCG@10': np.mean(ndcg10s)\n",
    "    }"
   ],
   "outputs": [],
   "execution_count": 41
  },
  {
   "cell_type": "markdown",
   "id": "a20d5d42",
   "metadata": {},
   "source": [
    "Evaluate a baseline system (random reccomender)"
   ]
  },
  {
   "cell_type": "code",
   "id": "9e95af6d",
   "metadata": {
    "ExecuteTime": {
     "end_time": "2025-05-05T17:21:47.031346Z",
     "start_time": "2025-05-05T17:21:47.027375Z"
    }
   },
   "source": [
    "def evaluate_random(dev_behaviors, news_id_to_index):\n",
    "    aucs, mrrs, ndcg5s, ndcg10s = [], [], [], []\n",
    "\n",
    "    for _, row in tqdm(dev_behaviors.iterrows(), total=len(dev_behaviors)):\n",
    "        impressions = [imp.split('-') for imp in row['impressions'].split()]\n",
    "        news_ids = [nid for nid, _ in impressions if nid in news_id_to_index]\n",
    "        labels = [int(label) for nid, label in impressions if nid in news_id_to_index]\n",
    "\n",
    "        if not news_ids or len(set(labels)) == 1:\n",
    "            continue\n",
    "\n",
    "        random_scores = [random.random() for _ in labels]\n",
    "\n",
    "        aucs.append(roc_auc_score(labels, random_scores))\n",
    "        mrrs.append(mrr(random_scores, labels))\n",
    "        ndcg5s.append(ndcg(random_scores, labels, 5))\n",
    "        ndcg10s.append(ndcg(random_scores, labels, 10))\n",
    "\n",
    "    return {\n",
    "        'AUC': np.mean(aucs),\n",
    "        'MRR': np.mean(mrrs),\n",
    "        'nDCG@5': np.mean(ndcg5s),\n",
    "        'nDCG@10': np.mean(ndcg10s)\n",
    "    }"
   ],
   "outputs": [],
   "execution_count": 42
  },
  {
   "cell_type": "markdown",
   "id": "416970ca",
   "metadata": {},
   "source": [
    "Compare results"
   ]
  },
  {
   "cell_type": "code",
   "id": "34ed52e3",
   "metadata": {
    "ExecuteTime": {
     "end_time": "2025-05-05T17:22:50.801121Z",
     "start_time": "2025-05-05T17:21:47.104892Z"
    }
   },
   "source": [
    "cb_results = evaluate(dev_behaviors, news_id_to_index, news_vectors, user_profiles)\n",
    "rand_results = evaluate_random(dev_behaviors, news_id_to_index)\n",
    "embed_results = evaluate(dev_behaviors, news_id_to_index, embeddings, user_embed_profiles)\n",
    "\n",
    "# Display comparison\n",
    "print(\"Content-Based Recommender Performance:\")\n",
    "for metric, score in cb_results.items():\n",
    "    print(f\"{metric}: {score:.4f}\")\n",
    "\n",
    "print(\"\\nContent-Based Embedding Recommender Performance:\")\n",
    "for metric, score in embed_results.items():\n",
    "    print(f\"{metric}: {score:.4f}\")\n",
    "\n",
    "print(\"\\nRandom Recommender Performance:\")\n",
    "for metric, score in rand_results.items():\n",
    "    print(f\"{metric}: {score:.4f}\")"
   ],
   "outputs": [
    {
     "name": "stderr",
     "output_type": "stream",
     "text": [
      "100%|██████████| 73152/73152 [00:10<00:00, 7276.64it/s]\n",
      "100%|██████████| 73152/73152 [00:37<00:00, 1926.84it/s]\n",
      "100%|██████████| 73152/73152 [00:15<00:00, 4682.98it/s]"
     ]
    },
    {
     "name": "stdout",
     "output_type": "stream",
     "text": [
      "Content-Based Recommender Performance:\n",
      "AUC: 0.5736\n",
      "MRR: 0.3466\n",
      "nDCG@5: 0.3342\n",
      "nDCG@10: 0.3948\n",
      "\n",
      "Content-Based Embedding Recommender Performance:\n",
      "AUC: 0.6415\n",
      "MRR: 0.3738\n",
      "nDCG@5: 0.3637\n",
      "nDCG@10: 0.4205\n",
      "\n",
      "Random Recommender Performance:\n",
      "AUC: 0.5019\n",
      "MRR: 0.2616\n",
      "nDCG@5: 0.2459\n",
      "nDCG@10: 0.3091\n"
     ]
    },
    {
     "name": "stderr",
     "output_type": "stream",
     "text": [
      "\n"
     ]
    }
   ],
   "execution_count": 43
  },
  {
   "metadata": {
    "ExecuteTime": {
     "end_time": "2025-05-05T17:24:09.852258Z",
     "start_time": "2025-05-05T17:24:09.735075Z"
    }
   },
   "cell_type": "code",
   "source": [
    "# Combine results into a single dictionary for easy plotting\n",
    "all_results = {\n",
    "    \"Content-Based\": cb_results,\n",
    "    \"Embedding-Based\": embed_results,\n",
    "    \"Random\": rand_results\n",
    "}\n",
    "\n",
    "metrics = list(cb_results.keys())\n",
    "x = range(len(metrics))\n",
    "width = 0.25\n",
    "\n",
    "# Plot bars for each recommender\n",
    "fig, ax = plt.subplots(figsize=(10, 6))\n",
    "\n",
    "for i, (label, results) in enumerate(all_results.items()):\n",
    "    scores = [results[m] for m in metrics]\n",
    "    ax.bar([xi + i * width for xi in x], scores, width=width, label=label)\n",
    "\n",
    "# Labeling\n",
    "ax.set_xticks([xi + width for xi in x])\n",
    "ax.set_xticklabels(metrics)\n",
    "ax.set_ylabel('Score')\n",
    "ax.set_title('Recommender Performance Comparison')\n",
    "ax.legend()\n",
    "plt.grid(axis='y', linestyle='--', alpha=0.7)\n",
    "plt.tight_layout()\n",
    "plt.show()"
   ],
   "id": "3839be97df22fd6",
   "outputs": [
    {
     "data": {
      "text/plain": [
       "<Figure size 1000x600 with 1 Axes>"
      ],
      "image/png": "[encoded data removed]"
     },
     "metadata": {},
     "output_type": "display_data"
    }
   ],
   "execution_count": 46
  }
 ],
 "metadata": {
  "kernelspec": {
   "display_name": ".venv",
   "language": "python",
   "name": "python3"
  },
  "language_info": {
   "codemirror_mode": {
    "name": "ipython",
    "version": 3
   },
   "file_extension": ".py",
   "mimetype": "text/x-python",
   "name": "python",
   "nbconvert_exporter": "python",
   "pygments_lexer": "ipython3",
   "version": "3.12.3"
  }
 },
 "nbformat": 4,
 "nbformat_minor": 5
}
