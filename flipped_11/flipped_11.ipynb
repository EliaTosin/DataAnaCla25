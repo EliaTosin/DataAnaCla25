{
 "cells": [
  {
   "cell_type": "code",
   "execution_count": 28,
   "id": "788747e7",
   "metadata": {
    "ExecuteTime": {
     "end_time": "2025-05-05T17:24:04.713343Z",
     "start_time": "2025-05-05T17:24:04.552275Z"
    }
   },
   "outputs": [],
   "source": [
    "import pandas as pd\n",
    "import numpy as np\n",
    "import seaborn as sns\n",
    "import random\n",
    "\n",
    "from sklearn.feature_extraction.text import TfidfVectorizer\n",
    "from sklearn.metrics.pairwise import cosine_similarity\n",
    "from sklearn.metrics import roc_auc_score\n",
    "from sentence_transformers import SentenceTransformer\n",
    "import matplotlib.pyplot as plt\n",
    "from tqdm import tqdm"
   ]
  },
  {
   "cell_type": "markdown",
   "id": "72ebfc6a5e7432bc",
   "metadata": {},
   "source": [
    "Load all data"
   ]
  },
  {
   "cell_type": "code",
   "execution_count": 29,
   "id": "42fd275555768bce",
   "metadata": {
    "ExecuteTime": {
     "end_time": "2025-05-05T17:16:45.510356Z",
     "start_time": "2025-05-05T17:16:44.727879Z"
    }
   },
   "outputs": [],
   "source": [
    "def load_news(news_path):\n",
    "    df = pd.read_csv(news_path, sep='\\t', header=None,\n",
    "                     names=['news_id', 'category', 'subcategory', 'title', 'abstract', 'url', 'title_entities', 'abstract_entities'])\n",
    "    df['content'] = df['title'].fillna('') + ' ' + df['abstract'].fillna('')\n",
    "    return df[['news_id', 'content']]\n",
    "\n",
    "train_news = load_news('MINDsmall_train/news.tsv')\n",
    "dev_news = load_news('MINDsmall_dev/news.tsv')\n",
    "# Check for duplicates on news_id and content\n",
    "all_news = pd.concat([train_news, dev_news]).drop_duplicates(['news_id', 'content'])"
   ]
  },
  {
   "cell_type": "code",
   "execution_count": 30,
   "id": "dba939476f1b551b",
   "metadata": {
    "ExecuteTime": {
     "end_time": "2025-05-05T17:16:45.550589Z",
     "start_time": "2025-05-05T17:16:45.545796Z"
    }
   },
   "outputs": [
    {
     "data": {
      "text/html": [
       "<div>\n",
       "<style scoped>\n",
       "    .dataframe tbody tr th:only-of-type {\n",
       "        vertical-align: middle;\n",
       "    }\n",
       "\n",
       "    .dataframe tbody tr th {\n",
       "        vertical-align: top;\n",
       "    }\n",
       "\n",
       "    .dataframe thead th {\n",
       "        text-align: right;\n",
       "    }\n",
       "</style>\n",
       "<table border=\"1\" class=\"dataframe\">\n",
       "  <thead>\n",
       "    <tr style=\"text-align: right;\">\n",
       "      <th></th>\n",
       "      <th>news_id</th>\n",
       "      <th>content</th>\n",
       "    </tr>\n",
       "  </thead>\n",
       "  <tbody>\n",
       "    <tr>\n",
       "      <th>0</th>\n",
       "      <td>N55528</td>\n",
       "      <td>The Brands Queen Elizabeth, Prince Charles, an...</td>\n",
       "    </tr>\n",
       "    <tr>\n",
       "      <th>1</th>\n",
       "      <td>N19639</td>\n",
       "      <td>50 Worst Habits For Belly Fat These seemingly ...</td>\n",
       "    </tr>\n",
       "    <tr>\n",
       "      <th>2</th>\n",
       "      <td>N61837</td>\n",
       "      <td>The Cost of Trump's Aid Freeze in the Trenches...</td>\n",
       "    </tr>\n",
       "    <tr>\n",
       "      <th>3</th>\n",
       "      <td>N53526</td>\n",
       "      <td>I Was An NBA Wife. Here's How It Affected My M...</td>\n",
       "    </tr>\n",
       "    <tr>\n",
       "      <th>4</th>\n",
       "      <td>N38324</td>\n",
       "      <td>How to Get Rid of Skin Tags, According to a De...</td>\n",
       "    </tr>\n",
       "  </tbody>\n",
       "</table>\n",
       "</div>"
      ],
      "text/plain": [
       "  news_id                                            content\n",
       "0  N55528  The Brands Queen Elizabeth, Prince Charles, an...\n",
       "1  N19639  50 Worst Habits For Belly Fat These seemingly ...\n",
       "2  N61837  The Cost of Trump's Aid Freeze in the Trenches...\n",
       "3  N53526  I Was An NBA Wife. Here's How It Affected My M...\n",
       "4  N38324  How to Get Rid of Skin Tags, According to a De..."
      ]
     },
     "execution_count": 30,
     "metadata": {},
     "output_type": "execute_result"
    }
   ],
   "source": [
    "all_news.head()"
   ]
  },
  {
   "cell_type": "code",
   "execution_count": 31,
   "id": "e118962572bd34b5",
   "metadata": {
    "ExecuteTime": {
     "end_time": "2025-05-05T17:46:13.774435Z",
     "start_time": "2025-05-05T17:46:13.770792Z"
    }
   },
   "outputs": [
    {
     "data": {
      "text/plain": [
       "\"The Brands Queen Elizabeth, Prince Charles, and Prince Philip Swear By Shop the notebooks, jackets, and more that the royals can't live without.\""
      ]
     },
     "execution_count": 31,
     "metadata": {},
     "output_type": "execute_result"
    }
   ],
   "source": [
    "all_news.loc[0].content"
   ]
  },
  {
   "cell_type": "code",
   "execution_count": 32,
   "id": "ce3f002d855e7a88",
   "metadata": {
    "ExecuteTime": {
     "end_time": "2025-05-05T17:16:45.709421Z",
     "start_time": "2025-05-05T17:16:45.642345Z"
    }
   },
   "outputs": [
    {
     "data": {
      "text/html": [
       "<div>\n",
       "<style scoped>\n",
       "    .dataframe tbody tr th:only-of-type {\n",
       "        vertical-align: middle;\n",
       "    }\n",
       "\n",
       "    .dataframe tbody tr th {\n",
       "        vertical-align: top;\n",
       "    }\n",
       "\n",
       "    .dataframe thead th {\n",
       "        text-align: right;\n",
       "    }\n",
       "</style>\n",
       "<table border=\"1\" class=\"dataframe\">\n",
       "  <thead>\n",
       "    <tr style=\"text-align: right;\">\n",
       "      <th></th>\n",
       "      <th>news_id</th>\n",
       "      <th>content</th>\n",
       "    </tr>\n",
       "  </thead>\n",
       "  <tbody>\n",
       "    <tr>\n",
       "      <th>count</th>\n",
       "      <td>65238</td>\n",
       "      <td>65238</td>\n",
       "    </tr>\n",
       "    <tr>\n",
       "      <th>unique</th>\n",
       "      <td>65238</td>\n",
       "      <td>64277</td>\n",
       "    </tr>\n",
       "    <tr>\n",
       "      <th>top</th>\n",
       "      <td>N39563</td>\n",
       "      <td>Photos of the Day Our top photos from the last...</td>\n",
       "    </tr>\n",
       "    <tr>\n",
       "      <th>freq</th>\n",
       "      <td>1</td>\n",
       "      <td>15</td>\n",
       "    </tr>\n",
       "  </tbody>\n",
       "</table>\n",
       "</div>"
      ],
      "text/plain": [
       "       news_id                                            content\n",
       "count    65238                                              65238\n",
       "unique   65238                                              64277\n",
       "top     N39563  Photos of the Day Our top photos from the last...\n",
       "freq         1                                                 15"
      ]
     },
     "execution_count": 32,
     "metadata": {},
     "output_type": "execute_result"
    }
   ],
   "source": [
    "all_news.describe()"
   ]
  },
  {
   "cell_type": "code",
   "execution_count": 33,
   "id": "6010c3a67808b58a",
   "metadata": {
    "ExecuteTime": {
     "end_time": "2025-05-05T17:56:41.138067Z",
     "start_time": "2025-05-05T17:56:41.134790Z"
    }
   },
   "outputs": [
    {
     "name": "stdout",
     "output_type": "stream",
     "text": [
      "Size of the train dataset: 51282\n",
      "Size of the test dataset: 42416\n"
     ]
    }
   ],
   "source": [
    "print(\"Size of the train dataset:\", train_news.shape[0])\n",
    "print(\"Size of the test dataset:\", dev_news.shape[0])"
   ]
  },
  {
   "cell_type": "markdown",
   "id": "a0b810e2",
   "metadata": {},
   "source": [
    "train TF-IDF"
   ]
  },
  {
   "cell_type": "code",
   "execution_count": 34,
   "id": "f9fdef17",
   "metadata": {
    "ExecuteTime": {
     "end_time": "2025-05-05T17:16:46.717348Z",
     "start_time": "2025-05-05T17:16:45.784336Z"
    }
   },
   "outputs": [],
   "source": [
    "# TF-IDF vectorization\n",
    "vectorizer = TfidfVectorizer(stop_words='english', max_features=5000)\n",
    "news_vectors = vectorizer.fit_transform(train_news['content'])  # only train content for training\n",
    "\n",
    "# Map news_id to index\n",
    "news_id_to_index = dict(zip(train_news['news_id'], range(len(train_news))))"
   ]
  },
  {
   "cell_type": "markdown",
   "id": "a265e7be910b2eb4",
   "metadata": {},
   "source": [
    "Calculate embeddings"
   ]
  },
  {
   "cell_type": "code",
   "execution_count": 35,
   "id": "49661aa2cf62f844",
   "metadata": {
    "ExecuteTime": {
     "end_time": "2025-05-05T17:21:05.350651Z",
     "start_time": "2025-05-05T17:16:46.800353Z"
    }
   },
   "outputs": [
    {
     "name": "stderr",
     "output_type": "stream",
     "text": [
      "Batches: 100%|██████████| 1603/1603 [00:34<00:00, 46.27it/s]\n"
     ]
    }
   ],
   "source": [
    "# Load the embedding model\n",
    "model = SentenceTransformer('all-MiniLM-L6-v2')\n",
    "# Compute embeddings for all text rows\n",
    "embeddings = model.encode(train_news['content'].tolist(), show_progress_bar=True)"
   ]
  },
  {
   "cell_type": "markdown",
   "id": "ce861971",
   "metadata": {},
   "source": [
    "Load Training Behaviors and Build User Profiles"
   ]
  },
  {
   "cell_type": "code",
   "execution_count": 36,
   "id": "1e8c19bc",
   "metadata": {
    "ExecuteTime": {
     "end_time": "2025-05-05T17:21:36.406712Z",
     "start_time": "2025-05-05T17:21:05.418580Z"
    }
   },
   "outputs": [],
   "source": [
    "train_behaviors = pd.read_csv('MINDsmall_train/behaviors.tsv', sep='\\t', header=None,\n",
    "                              names=['impression_id', 'user_id', 'time', 'history', 'impressions'])\n",
    "\n",
    "user_profiles = {}\n",
    "\n",
    "for _, row in train_behaviors.iterrows():\n",
    "    user = row['user_id']\n",
    "    history = row['history']\n",
    "    if pd.isna(history): continue\n",
    "    history_ids = [nid for nid in history.split() if nid in news_id_to_index]\n",
    "    if not history_ids: continue\n",
    "    indices = [news_id_to_index[nid] for nid in history_ids]\n",
    "    profile_vector = news_vectors[indices].mean(axis=0)\n",
    "    user_profiles[user] = profile_vector"
   ]
  },
  {
   "cell_type": "code",
   "execution_count": 37,
   "id": "b5a4bf9840129223",
   "metadata": {
    "ExecuteTime": {
     "end_time": "2025-05-05T17:21:46.648038Z",
     "start_time": "2025-05-05T17:21:36.441810Z"
    }
   },
   "outputs": [],
   "source": [
    "user_embed_profiles = {}\n",
    "\n",
    "for _, row in train_behaviors.iterrows():\n",
    "    user = row['user_id']\n",
    "    history = row['history']\n",
    "    if pd.isna(history): continue\n",
    "    history_ids = [nid for nid in history.split() if nid in news_id_to_index]\n",
    "    if not history_ids: continue\n",
    "    indices = [news_id_to_index[nid] for nid in history_ids]\n",
    "    user_embedding = np.mean([embeddings[i] for i in indices], axis=0)\n",
    "    user_embed_profiles[user] = user_embedding.reshape(1, -1)  # Reshape to 2D array for cosine similarity"
   ]
  },
  {
   "cell_type": "markdown",
   "id": "9253a52a",
   "metadata": {},
   "source": [
    "Evaluate the model on the dev set"
   ]
  },
  {
   "cell_type": "code",
   "execution_count": 38,
   "id": "d067c1d8",
   "metadata": {
    "ExecuteTime": {
     "end_time": "2025-05-05T17:21:46.990966Z",
     "start_time": "2025-05-05T17:21:46.681692Z"
    }
   },
   "outputs": [],
   "source": [
    "dev_behaviors = pd.read_csv('MINDsmall_dev/behaviors.tsv', sep='\\t', header=None,\n",
    "                            names=['impression_id', 'user_id', 'time', 'history', 'impressions'])\n",
    "\n",
    "\n",
    "def mrr(scores, labels):\n",
    "    sorted_labels = [l for _, l in sorted(zip(scores, labels), reverse=True)]\n",
    "    for i, label in enumerate(sorted_labels):\n",
    "        if label == 1:\n",
    "            return 1.0 / (i + 1)\n",
    "    return 0.0\n",
    "\n",
    "def ndcg(scores, labels, k):\n",
    "    sorted_labels = [l for _, l in sorted(zip(scores, labels), reverse=True)][:k]\n",
    "    dcg = sum([1.0 / np.log2(i + 2) if l == 1 else 0 for i, l in enumerate(sorted_labels)])\n",
    "    ideal_dcg = sum([1.0 / np.log2(i + 2) for i in range(min(sum(labels), k))])\n",
    "    return dcg / ideal_dcg if ideal_dcg > 0 else 0.0\n",
    "\n",
    "def evaluate(dev_behaviors, news_id_to_index, news_vectors, user_profiles):\n",
    "    aucs, mrrs, ndcg5s, ndcg10s = [], [], [], []\n",
    "\n",
    "    for _, row in tqdm(dev_behaviors.iterrows(), total=len(dev_behaviors)):\n",
    "        user = row['user_id']\n",
    "        impressions = [imp.split('-') for imp in row['impressions'].split()]\n",
    "        news_ids = [nid for nid, _ in impressions if nid in news_id_to_index]\n",
    "        labels = [int(label) for nid, label in impressions if nid in news_id_to_index]\n",
    "\n",
    "        if not news_ids or user not in user_profiles or len(set(labels)) == 1:\n",
    "            continue\n",
    "\n",
    "        profile_vector = np.asarray(user_profiles[user])  # Convert to numpy array\n",
    "        candidate_idxs = [news_id_to_index[nid] for nid in news_ids]\n",
    "        candidate_vectors = news_vectors[candidate_idxs]\n",
    "        # print(f\"Candidate vectors shape: {candidate_vectors.shape}\")\n",
    "        # print(f\"Profile vector shape: {profile_vector.shape}\")\n",
    "        sims = cosine_similarity(profile_vector, candidate_vectors).flatten()\n",
    "\n",
    "        aucs.append(roc_auc_score(labels, sims, multi_class='ovr'))\n",
    "        mrrs.append(mrr(sims, labels))\n",
    "        ndcg5s.append(ndcg(sims, labels, 5))\n",
    "        ndcg10s.append(ndcg(sims, labels, 10))\n",
    "\n",
    "    return {\n",
    "        'AUC': np.mean(aucs),\n",
    "        'MRR': np.mean(mrrs),\n",
    "        'nDCG@5': np.mean(ndcg5s),\n",
    "        'nDCG@10': np.mean(ndcg10s)\n",
    "    }"
   ]
  },
  {
   "cell_type": "markdown",
   "id": "a20d5d42",
   "metadata": {},
   "source": [
    "Evaluate a baseline system (random reccomender)"
   ]
  },
  {
   "cell_type": "code",
   "execution_count": 39,
   "id": "9e95af6d",
   "metadata": {
    "ExecuteTime": {
     "end_time": "2025-05-05T17:21:47.031346Z",
     "start_time": "2025-05-05T17:21:47.027375Z"
    }
   },
   "outputs": [],
   "source": [
    "def evaluate_random(dev_behaviors, news_id_to_index):\n",
    "    aucs, mrrs, ndcg5s, ndcg10s = [], [], [], []\n",
    "\n",
    "    for _, row in tqdm(dev_behaviors.iterrows(), total=len(dev_behaviors)):\n",
    "        impressions = [imp.split('-') for imp in row['impressions'].split()]\n",
    "        news_ids = [nid for nid, _ in impressions if nid in news_id_to_index]\n",
    "        labels = [int(label) for nid, label in impressions if nid in news_id_to_index]\n",
    "\n",
    "        if not news_ids or len(set(labels)) == 1:\n",
    "            continue\n",
    "\n",
    "        random_scores = [random.random() for _ in labels]\n",
    "\n",
    "        aucs.append(roc_auc_score(labels, random_scores))\n",
    "        mrrs.append(mrr(random_scores, labels))\n",
    "        ndcg5s.append(ndcg(random_scores, labels, 5))\n",
    "        ndcg10s.append(ndcg(random_scores, labels, 10))\n",
    "\n",
    "    return {\n",
    "        'AUC': np.mean(aucs),\n",
    "        'MRR': np.mean(mrrs),\n",
    "        'nDCG@5': np.mean(ndcg5s),\n",
    "        'nDCG@10': np.mean(ndcg10s)\n",
    "    }"
   ]
  },
  {
   "cell_type": "markdown",
   "id": "416970ca",
   "metadata": {},
   "source": [
    "Compare results"
   ]
  },
  {
   "cell_type": "code",
   "execution_count": 40,
   "id": "34ed52e3",
   "metadata": {
    "ExecuteTime": {
     "end_time": "2025-05-05T17:22:50.801121Z",
     "start_time": "2025-05-05T17:21:47.104892Z"
    }
   },
   "outputs": [
    {
     "name": "stderr",
     "output_type": "stream",
     "text": [
      "100%|██████████| 73152/73152 [00:19<00:00, 3790.18it/s]\n",
      "100%|██████████| 73152/73152 [01:17<00:00, 938.68it/s] \n",
      "100%|██████████| 73152/73152 [00:17<00:00, 4213.56it/s]"
     ]
    },
    {
     "name": "stdout",
     "output_type": "stream",
     "text": [
      "Content-Based Recommender Performance:\n",
      "AUC: 0.5737\n",
      "MRR: 0.3466\n",
      "nDCG@5: 0.3341\n",
      "nDCG@10: 0.3948\n",
      "\n",
      "Content-Based Embedding Recommender Performance:\n",
      "AUC: 0.6415\n",
      "MRR: 0.3738\n",
      "nDCG@5: 0.3637\n",
      "nDCG@10: 0.4205\n",
      "\n",
      "Random Recommender Performance:\n",
      "AUC: 0.4993\n",
      "MRR: 0.2597\n",
      "nDCG@5: 0.2438\n",
      "nDCG@10: 0.3072\n"
     ]
    },
    {
     "name": "stderr",
     "output_type": "stream",
     "text": [
      "\n"
     ]
    }
   ],
   "source": [
    "cb_results = evaluate(dev_behaviors, news_id_to_index, news_vectors, user_profiles)\n",
    "rand_results = evaluate_random(dev_behaviors, news_id_to_index)\n",
    "embed_results = evaluate(dev_behaviors, news_id_to_index, embeddings, user_embed_profiles)\n",
    "\n",
    "# Display comparison\n",
    "print(\"Content-Based Recommender Performance:\")\n",
    "for metric, score in cb_results.items():\n",
    "    print(f\"{metric}: {score:.4f}\")\n",
    "\n",
    "print(\"\\nContent-Based Embedding Recommender Performance:\")\n",
    "for metric, score in embed_results.items():\n",
    "    print(f\"{metric}: {score:.4f}\")\n",
    "\n",
    "print(\"\\nRandom Recommender Performance:\")\n",
    "for metric, score in rand_results.items():\n",
    "    print(f\"{metric}: {score:.4f}\")"
   ]
  },
  {
   "cell_type": "code",
   "execution_count": 41,
   "id": "3839be97df22fd6",
   "metadata": {
    "ExecuteTime": {
     "end_time": "2025-05-05T17:24:09.852258Z",
     "start_time": "2025-05-05T17:24:09.735075Z"
    }
   },
   "outputs": [
    {
     "data": {
      "image/png": "[encoded data removed]",
      "text/plain": [
       "<Figure size 1200x600 with 1 Axes>"
      ]
     },
     "metadata": {},
     "output_type": "display_data"
    }
   ],
   "source": [
    "# Combine results into a single dictionary for easy plotting\n",
    "all_results = {\n",
    "    \"Random\": rand_results,\n",
    "    \"Content-Based\": cb_results,\n",
    "    \"Embedding-Based\": embed_results    \n",
    "}\n",
    "\n",
    "# Round the results to 4 decimal places\n",
    "for model, metrics in all_results.items():\n",
    "    for metric, score in metrics.items():\n",
    "        all_results[model][metric] = round(score, 4)\n",
    "\n",
    "# Convert the results into a DataFrame for easier plotting\n",
    "results_df = pd.DataFrame(all_results).T\n",
    "results_df.reset_index(inplace=True)\n",
    "results_df.columns = ['Model', 'AUC', 'MRR', 'nDCG@5', 'nDCG@10']\n",
    "results_df = results_df.melt(id_vars='Model', var_name='Metric', value_name='Score')\n",
    "# Set the figure size\n",
    "plt.figure(figsize=(12, 6))\n",
    "# Create a bar plot\n",
    "ax = sns.barplot(x='Metric', y='Score', hue='Model', data=results_df)\n",
    "ax.bar_label(ax.containers[0])\n",
    "ax.bar_label(ax.containers[1])\n",
    "ax.bar_label(ax.containers[2])\n",
    "# Set the title and labels\n",
    "plt.title('Model Performance Comparison')\n",
    "plt.xlabel('Metrics')\n",
    "plt.ylabel('Score')\n",
    "# Show the plot\n",
    "plt.legend(title='Model')\n",
    "plt.show()"
   ]
  }
 ],
 "metadata": {
  "kernelspec": {
   "display_name": ".venv",
   "language": "python",
   "name": "python3"
  },
  "language_info": {
   "codemirror_mode": {
    "name": "ipython",
    "version": 3
   },
   "file_extension": ".py",
   "mimetype": "text/x-python",
   "name": "python",
   "nbconvert_exporter": "python",
   "pygments_lexer": "ipython3",
   "version": "3.12.3"
  }
 },
 "nbformat": 4,
 "nbformat_minor": 5
}
