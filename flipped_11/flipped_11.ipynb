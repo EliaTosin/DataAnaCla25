{
 "cells": [
  {
   "cell_type": "code",
   "execution_count": null,
   "id": "788747e7",
   "metadata": {},
   "outputs": [],
   "source": [
    "import pandas as pd\n",
    "import numpy as np\n",
    "import random\n",
    "\n",
    "from sklearn.feature_extraction.text import TfidfVectorizer\n",
    "from sklearn.metrics.pairwise import cosine_similarity\n",
    "from sklearn.metrics import roc_auc_score\n",
    "from tqdm import tqdm"
   ]
  },
  {
   "cell_type": "markdown",
   "id": "a0b810e2",
   "metadata": {},
   "source": [
    "Load all data and train TF-IDF"
   ]
  },
  {
   "cell_type": "code",
   "execution_count": 11,
   "id": "f9fdef17",
   "metadata": {},
   "outputs": [],
   "source": [
    "def load_news(news_path):\n",
    "    df = pd.read_csv(news_path, sep='\\t', header=None,\n",
    "                     names=['news_id', 'category', 'subcategory', 'title', 'abstract', 'url', 'title_entities', 'abstract_entities'])\n",
    "    df['content'] = df['title'].fillna('') + ' ' + df['abstract'].fillna('')\n",
    "    return df[['news_id', 'content']]\n",
    "\n",
    "train_news = load_news('MINDsmall_train/news.tsv')\n",
    "dev_news = load_news('MINDsmall_dev/news.tsv')\n",
    "all_news = pd.concat([train_news, dev_news]).drop_duplicates('news_id')\n",
    "\n",
    "# TF-IDF vectorization\n",
    "vectorizer = TfidfVectorizer(stop_words='english', max_features=5000)\n",
    "news_vectors = vectorizer.fit_transform(train_news['content'])  # only train content for training\n",
    "\n",
    "# Map news_id to index\n",
    "news_id_to_index = dict(zip(train_news['news_id'], range(len(train_news))))"
   ]
  },
  {
   "cell_type": "markdown",
   "id": "ce861971",
   "metadata": {},
   "source": [
    "Load Training Behaviors and Build User Profiles"
   ]
  },
  {
   "cell_type": "code",
   "execution_count": 12,
   "id": "1e8c19bc",
   "metadata": {},
   "outputs": [],
   "source": [
    "train_behaviors = pd.read_csv('MINDsmall_train/behaviors.tsv', sep='\\t', header=None,\n",
    "                              names=['impression_id', 'user_id', 'time', 'history', 'impressions'])\n",
    "\n",
    "user_profiles = {}\n",
    "\n",
    "for _, row in train_behaviors.iterrows():\n",
    "    user = row['user_id']\n",
    "    history = row['history']\n",
    "    if pd.isna(history): continue\n",
    "    history_ids = [nid for nid in history.split() if nid in news_id_to_index]\n",
    "    if not history_ids: continue\n",
    "    indices = [news_id_to_index[nid] for nid in history_ids]\n",
    "    profile_vector = news_vectors[indices].mean(axis=0)\n",
    "    user_profiles[user] = profile_vector"
   ]
  },
  {
   "cell_type": "markdown",
   "id": "9253a52a",
   "metadata": {},
   "source": [
    "Evaluate the model on the dev set"
   ]
  },
  {
   "cell_type": "code",
   "execution_count": 13,
   "id": "d067c1d8",
   "metadata": {},
   "outputs": [],
   "source": [
    "dev_behaviors = pd.read_csv('MINDsmall_dev/behaviors.tsv', sep='\\t', header=None,\n",
    "                            names=['impression_id', 'user_id', 'time', 'history', 'impressions'])\n",
    "\n",
    "\n",
    "def mrr(scores, labels):\n",
    "    sorted_labels = [l for _, l in sorted(zip(scores, labels), reverse=True)]\n",
    "    for i, label in enumerate(sorted_labels):\n",
    "        if label == 1:\n",
    "            return 1.0 / (i + 1)\n",
    "    return 0.0\n",
    "\n",
    "def ndcg(scores, labels, k):\n",
    "    sorted_labels = [l for _, l in sorted(zip(scores, labels), reverse=True)][:k]\n",
    "    dcg = sum([1.0 / np.log2(i + 2) if l == 1 else 0 for i, l in enumerate(sorted_labels)])\n",
    "    ideal_dcg = sum([1.0 / np.log2(i + 2) for i in range(min(sum(labels), k))])\n",
    "    return dcg / ideal_dcg if ideal_dcg > 0 else 0.0\n",
    "\n",
    "def evaluate(dev_behaviors, news_id_to_index, news_vectors, user_profiles):\n",
    "    aucs, mrrs, ndcg5s, ndcg10s = [], [], [], []\n",
    "\n",
    "    for _, row in tqdm(dev_behaviors.iterrows(), total=len(dev_behaviors)):\n",
    "        user = row['user_id']\n",
    "        impressions = [imp.split('-') for imp in row['impressions'].split()]\n",
    "        news_ids = [nid for nid, _ in impressions if nid in news_id_to_index]\n",
    "        labels = [int(label) for nid, label in impressions if nid in news_id_to_index]\n",
    "\n",
    "        if not news_ids or user not in user_profiles or len(set(labels)) == 1:\n",
    "            continue\n",
    "\n",
    "        profile_vector = np.asarray(user_profiles[user])  # Convert to numpy array\n",
    "        candidate_idxs = [news_id_to_index[nid] for nid in news_ids]\n",
    "        candidate_vectors = news_vectors[candidate_idxs]\n",
    "        sims = cosine_similarity(profile_vector, candidate_vectors).flatten()\n",
    "\n",
    "        aucs.append(roc_auc_score(labels, sims, multi_class='ovr'))\n",
    "        mrrs.append(mrr(sims, labels))\n",
    "        ndcg5s.append(ndcg(sims, labels, 5))\n",
    "        ndcg10s.append(ndcg(sims, labels, 10))\n",
    "\n",
    "    return {\n",
    "        'AUC': np.mean(aucs),\n",
    "        'MRR': np.mean(mrrs),\n",
    "        'nDCG@5': np.mean(ndcg5s),\n",
    "        'nDCG@10': np.mean(ndcg10s)\n",
    "    }"
   ]
  },
  {
   "cell_type": "markdown",
   "id": "a20d5d42",
   "metadata": {},
   "source": [
    "Evaluate a baseline system (random reccomender)"
   ]
  },
  {
   "cell_type": "code",
   "execution_count": 14,
   "id": "9e95af6d",
   "metadata": {},
   "outputs": [],
   "source": [
    "def evaluate_random(dev_behaviors, news_id_to_index):\n",
    "    aucs, mrrs, ndcg5s, ndcg10s = [], [], [], []\n",
    "\n",
    "    for _, row in tqdm(dev_behaviors.iterrows(), total=len(dev_behaviors)):\n",
    "        impressions = [imp.split('-') for imp in row['impressions'].split()]\n",
    "        news_ids = [nid for nid, _ in impressions if nid in news_id_to_index]\n",
    "        labels = [int(label) for nid, label in impressions if nid in news_id_to_index]\n",
    "\n",
    "        if not news_ids or len(set(labels)) == 1:\n",
    "            continue\n",
    "\n",
    "        random_scores = [random.random() for _ in labels]\n",
    "\n",
    "        aucs.append(roc_auc_score(labels, random_scores))\n",
    "        mrrs.append(mrr(random_scores, labels))\n",
    "        ndcg5s.append(ndcg(random_scores, labels, 5))\n",
    "        ndcg10s.append(ndcg(random_scores, labels, 10))\n",
    "\n",
    "    return {\n",
    "        'AUC': np.mean(aucs),\n",
    "        'MRR': np.mean(mrrs),\n",
    "        'nDCG@5': np.mean(ndcg5s),\n",
    "        'nDCG@10': np.mean(ndcg10s)\n",
    "    }"
   ]
  },
  {
   "cell_type": "markdown",
   "id": "416970ca",
   "metadata": {},
   "source": [
    "Compare results"
   ]
  },
  {
   "cell_type": "code",
   "execution_count": 15,
   "id": "34ed52e3",
   "metadata": {},
   "outputs": [
    {
     "name": "stderr",
     "output_type": "stream",
     "text": [
      "100%|██████████| 73152/73152 [00:10<00:00, 7178.55it/s]\n",
      "100%|██████████| 73152/73152 [00:41<00:00, 1774.22it/s]"
     ]
    },
    {
     "name": "stdout",
     "output_type": "stream",
     "text": [
      "Content-Based Recommender Performance:\n",
      "AUC: 0.5737\n",
      "MRR: 0.3466\n",
      "nDCG@5: 0.3341\n",
      "nDCG@10: 0.3948\n",
      "\n",
      "Random Recommender Performance:\n",
      "AUC: 0.4980\n",
      "MRR: 0.2586\n",
      "nDCG@5: 0.2432\n",
      "nDCG@10: 0.3064\n"
     ]
    },
    {
     "name": "stderr",
     "output_type": "stream",
     "text": [
      "\n"
     ]
    }
   ],
   "source": [
    "cb_results = evaluate(dev_behaviors, news_id_to_index, news_vectors, user_profiles)\n",
    "rand_results = evaluate_random(dev_behaviors, news_id_to_index)\n",
    "\n",
    "# Display comparison\n",
    "print(\"Content-Based Recommender Performance:\")\n",
    "for metric, score in cb_results.items():\n",
    "    print(f\"{metric}: {score:.4f}\")\n",
    "\n",
    "print(\"\\nRandom Recommender Performance:\")\n",
    "for metric, score in rand_results.items():\n",
    "    print(f\"{metric}: {score:.4f}\")"
   ]
  }
 ],
 "metadata": {
  "kernelspec": {
   "display_name": ".venv",
   "language": "python",
   "name": "python3"
  },
  "language_info": {
   "codemirror_mode": {
    "name": "ipython",
    "version": 3
   },
   "file_extension": ".py",
   "mimetype": "text/x-python",
   "name": "python",
   "nbconvert_exporter": "python",
   "pygments_lexer": "ipython3",
   "version": "3.12.3"
  }
 },
 "nbformat": 4,
 "nbformat_minor": 5
}
