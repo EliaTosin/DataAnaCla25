{
 "cells": [
  {
   "cell_type": "code",
   "id": "initial_id",
   "metadata": {
    "collapsed": true,
    "ExecuteTime": {
     "end_time": "2025-04-14T20:59:17.316456730Z",
     "start_time": "2025-04-14T20:59:17.314013054Z"
    }
   },
   "source": [
    "import os\n",
    "import pickle\n",
    "import re\n",
    "from collections import Counter\n",
    "\n",
    "import numpy as np\n",
    "import pandas as pd\n",
    "from sklearn.compose import ColumnTransformer\n",
    "from sklearn.feature_extraction.text import TfidfVectorizer\n",
    "from sklearn.model_selection import train_test_split\n",
    "from sklearn.naive_bayes import MultinomialNB\n",
    "from sklearn.pipeline import Pipeline\n",
    "from sklearn.preprocessing import MultiLabelBinarizer"
   ],
   "outputs": [],
   "execution_count": 11
  },
  {
   "cell_type": "code",
   "execution_count": 78,
   "outputs": [],
   "source": [
    "from eval_functions import (\n",
    "    evaluate_rating_predictions,\n",
    "    analyze_long_tail_effect,\n",
    "    plot_avg_error_by_genre,\n",
    "    plot_avg_error_by_popularity,\n",
    "    plot_confusion_matrix\n",
    ")"
   ],
   "metadata": {
    "collapsed": false,
    "ExecuteTime": {
     "end_time": "2025-04-14T21:18:57.339155350Z",
     "start_time": "2025-04-14T21:18:57.293963645Z"
    }
   },
   "id": "86d9e54ede85a8d1"
  },
  {
   "metadata": {
    "ExecuteTime": {
     "end_time": "2025-04-14T20:59:18.700784852Z",
     "start_time": "2025-04-14T20:59:18.697283426Z"
    }
   },
   "cell_type": "code",
   "source": [
    "import random\n",
    "\n",
    "random.seed(42)"
   ],
   "id": "e8f99a01390f6270",
   "outputs": [],
   "execution_count": 13
  },
  {
   "metadata": {
    "ExecuteTime": {
     "end_time": "2025-04-14T20:59:19.558964217Z",
     "start_time": "2025-04-14T20:59:19.521492286Z"
    }
   },
   "cell_type": "code",
   "source": [
    "DATA_PATH = \"../ml-latest-small\"\n",
    "\n",
    "ratings = pd.read_csv(os.path.join(DATA_PATH, \"ratings.csv\"))\n",
    "movies = pd.read_csv(os.path.join(DATA_PATH, \"movies.csv\"))\n",
    "tags = pd.read_csv(os.path.join(DATA_PATH, \"tags.csv\"))"
   ],
   "id": "c6c31514452fb88f",
   "outputs": [],
   "execution_count": 14
  },
  {
   "metadata": {},
   "cell_type": "markdown",
   "source": [
    "# Unconstrained Matrix Factorisation based Collaborative Filtering (week 7)"
   ],
   "id": "54d40534a6a27bac"
  },
  {
   "metadata": {
    "ExecuteTime": {
     "end_time": "2025-04-14T20:54:53.028182583Z",
     "start_time": "2025-04-14T20:54:52.715479968Z"
    }
   },
   "cell_type": "code",
   "source": [
    "df_ecommerce = pd.read_json('../1_ecommerce.jsonl', lines=True)\n",
    "\n",
    "# for each session, we will create a list of items that the user has clicked on, removing duplicates\n",
    "clicks_items_list = []\n",
    "carts_items_list = []\n",
    "orders_items_list = []\n",
    "\n",
    "for events in df_ecommerce.events:\n",
    "    clicks = []\n",
    "    carts = []\n",
    "    orders = []\n",
    "    for e in events:\n",
    "        if e['type'] == 'clicks':\n",
    "            clicks.append(e['aid'])\n",
    "        if e['type'] == 'carts':\n",
    "            carts.append(e['aid'])\n",
    "        if e['type'] == 'orders':\n",
    "            orders.append(e['aid'])\n",
    "\n",
    "    clicks_items_list.append(list(clicks))\n",
    "    carts_items_list.append(list(carts))\n",
    "    orders_items_list.append(list(orders))\n",
    "\n",
    "df_ecommerce['clicks'] = clicks_items_list\n",
    "df_ecommerce['carts'] = carts_items_list\n",
    "df_ecommerce['orders'] = orders_items_list\n",
    "df = df_ecommerce.drop(columns=[\"events\"], axis=1)\n",
    "\n",
    "clicks_length = df_ecommerce['clicks'].apply(len)\n",
    "carts_length = df_ecommerce['carts'].apply(len)\n",
    "orders_length = df_ecommerce['orders'].apply(len)\n",
    "\n",
    "# takes only the session with items length higher than 20\n",
    "df_truncated = df[df['clicks'].apply(lambda x: len(x) > 10)]\n",
    "df = df_truncated.copy()\n",
    "# redefine index\n",
    "df.reset_index(drop=True, inplace=True)\n",
    "\n",
    "# Explode each column (clicks, carts, orders)\n",
    "df_clicks = df[['session', 'clicks']].explode('clicks').rename(columns={'clicks': 'item'}).dropna(subset=['item'])\n",
    "df_carts = df[['session', 'carts']].explode('carts').rename(columns={'carts': 'item'}).dropna(subset=['item'])\n",
    "df_orders = df[['session', 'orders']].explode('orders').rename(columns={'orders': 'item'}).dropna(subset=['item'])\n",
    "\n",
    "# Concatenate the exploded dataframes\n",
    "df_concat = pd.concat([df_clicks, df_carts, df_orders])\n",
    "\n",
    "# Create a new column for each category indicating whether the item is present in that category\n",
    "df_concat['click'] = df_concat['item'].isin(df_clicks['item']).astype(int)\n",
    "df_concat['cart'] = df_concat['item'].isin(df_carts['item']).astype(int)\n",
    "df_concat['order'] = df_concat['item'].isin(df_orders['item']).astype(int)\n",
    "\n",
    "# Drop duplicates based on session and item\n",
    "df_concat = df_concat.drop_duplicates(subset=['session', 'item'])"
   ],
   "id": "ef990b1d18a15e78",
   "outputs": [
    {
     "ename": "AttributeError",
     "evalue": "'DataFrame' object has no attribute 'events'",
     "output_type": "error",
     "traceback": [
      "\u001B[0;31m---------------------------------------------------------------------------\u001B[0m",
      "\u001B[0;31mAttributeError\u001B[0m                            Traceback (most recent call last)",
      "\u001B[0;32m/tmp/ipykernel_10232/2381523114.py\u001B[0m in \u001B[0;36m?\u001B[0;34m()\u001B[0m\n\u001B[1;32m      4\u001B[0m \u001B[0mclicks_items_list\u001B[0m \u001B[0;34m=\u001B[0m \u001B[0;34m[\u001B[0m\u001B[0;34m]\u001B[0m\u001B[0;34m\u001B[0m\u001B[0;34m\u001B[0m\u001B[0m\n\u001B[1;32m      5\u001B[0m \u001B[0mcarts_items_list\u001B[0m \u001B[0;34m=\u001B[0m \u001B[0;34m[\u001B[0m\u001B[0;34m]\u001B[0m\u001B[0;34m\u001B[0m\u001B[0;34m\u001B[0m\u001B[0m\n\u001B[1;32m      6\u001B[0m \u001B[0morders_items_list\u001B[0m \u001B[0;34m=\u001B[0m \u001B[0;34m[\u001B[0m\u001B[0;34m]\u001B[0m\u001B[0;34m\u001B[0m\u001B[0;34m\u001B[0m\u001B[0m\n\u001B[1;32m      7\u001B[0m \u001B[0;34m\u001B[0m\u001B[0m\n\u001B[0;32m----> 8\u001B[0;31m \u001B[0;32mfor\u001B[0m \u001B[0mevents\u001B[0m \u001B[0;32min\u001B[0m \u001B[0mdf_ecommerce\u001B[0m\u001B[0;34m.\u001B[0m\u001B[0mevents\u001B[0m\u001B[0;34m:\u001B[0m\u001B[0;34m\u001B[0m\u001B[0;34m\u001B[0m\u001B[0m\n\u001B[0m\u001B[1;32m      9\u001B[0m     \u001B[0mclicks\u001B[0m \u001B[0;34m=\u001B[0m \u001B[0;34m[\u001B[0m\u001B[0;34m]\u001B[0m\u001B[0;34m\u001B[0m\u001B[0;34m\u001B[0m\u001B[0m\n\u001B[1;32m     10\u001B[0m     \u001B[0mcarts\u001B[0m \u001B[0;34m=\u001B[0m \u001B[0;34m[\u001B[0m\u001B[0;34m]\u001B[0m\u001B[0;34m\u001B[0m\u001B[0;34m\u001B[0m\u001B[0m\n\u001B[1;32m     11\u001B[0m     \u001B[0morders\u001B[0m \u001B[0;34m=\u001B[0m \u001B[0;34m[\u001B[0m\u001B[0;34m]\u001B[0m\u001B[0;34m\u001B[0m\u001B[0;34m\u001B[0m\u001B[0m\n",
      "\u001B[0;32m~/.local/lib/python3.10/site-packages/pandas/core/generic.py\u001B[0m in \u001B[0;36m?\u001B[0;34m(self, name)\u001B[0m\n\u001B[1;32m   6200\u001B[0m             \u001B[0;32mand\u001B[0m \u001B[0mname\u001B[0m \u001B[0;32mnot\u001B[0m \u001B[0;32min\u001B[0m \u001B[0mself\u001B[0m\u001B[0;34m.\u001B[0m\u001B[0m_accessors\u001B[0m\u001B[0;34m\u001B[0m\u001B[0;34m\u001B[0m\u001B[0m\n\u001B[1;32m   6201\u001B[0m             \u001B[0;32mand\u001B[0m \u001B[0mself\u001B[0m\u001B[0;34m.\u001B[0m\u001B[0m_info_axis\u001B[0m\u001B[0;34m.\u001B[0m\u001B[0m_can_hold_identifiers_and_holds_name\u001B[0m\u001B[0;34m(\u001B[0m\u001B[0mname\u001B[0m\u001B[0;34m)\u001B[0m\u001B[0;34m\u001B[0m\u001B[0;34m\u001B[0m\u001B[0m\n\u001B[1;32m   6202\u001B[0m         ):\n\u001B[1;32m   6203\u001B[0m             \u001B[0;32mreturn\u001B[0m \u001B[0mself\u001B[0m\u001B[0;34m[\u001B[0m\u001B[0mname\u001B[0m\u001B[0;34m]\u001B[0m\u001B[0;34m\u001B[0m\u001B[0;34m\u001B[0m\u001B[0m\n\u001B[0;32m-> 6204\u001B[0;31m         \u001B[0;32mreturn\u001B[0m \u001B[0mobject\u001B[0m\u001B[0;34m.\u001B[0m\u001B[0m__getattribute__\u001B[0m\u001B[0;34m(\u001B[0m\u001B[0mself\u001B[0m\u001B[0;34m,\u001B[0m \u001B[0mname\u001B[0m\u001B[0;34m)\u001B[0m\u001B[0;34m\u001B[0m\u001B[0;34m\u001B[0m\u001B[0m\n\u001B[0m",
      "\u001B[0;31mAttributeError\u001B[0m: 'DataFrame' object has no attribute 'events'"
     ]
    }
   ],
   "execution_count": 5
  },
  {
   "metadata": {
    "ExecuteTime": {
     "start_time": "2025-04-14T20:54:52.874201264Z"
    }
   },
   "cell_type": "code",
   "source": [
    "def sgd_matrix_factorization(df, k=10, alpha=0.01, lambda_reg=0.1, num_epochs=20, w_click=1, w_cart=3, w_order=5,\n",
    "                             test_size=0.2, validation_size=0.1):\n",
    "    # Map session (users) and items to consecutive indices\n",
    "    users = {u: i for i, u in enumerate(df['session'].unique())}\n",
    "    items = {i: j for j, i in enumerate(df['item'].unique())}\n",
    "\n",
    "    num_users = len(users)\n",
    "    num_items = len(items)\n",
    "\n",
    "    # Initialize U, V, and biases\n",
    "    U = np.random.rand(num_users, k)\n",
    "    V = np.random.rand(num_items, k)\n",
    "    b_u = np.zeros(num_users)\n",
    "    b_i = np.zeros(num_items)\n",
    "    b = 0  # Global bias\n",
    "\n",
    "    # Create (u, i, r_ui) tuples for all interactions\n",
    "    data = []\n",
    "\n",
    "    # iter throw all the rows of the dataframe\n",
    "    # and create a list of tuples (user, item, rating)\n",
    "    # Assign ratings to interactions\n",
    "    for _, row in df.iterrows():\n",
    "        u = users[row['session']]\n",
    "        i = items[row['item']]\n",
    "\n",
    "        # if this user has perform an action on this item, we assign a rating based on the action\n",
    "        # type starting from the most important one\n",
    "        # (order > cart > click)\n",
    "        if row['order'] > 0:\n",
    "            r_ui = w_order\n",
    "        elif row['cart'] > 0:\n",
    "            r_ui = w_cart\n",
    "        elif row['click'] > 0:\n",
    "            r_ui = w_click\n",
    "        else:\n",
    "            continue  # Skip interactions with no recorded action\n",
    "\n",
    "        data.append((u, i, r_ui))\n",
    "\n",
    "    # Split the data into training, validation, and test sets\n",
    "    train_data, test_data = train_test_split(data, test_size=test_size, random_state=42)\n",
    "    train_data, val_data = train_test_split(train_data, test_size=validation_size, random_state=42)\n",
    "\n",
    "    # Compute global bias as the mean rating of the training set\n",
    "    if train_data:\n",
    "        b = np.mean([r for _, _, r in train_data])\n",
    "\n",
    "    print(\"Datasets created! Starting training...\")\n",
    "\n",
    "    # Training using SGD\n",
    "    losses = []\n",
    "    val_losses = []\n",
    "\n",
    "    for epoch in range(num_epochs):\n",
    "        np.random.shuffle(train_data)  # Shuffle data to improve convergence\n",
    "        total_loss = 0\n",
    "        total_val_loss = 0\n",
    "\n",
    "        U_temp = U.copy()\n",
    "        V_temp = V.copy()\n",
    "\n",
    "        # Training phase\n",
    "        for u, i, r_ui in train_data:\n",
    "            # Predict the rating using the current model parameters\n",
    "            # b is the global bias, b_u[u] is the user bias, b_i[i] is the item bias\n",
    "            pred = b + b_u[u] + b_i[i] + np.dot(U[u, :], V[i, :])\n",
    "\n",
    "            # Calculate the error\n",
    "            e_ui = r_ui - pred  # Error\n",
    "\n",
    "            # Update biases\n",
    "            # alpha is the learning rate, lambda_reg is the regularization parameter\n",
    "            b_u[u] += alpha * (e_ui - lambda_reg * b_u[u])\n",
    "            b_i[i] += alpha * (e_ui - lambda_reg * b_i[i])\n",
    "\n",
    "            # Update latent factors using temporary matrices\n",
    "            U_temp[u, :] += alpha * (e_ui * V[i, :] - lambda_reg * U[u, :])\n",
    "            V_temp[i, :] += alpha * (e_ui * U[u, :] - lambda_reg * V[i, :])\n",
    "\n",
    "            total_loss += e_ui ** 2  # Sum of squared errors\n",
    "        total_loss /= len(train_data)\n",
    "        total_loss = np.sqrt(total_loss)\n",
    "\n",
    "        # Copy back updated matrices\n",
    "        U = U_temp\n",
    "        V = V_temp\n",
    "\n",
    "        # Validation phase (calculate validation loss)\n",
    "        for u, i, r_ui in val_data:\n",
    "            pred = b + b_u[u] + b_i[i] + np.dot(U[u, :], V[i, :])\n",
    "            e_ui = r_ui - pred  # Error\n",
    "            total_val_loss += e_ui ** 2\n",
    "        total_val_loss /= len(val_data)\n",
    "        total_val_loss = np.sqrt(total_val_loss)\n",
    "\n",
    "        # Append losses for the current epoch\n",
    "        losses.append(total_loss)\n",
    "        val_losses.append(total_val_loss)\n",
    "\n",
    "        print(f\"Epoch {epoch + 1}/{num_epochs}, RMSE Train Loss: {total_loss:.4f}, RMSE Val Loss: {total_val_loss:.4f}\")\n",
    "\n",
    "    # Test phase (calculate test loss)\n",
    "    test_loss = 0\n",
    "    for u, i, r_ui in test_data:\n",
    "        pred = b + b_u[u] + b_i[i] + np.dot(U[u, :], V[i, :])\n",
    "        e_ui = r_ui - pred  # Error\n",
    "        test_loss += e_ui ** 2\n",
    "    test_loss /= len(test_data)\n",
    "    test_loss = np.sqrt(test_loss)\n",
    "\n",
    "    print(f\"Final Test RMSE: {test_loss:.4f}\")\n",
    "\n",
    "    return U, V, b_u, b_i, b, losses, val_losses, test_data"
   ],
   "id": "bf5ae7de393eda7f",
   "outputs": [],
   "execution_count": null
  },
  {
   "metadata": {
    "ExecuteTime": {
     "start_time": "2025-04-14T20:54:52.874634193Z"
    }
   },
   "cell_type": "code",
   "source": [
    "U, V, b_u, b_i, b, _, _, test_data = sgd_matrix_factorization(df_concat, k=20, alpha=0.001, num_epochs=1, w_click=1,\n",
    "                                                              w_order=2, w_cart=3)"
   ],
   "id": "e5611f564625e996",
   "outputs": [],
   "execution_count": null
  },
  {
   "metadata": {},
   "cell_type": "markdown",
   "source": [
    "# Naive Bayes CF Model Based (Week6)"
   ],
   "id": "7019d53115e25098"
  },
  {
   "cell_type": "code",
   "execution_count": 55,
   "outputs": [],
   "source": [
    "def calculate_prior_probabilities():\n",
    "    num_items = ratings_matrix.shape[1]\n",
    "    prior_probs = {}\n",
    "\n",
    "    for item_idx in range(num_items):\n",
    "        item_ratings = ratings_matrix[:, item_idx]\n",
    "        # consider only non-missing ratings\n",
    "        valid_ratings = item_ratings[~np.isnan(item_ratings)]\n",
    "        if len(valid_ratings) == 0:\n",
    "            continue\n",
    "        # count the number of occurrences of each rating value\n",
    "        rating_counts = Counter(valid_ratings)\n",
    "        total_ratings = len(valid_ratings)\n",
    "        prior_probs[item_idx] = {rating: count / total_ratings for rating, count in rating_counts.items()}\n",
    "\n",
    "    with open('prior_probs.pkl', 'wb') as f:\n",
    "        pickle.dump(prior_probs, f)\n",
    "    return prior_probs"
   ],
   "metadata": {
    "collapsed": false,
    "ExecuteTime": {
     "end_time": "2025-04-14T21:03:58.318396537Z",
     "start_time": "2025-04-14T21:03:58.277525752Z"
    }
   },
   "id": "d90f61cef457ccb7"
  },
  {
   "cell_type": "code",
   "execution_count": 56,
   "outputs": [],
   "source": [
    "def calculate_conditional_probabilities():\n",
    "    num_items = ratings_matrix.shape[1]\n",
    "    conditional_probs = {}\n",
    "\n",
    "    for item_j in range(num_items):\n",
    "        # Iterate over each possible rating value vs\n",
    "        for vs in rating_values:\n",
    "            # Find users who have rated item j with rating vs\n",
    "            users_with_vs = np.where((ratings_matrix[:, item_j] == vs))[0]\n",
    "\n",
    "            # Skip if no users have rated item j with rating vs\n",
    "            if len(users_with_vs) == 0:\n",
    "                continue\n",
    "\n",
    "            conditional_probs[(item_j, vs)] = {}\n",
    "\n",
    "            # Iterate over all items k\n",
    "            for item_k in range(num_items):\n",
    "                # (excluding item j) to calculate conditional probabilities\n",
    "                if item_k == item_j:\n",
    "                    continue\n",
    "\n",
    "                # Find the ratings given by users who rated item j with vs for item k\n",
    "                ratings_for_k = ratings_matrix[users_with_vs, item_k]\n",
    "                # Consider only valid (non-NaN) ratings for item k\n",
    "                valid_ratings = ratings_for_k[~np.isnan(ratings_for_k)]\n",
    "\n",
    "                # Skip if no valid ratings for item k\n",
    "                if len(valid_ratings) == 0:\n",
    "                    continue\n",
    "\n",
    "                # Count the occurrences of each rating for item k\n",
    "                rating_counts = Counter(valid_ratings)\n",
    "                total_ratings = len(valid_ratings)\n",
    "\n",
    "                # Store the conditional probabilities for item k given item j's rating vs\n",
    "                conditional_probs[(item_j, vs)][item_k] = {\n",
    "                    rating: count / total_ratings for rating, count in rating_counts.items()\n",
    "                }\n",
    "\n",
    "    with open('conditional_probs.pkl', 'wb') as f:\n",
    "        pickle.dump(conditional_probs, f)\n",
    "\n",
    "    return conditional_probs"
   ],
   "metadata": {
    "collapsed": false,
    "ExecuteTime": {
     "end_time": "2025-04-14T21:03:58.705495618Z",
     "start_time": "2025-04-14T21:03:58.700561357Z"
    }
   },
   "id": "733d329b9e2f3139"
  },
  {
   "cell_type": "code",
   "execution_count": 57,
   "outputs": [],
   "source": [
    "def predict(user_idx, item_idx, prior_probabilities, conditional_probabilities):\n",
    "    # Identify items that the user has rated\n",
    "    observed_items = np.where(~np.isnan(ratings_matrix[user_idx, :]))[0]\n",
    "\n",
    "    # If no observed ratings or the item is missing from prior probabilities, return None\n",
    "    if len(observed_items) == 0 or item_idx not in prior_probabilities:\n",
    "        return None\n",
    "\n",
    "    posterior_probs = {}  # Dictionary to store posterior probabilities for each rating value\n",
    "\n",
    "    # Iterate through possible rating values\n",
    "    for vs in rating_values:\n",
    "\n",
    "        # Skip if this rating value is not part of the item's prior probabilities\n",
    "        if vs not in prior_probabilities[item_idx]:\n",
    "            continue\n",
    "\n",
    "        prior_prob = prior_probabilities[item_idx][vs]\n",
    "        conditional_prob_product = 1.0  # Start with a probability product of 1\n",
    "\n",
    "        # Iterate through observed items to compute the product of conditional probabilities\n",
    "        for k in observed_items:\n",
    "            # User's rating for item k\n",
    "            ruk = ratings_matrix[user_idx, k]\n",
    "\n",
    "            # Skip if conditional probabilities are missing for this combination\n",
    "            if (item_idx, vs) not in conditional_probabilities or \\\n",
    "                    k not in conditional_probabilities[(item_idx, vs)] or \\\n",
    "                    ruk not in conditional_probabilities[(item_idx, vs)][k]:\n",
    "                continue\n",
    "\n",
    "            # Multiply the conditional probability for this observation\n",
    "            conditional_prob_product *= conditional_probabilities[(item_idx, vs)][k][ruk]\n",
    "\n",
    "        # Compute the posterior probability for the current rating value\n",
    "        posterior_probs[vs] = prior_prob * conditional_prob_product\n",
    "\n",
    "    # If no valid posterior probabilities were found, return None\n",
    "    if not posterior_probs:\n",
    "        return None\n",
    "\n",
    "    # Compute the weighted average prediction\n",
    "    numerator = sum(vs * prob for vs, prob in posterior_probs.items())\n",
    "    denominator = sum(posterior_probs.values())\n",
    "    return numerator / denominator if denominator > 0 else None"
   ],
   "metadata": {
    "collapsed": false,
    "ExecuteTime": {
     "end_time": "2025-04-14T21:03:59.172821892Z",
     "start_time": "2025-04-14T21:03:59.167575477Z"
    }
   },
   "id": "282c88a76d53c851"
  },
  {
   "cell_type": "code",
   "execution_count": 61,
   "outputs": [],
   "source": [
    "ratings_matrix = ratings.pivot(index=\"userId\", columns=\"movieId\", values=\"rating\").to_numpy()"
   ],
   "metadata": {
    "collapsed": false,
    "ExecuteTime": {
     "end_time": "2025-04-14T21:05:00.668330293Z",
     "start_time": "2025-04-14T21:05:00.626953469Z"
    }
   },
   "id": "7978f434184ca817"
  },
  {
   "cell_type": "code",
   "execution_count": 62,
   "outputs": [
    {
     "data": {
      "text/plain": "array([0.5, 1. , 1.5, 2. , 2.5, 3. , 3.5, 4. , 4.5, 5. ])"
     },
     "execution_count": 62,
     "metadata": {},
     "output_type": "execute_result"
    }
   ],
   "source": [
    "rating_values = np.unique(ratings_matrix[~np.isnan(ratings_matrix)])\n",
    "rating_values"
   ],
   "metadata": {
    "collapsed": false,
    "ExecuteTime": {
     "end_time": "2025-04-14T21:05:00.985954139Z",
     "start_time": "2025-04-14T21:05:00.965831804Z"
    }
   },
   "id": "7e8bc81e82d8474f"
  },
  {
   "cell_type": "code",
   "execution_count": 63,
   "outputs": [],
   "source": [
    "# convert rating to like/dislike\n",
    "# ratings_matrix = ratings_matrix.map(lambda x: 1 if x >= 4 else (0 if x <= 2 else np.nan))\n",
    "# ratings_matrix.head().iloc[:, :10]\n",
    "# ratings_matrix = ratings_matrix.to_numpy()"
   ],
   "metadata": {
    "ExecuteTime": {
     "end_time": "2025-04-14T21:05:01.842496598Z",
     "start_time": "2025-04-14T21:05:01.835996875Z"
    }
   },
   "id": "ed48ad65a701138d"
  },
  {
   "cell_type": "code",
   "execution_count": 64,
   "outputs": [],
   "source": [
    "prior_probs = calculate_prior_probabilities()\n",
    "conditional_probs = calculate_conditional_probabilities()\n",
    "# def load_prior_probabilities():\n",
    "#     with open('prior_probs.pkl', 'rb') as f:\n",
    "#         return pickle.load(f)\n",
    "# \n",
    "# def load_conditional_probabilities():\n",
    "#     with open('conditional_probs.pkl', 'rb') as f:\n",
    "#         return pickle.load(f)\n",
    "#     \n",
    "# prior_probs = load_prior_probabilities()\n",
    "# conditional_probs = load_conditional_probabilities()"
   ],
   "metadata": {
    "collapsed": false,
    "ExecuteTime": {
     "end_time": "2025-04-14T21:15:49.449539587Z",
     "start_time": "2025-04-14T21:05:02.590410296Z"
    }
   },
   "id": "4edc1de27fbd5e5c"
  },
  {
   "cell_type": "code",
   "execution_count": 65,
   "outputs": [],
   "source": [
    "def mask_ratings_matrix(test_ratio=0.2):\n",
    "    # Initialize a boolean mask for the test set (False by default)\n",
    "    test_mask = np.zeros_like(ratings_matrix, dtype=bool)\n",
    "\n",
    "    for user_idx in range(ratings_matrix.shape[0]):\n",
    "        # Identify items that the user has rated\n",
    "        rated_items = np.where(~np.isnan(ratings_matrix[user_idx, :]))[0]\n",
    "\n",
    "        # Ensure the user has rated more than one item (to allow splitting)\n",
    "        if len(rated_items) > 1:\n",
    "            # Calculate the number of items to include in the test set\n",
    "            num_test = max(1, int(test_ratio * len(rated_items)))\n",
    "\n",
    "            # Randomly select `num_test` items to assign to the test set\n",
    "            test_indices = np.random.choice(rated_items, size=num_test, replace=False)\n",
    "\n",
    "            # Mark the selected test items in the mask\n",
    "            for item_idx in test_indices:\n",
    "                test_mask[user_idx, item_idx] = True\n",
    "\n",
    "    return test_mask"
   ],
   "metadata": {
    "collapsed": false,
    "ExecuteTime": {
     "end_time": "2025-04-14T21:15:49.491948201Z",
     "start_time": "2025-04-14T21:15:49.490112416Z"
    }
   },
   "id": "9da213981c0ce8e1"
  },
  {
   "cell_type": "code",
   "execution_count": 66,
   "outputs": [],
   "source": [
    "test_mask = mask_ratings_matrix(test_ratio=0.2)"
   ],
   "metadata": {
    "collapsed": false,
    "ExecuteTime": {
     "end_time": "2025-04-14T21:15:49.493208476Z",
     "start_time": "2025-04-14T21:15:49.490423199Z"
    }
   },
   "id": "b16e740ac7e371ac"
  },
  {
   "cell_type": "markdown",
   "source": [
    "# 1. Accuracy metrics on ratings prediction and analyse the effect of the long tail"
   ],
   "metadata": {
    "collapsed": false
   },
   "id": "913a63253d4eacf4"
  },
  {
   "cell_type": "code",
   "execution_count": 83,
   "outputs": [
    {
     "data": {
      "text/plain": "   userId  movieId  rating  timestamp  prediction\n0       1        1     4.0  964982703         NaN\n1       1        3     4.0  964981247         NaN\n2       1        6     4.0  964982224         NaN\n3       1       47     5.0  964983815         NaN\n4       1       50     5.0  964982931         NaN",
      "text/html": "<div>\n<style scoped>\n    .dataframe tbody tr th:only-of-type {\n        vertical-align: middle;\n    }\n\n    .dataframe tbody tr th {\n        vertical-align: top;\n    }\n\n    .dataframe thead th {\n        text-align: right;\n    }\n</style>\n<table border=\"1\" class=\"dataframe\">\n  <thead>\n    <tr style=\"text-align: right;\">\n      <th></th>\n      <th>userId</th>\n      <th>movieId</th>\n      <th>rating</th>\n      <th>timestamp</th>\n      <th>prediction</th>\n    </tr>\n  </thead>\n  <tbody>\n    <tr>\n      <th>0</th>\n      <td>1</td>\n      <td>1</td>\n      <td>4.0</td>\n      <td>964982703</td>\n      <td>NaN</td>\n    </tr>\n    <tr>\n      <th>1</th>\n      <td>1</td>\n      <td>3</td>\n      <td>4.0</td>\n      <td>964981247</td>\n      <td>NaN</td>\n    </tr>\n    <tr>\n      <th>2</th>\n      <td>1</td>\n      <td>6</td>\n      <td>4.0</td>\n      <td>964982224</td>\n      <td>NaN</td>\n    </tr>\n    <tr>\n      <th>3</th>\n      <td>1</td>\n      <td>47</td>\n      <td>5.0</td>\n      <td>964983815</td>\n      <td>NaN</td>\n    </tr>\n    <tr>\n      <th>4</th>\n      <td>1</td>\n      <td>50</td>\n      <td>5.0</td>\n      <td>964982931</td>\n      <td>NaN</td>\n    </tr>\n  </tbody>\n</table>\n</div>"
     },
     "execution_count": 83,
     "metadata": {},
     "output_type": "execute_result"
    }
   ],
   "source": [
    "ratings_copy = ratings.copy()\n",
    "ratings_copy[\"prediction\"] = np.nan\n",
    "ratings_copy.head()"
   ],
   "metadata": {
    "collapsed": false,
    "ExecuteTime": {
     "end_time": "2025-04-14T21:19:47.655886668Z",
     "start_time": "2025-04-14T21:19:47.614526762Z"
    }
   },
   "id": "bdb70ea6367af01e"
  },
  {
   "cell_type": "code",
   "execution_count": 84,
   "outputs": [],
   "source": [
    "def evaluate_model(test_matrix, prior_probabilities, conditional_probabilities):\n",
    "    predictions = []\n",
    "    actuals = []\n",
    "\n",
    "    for user_idx in range(ratings_matrix.shape[0]):\n",
    "        for item_idx in range(ratings_matrix.shape[1]):\n",
    "            # Check if the item is part of the test set and has a valid rating\n",
    "            if test_matrix[user_idx, item_idx] and not np.isnan(ratings_matrix[user_idx, item_idx]):\n",
    "                pred = predict(user_idx, item_idx, prior_probabilities, conditional_probabilities)\n",
    "                mask = (ratings_copy[\"userId\"] == user_idx) & (ratings_copy[\"movieId\"] == item_idx)\n",
    "                if mask.any():\n",
    "                    ratings_copy.loc[mask, \"prediction\"] = pred\n",
    "\n",
    "                if pred is not None:\n",
    "                    predictions.append(pred)\n",
    "                    actuals.append(ratings_matrix[user_idx, item_idx])\n",
    "\n",
    "    return actuals, predictions"
   ],
   "metadata": {
    "collapsed": false,
    "ExecuteTime": {
     "end_time": "2025-04-14T21:19:52.514567484Z",
     "start_time": "2025-04-14T21:19:52.497845962Z"
    }
   },
   "id": "970a6676ced7ceb8"
  },
  {
   "cell_type": "code",
   "execution_count": 85,
   "outputs": [],
   "source": [
    "actuals, predictions = evaluate_model(test_mask, prior_probs, conditional_probs)"
   ],
   "metadata": {
    "collapsed": false,
    "ExecuteTime": {
     "end_time": "2025-04-14T21:20:38.442364117Z",
     "start_time": "2025-04-14T21:19:54.839845469Z"
    }
   },
   "id": "da20b10c3deba382"
  },
  {
   "cell_type": "code",
   "execution_count": 72,
   "outputs": [
    {
     "data": {
      "text/plain": "[1.5000000398801125,\n 1.0000000829877125,\n 1.0004370459658825,\n 2.166648807355179,\n 2.8636383193274195,\n 0.5000000021361806,\n 2.6333333333333546,\n 0.5000000288269695,\n 2.75,\n 1.3333833426207724]"
     },
     "execution_count": 72,
     "metadata": {},
     "output_type": "execute_result"
    }
   ],
   "source": [
    "predictions[:10]"
   ],
   "metadata": {
    "collapsed": false,
    "ExecuteTime": {
     "end_time": "2025-04-14T21:18:02.313400508Z",
     "start_time": "2025-04-14T21:18:02.311114568Z"
    }
   },
   "id": "bd16a717b0c1ed2c"
  },
  {
   "cell_type": "code",
   "execution_count": 75,
   "outputs": [
    {
     "data": {
      "text/plain": "{'MAE': 1.636855540233856,\n 'RMSE': 1.995951664792834,\n 'Accuracy': 0.43051306484778573}"
     },
     "execution_count": 75,
     "metadata": {},
     "output_type": "execute_result"
    }
   ],
   "source": [
    "evaluate_rating_predictions(actuals, predictions, threshold=3.5)"
   ],
   "metadata": {
    "collapsed": false,
    "ExecuteTime": {
     "end_time": "2025-04-14T21:18:19.987171741Z",
     "start_time": "2025-04-14T21:18:19.967447664Z"
    }
   },
   "id": "605c62f61ea97195"
  },
  {
   "cell_type": "code",
   "execution_count": 79,
   "outputs": [
    {
     "data": {
      "text/plain": "<Figure size 800x600 with 2 Axes>",
      "image/png": "[encoded data removed]"
     },
     "metadata": {},
     "output_type": "display_data"
    }
   ],
   "source": [
    "plot_confusion_matrix(actuals, predictions, threshold=3.5)"
   ],
   "metadata": {
    "collapsed": false,
    "ExecuteTime": {
     "end_time": "2025-04-14T21:19:04.468658827Z",
     "start_time": "2025-04-14T21:19:04.371407342Z"
    }
   },
   "id": "c81914c458483b0"
  },
  {
   "cell_type": "code",
   "execution_count": 87,
   "outputs": [
    {
     "data": {
      "text/plain": "   userId  movieId  rating  timestamp  prediction\n0       1        1     4.0  964982703         NaN\n1       1        3     4.0  964981247         NaN\n2       1        6     4.0  964982224         NaN\n3       1       47     5.0  964983815         NaN\n4       1       50     5.0  964982931         NaN",
      "text/html": "<div>\n<style scoped>\n    .dataframe tbody tr th:only-of-type {\n        vertical-align: middle;\n    }\n\n    .dataframe tbody tr th {\n        vertical-align: top;\n    }\n\n    .dataframe thead th {\n        text-align: right;\n    }\n</style>\n<table border=\"1\" class=\"dataframe\">\n  <thead>\n    <tr style=\"text-align: right;\">\n      <th></th>\n      <th>userId</th>\n      <th>movieId</th>\n      <th>rating</th>\n      <th>timestamp</th>\n      <th>prediction</th>\n    </tr>\n  </thead>\n  <tbody>\n    <tr>\n      <th>0</th>\n      <td>1</td>\n      <td>1</td>\n      <td>4.0</td>\n      <td>964982703</td>\n      <td>NaN</td>\n    </tr>\n    <tr>\n      <th>1</th>\n      <td>1</td>\n      <td>3</td>\n      <td>4.0</td>\n      <td>964981247</td>\n      <td>NaN</td>\n    </tr>\n    <tr>\n      <th>2</th>\n      <td>1</td>\n      <td>6</td>\n      <td>4.0</td>\n      <td>964982224</td>\n      <td>NaN</td>\n    </tr>\n    <tr>\n      <th>3</th>\n      <td>1</td>\n      <td>47</td>\n      <td>5.0</td>\n      <td>964983815</td>\n      <td>NaN</td>\n    </tr>\n    <tr>\n      <th>4</th>\n      <td>1</td>\n      <td>50</td>\n      <td>5.0</td>\n      <td>964982931</td>\n      <td>NaN</td>\n    </tr>\n  </tbody>\n</table>\n</div>"
     },
     "execution_count": 87,
     "metadata": {},
     "output_type": "execute_result"
    }
   ],
   "source": [
    "ratings_copy.head()"
   ],
   "metadata": {
    "collapsed": false,
    "ExecuteTime": {
     "end_time": "2025-04-14T21:20:45.306242720Z",
     "start_time": "2025-04-14T21:20:45.264820916Z"
    }
   },
   "id": "2682fd80cb037baa"
  },
  {
   "cell_type": "code",
   "execution_count": 88,
   "outputs": [
    {
     "data": {
      "text/plain": "popularity\nhead         1.681482\nlong_tail    1.558254\nName: error, dtype: float64"
     },
     "execution_count": 88,
     "metadata": {},
     "output_type": "execute_result"
    }
   ],
   "source": [
    "analyze_long_tail_effect(ratings_copy, prediction_column='prediction')"
   ],
   "metadata": {
    "collapsed": false,
    "ExecuteTime": {
     "end_time": "2025-04-14T21:22:12.415338766Z",
     "start_time": "2025-04-14T21:22:12.247889341Z"
    }
   },
   "id": "4d15f1359b3fba47"
  },
  {
   "cell_type": "code",
   "execution_count": 89,
   "outputs": [
    {
     "data": {
      "text/plain": "   userId  movieId  rating  timestamp  prediction popularity  error\n0       1        1     4.0  964982703         NaN       head    NaN\n1       1        3     4.0  964981247         NaN       head    NaN\n2       1        6     4.0  964982224         NaN       head    NaN\n3       1       47     5.0  964983815         NaN       head    NaN\n4       1       50     5.0  964982931         NaN       head    NaN",
      "text/html": "<div>\n<style scoped>\n    .dataframe tbody tr th:only-of-type {\n        vertical-align: middle;\n    }\n\n    .dataframe tbody tr th {\n        vertical-align: top;\n    }\n\n    .dataframe thead th {\n        text-align: right;\n    }\n</style>\n<table border=\"1\" class=\"dataframe\">\n  <thead>\n    <tr style=\"text-align: right;\">\n      <th></th>\n      <th>userId</th>\n      <th>movieId</th>\n      <th>rating</th>\n      <th>timestamp</th>\n      <th>prediction</th>\n      <th>popularity</th>\n      <th>error</th>\n    </tr>\n  </thead>\n  <tbody>\n    <tr>\n      <th>0</th>\n      <td>1</td>\n      <td>1</td>\n      <td>4.0</td>\n      <td>964982703</td>\n      <td>NaN</td>\n      <td>head</td>\n      <td>NaN</td>\n    </tr>\n    <tr>\n      <th>1</th>\n      <td>1</td>\n      <td>3</td>\n      <td>4.0</td>\n      <td>964981247</td>\n      <td>NaN</td>\n      <td>head</td>\n      <td>NaN</td>\n    </tr>\n    <tr>\n      <th>2</th>\n      <td>1</td>\n      <td>6</td>\n      <td>4.0</td>\n      <td>964982224</td>\n      <td>NaN</td>\n      <td>head</td>\n      <td>NaN</td>\n    </tr>\n    <tr>\n      <th>3</th>\n      <td>1</td>\n      <td>47</td>\n      <td>5.0</td>\n      <td>964983815</td>\n      <td>NaN</td>\n      <td>head</td>\n      <td>NaN</td>\n    </tr>\n    <tr>\n      <th>4</th>\n      <td>1</td>\n      <td>50</td>\n      <td>5.0</td>\n      <td>964982931</td>\n      <td>NaN</td>\n      <td>head</td>\n      <td>NaN</td>\n    </tr>\n  </tbody>\n</table>\n</div>"
     },
     "execution_count": 89,
     "metadata": {},
     "output_type": "execute_result"
    }
   ],
   "source": [
    "ratings_copy.head()"
   ],
   "metadata": {
    "collapsed": false,
    "ExecuteTime": {
     "end_time": "2025-04-14T21:22:21.189717773Z",
     "start_time": "2025-04-14T21:22:21.176721140Z"
    }
   },
   "id": "164f91dab7905294"
  },
  {
   "cell_type": "markdown",
   "source": [
    "# 2.Visualize the average error per movie category and movie popularity"
   ],
   "metadata": {
    "collapsed": false
   },
   "id": "e664dba211158642"
  },
  {
   "cell_type": "code",
   "execution_count": 94,
   "outputs": [],
   "source": [
    "import matplotlib.pyplot as plt\n",
    "\n",
    "def plot_avg_error_by_genre(ratings_df, movies_df, prediction_column='predicted_rating'):\n",
    "    df = pd.merge(ratings_df, movies_df, on='movieId')\n",
    "    df['genres'] = df['genres'].str.split('|')\n",
    "    df = df.explode('genres')\n",
    "    df['error'] = abs(df['rating'] - df[prediction_column])\n",
    "    genre_error = df.groupby('genres')['error'].mean()\n",
    "    genre_error.plot(kind='bar', figsize=(12, 6), title='Average Error per Genre')\n",
    "    plt.show()\n",
    "\n",
    "\n",
    "def plot_avg_error_by_popularity(ratings_df, prediction_column='predicted_rating'):\n",
    "    movie_counts = ratings_df['movieId'].value_counts()\n",
    "    ratings_df['popularity_bin'] = pd.qcut(ratings_df['movieId'].map(movie_counts), q=3,\n",
    "                                           labels=['Low', 'Medium', 'High'])\n",
    "    ratings_df['error'] = abs(ratings_df['rating'] - ratings_df[prediction_column])\n",
    "    pop_error = ratings_df.groupby('popularity_bin')['error'].mean()\n",
    "    pop_error.plot(kind='bar', figsize=(8, 5), title='Error by Popularity Bin')\n",
    "    plt.show()"
   ],
   "metadata": {
    "collapsed": false,
    "ExecuteTime": {
     "end_time": "2025-04-14T21:24:59.159047224Z",
     "start_time": "2025-04-14T21:24:59.117241990Z"
    }
   },
   "id": "37f60aabb28645e9"
  },
  {
   "cell_type": "code",
   "execution_count": 95,
   "outputs": [
    {
     "data": {
      "text/plain": "<Figure size 1200x600 with 1 Axes>",
      "image/png": "[encoded data removed]"
     },
     "metadata": {},
     "output_type": "display_data"
    }
   ],
   "source": [
    "plot_avg_error_by_genre(ratings_copy, movies, prediction_column='prediction')"
   ],
   "metadata": {
    "collapsed": false,
    "ExecuteTime": {
     "end_time": "2025-04-14T21:25:02.840089659Z",
     "start_time": "2025-04-14T21:25:00.746313162Z"
    }
   },
   "id": "61405640a6836927"
  },
  {
   "cell_type": "code",
   "execution_count": 97,
   "outputs": [
    {
     "name": "stderr",
     "output_type": "stream",
     "text": [
      "/tmp/ipykernel_10627/1046022393.py:18: FutureWarning: The default of observed=False is deprecated and will be changed to True in a future version of pandas. Pass observed=False to retain current behavior or observed=True to adopt the future default and silence this warning.\n",
      "  pop_error = ratings_df.groupby('popularity_bin')['error'].mean()\n"
     ]
    },
    {
     "data": {
      "text/plain": "<Figure size 800x500 with 1 Axes>",
      "image/png": "[encoded data removed]"
     },
     "metadata": {},
     "output_type": "display_data"
    }
   ],
   "source": [
    "plot_avg_error_by_popularity(ratings_copy, prediction_column='prediction')"
   ],
   "metadata": {
    "collapsed": false,
    "ExecuteTime": {
     "end_time": "2025-04-14T21:25:29.353748955Z",
     "start_time": "2025-04-14T21:25:29.274982534Z"
    }
   },
   "id": "2440369ceeb94e28"
  },
  {
   "metadata": {
    "ExecuteTime": {
     "end_time": "2025-04-14T20:54:54.548754788Z",
     "start_time": "2025-04-14T20:54:54.421637484Z"
    }
   },
   "cell_type": "code",
   "source": [
    "# def test_naive_cf_model_based(df_test, df_train_user_movie):\n",
    "# \n",
    "#     df_predictions = df_test.copy()\n",
    "# \n",
    "#     for idx, row in enumerate(df_predictions.itertuples()):\n",
    "#         userId = row.userId\n",
    "#         movieId = row.movieId\n",
    "# \n",
    "#         # Film visti dall'utente, dai dati di TRAIN\n",
    "#         try:\n",
    "#             films_seen = df_train_user_movie.loc[userId].dropna().index\n",
    "#         except KeyError:\n",
    "#             # Utente non presente nel train (cold start) → skip\n",
    "#             continue\n",
    "# \n",
    "#         category_probs = {}\n",
    "# \n",
    "#         for category in ratings_ordinals:\n",
    "#             df_current_movie = train[(train['movieId'] == movieId)]\n",
    "#             df_current_movie_category = df_current_movie[(df_current_movie['rating_ordinal'] == category)]\n",
    "# \n",
    "#             if len(df_current_movie) == 0:\n",
    "#                 continue  # impossibile stimare, nessuno ha votato il film\n",
    "# \n",
    "#             users_with_category = df_current_movie_category['userId'].unique()\n",
    "# \n",
    "#             p_cat = len(df_current_movie_category) / len(df_current_movie)\n",
    "#             probs = [p_cat]\n",
    "# \n",
    "#             for film_seen in films_seen:\n",
    "#                 try:\n",
    "#                     assigned_rating = df_train_user_movie.loc[userId, film_seen]\n",
    "#                 except KeyError:\n",
    "#                     continue  # Film non presente per quell’utente\n",
    "# \n",
    "#                 df_seen_movie = train[train['movieId'] == film_seen]\n",
    "#                 df_seen_movie_filtered = df_seen_movie[df_seen_movie['userId'].isin(users_with_category)]\n",
    "#                 df_seen_movie_same_rating = df_seen_movie_filtered[df_seen_movie_filtered['rating_ordinal'] == assigned_rating]\n",
    "# \n",
    "#                 if len(df_seen_movie_filtered) == 0:\n",
    "#                     continue\n",
    "# \n",
    "#                 p_cond = len(df_seen_movie_same_rating) / len(df_seen_movie_filtered)\n",
    "#                 probs.append(p_cond)\n",
    "# \n",
    "#             category_probs[category] = np.prod(probs)\n",
    "# \n",
    "#         if category_probs:\n",
    "#             predicted = max(category_probs.items(), key=lambda x: x[1])[0]\n",
    "#             df_predictions.loc[(df_predictions['userId'] == userId) & (df_predictions['movieId'] == movieId), 'predicted'] = predicted\n",
    "# \n",
    "#         if idx % 50 == 0:\n",
    "#             print(f\"Processed {idx}/{len(df_predictions)}\")\n",
    "# \n",
    "#     return df_predictions"
   ],
   "id": "6199cf520705d832",
   "outputs": [],
   "execution_count": 10
  },
  {
   "metadata": {
    "ExecuteTime": {
     "end_time": "2025-04-14T20:54:54.660189507Z",
     "start_time": "2025-04-14T20:54:54.530297593Z"
    }
   },
   "cell_type": "code",
   "source": [
    "# df_predictions = test_naive_cf_model_based(df_test, df_train_user_movie)"
   ],
   "id": "3d533add08f443b7",
   "outputs": [],
   "execution_count": 11
  },
  {
   "metadata": {
    "ExecuteTime": {
     "end_time": "2025-04-14T20:54:54.770184867Z",
     "start_time": "2025-04-14T20:54:54.643175721Z"
    }
   },
   "cell_type": "code",
   "source": [
    "# df_predictions.head(10)"
   ],
   "id": "9b8e1de1c505154b",
   "outputs": [],
   "execution_count": 12
  },
  {
   "metadata": {
    "ExecuteTime": {
     "end_time": "2025-04-14T20:54:54.897644384Z",
     "start_time": "2025-04-14T20:54:54.712351703Z"
    }
   },
   "cell_type": "code",
   "source": [
    "# from sklearn.metrics import classification_report\n",
    "# \n",
    "# # Skipping the NaN values (where we don't have that user in train / film without ratings)\n",
    "# df_predictions.dropna(subset=['predicted'], inplace=True)"
   ],
   "id": "fcbccf8041c43594",
   "outputs": [],
   "execution_count": 13
  },
  {
   "metadata": {
    "ExecuteTime": {
     "end_time": "2025-04-14T20:54:54.981103784Z",
     "start_time": "2025-04-14T20:54:54.839510615Z"
    }
   },
   "cell_type": "code",
   "source": [
    "# df_predictions['rating_label'] = df_predictions['rating_ordinal'].map({\n",
    "#     \"Don't like\": 0,\n",
    "#     \"Like\": 1\n",
    "# })\n",
    "# \n",
    "# df_predictions['pred_label'] = df_predictions['predicted'].map({\n",
    "#     \"Don't like\": 0,\n",
    "#     \"Like\": 1\n",
    "# })\n",
    "# \n",
    "# print(classification_report(df_predictions['rating_label'], df_predictions['pred_label']))"
   ],
   "id": "57c45eb66ec2c752",
   "outputs": [],
   "execution_count": 14
  },
  {
   "metadata": {},
   "cell_type": "markdown",
   "source": [
    "# Bayes Classification Content-based (week 8)"
   ],
   "id": "f5debd8f94280067"
  },
  {
   "metadata": {
    "ExecuteTime": {
     "end_time": "2025-04-14T21:27:11.773417968Z",
     "start_time": "2025-04-14T21:27:11.730893532Z"
    }
   },
   "cell_type": "code",
   "source": [
    "## Preprocess Movie Metadata\n",
    "tags_agg = tags.copy().groupby(\"movieId\")[\"tag\"].apply(lambda x: \" \".join(x)).reset_index()\n",
    "movies_df = movies.copy().merge(tags_agg, on=\"movieId\", how=\"left\")\n",
    "movies_df[\"tag\"] = movies_df[\"tag\"].fillna(\"\")"
   ],
   "id": "2113ce104faf20a9",
   "outputs": [],
   "execution_count": 98
  },
  {
   "metadata": {},
   "cell_type": "markdown",
   "source": [
    "#### 1. User-Specific Naive Bayes Recommender"
   ],
   "id": "4e800e705b0a614e"
  },
  {
   "metadata": {
    "ExecuteTime": {
     "end_time": "2025-04-14T21:42:49.465756719Z",
     "start_time": "2025-04-14T21:42:49.422368383Z"
    }
   },
   "cell_type": "code",
   "source": [
    "# Clean the title by removing the year in parentheses\n",
    "def clean_title(title):\n",
    "    return re.sub(r'\\s*\\(\\d{4}\\)', '', title)\n",
    "\n",
    "\n",
    "metadata = movies_df[[\"movieId\", \"title\", \"genres\"]]\n",
    "metadata.loc[:, 'title'] = metadata['title'].apply(clean_title)\n",
    "\n",
    "mlb = MultiLabelBinarizer()\n",
    "genres_encoded = mlb.fit_transform(metadata['genres'].str.split('|'))\n",
    "# Create a DataFrame with the encoded genres\n",
    "genres_df = pd.DataFrame(genres_encoded, columns=mlb.classes_)\n",
    "# Concatenate the original metadata with the encoded genres\n",
    "metadata = pd.concat([metadata[['movieId', 'title']], genres_df], axis=1)\n",
    "\n",
    "tfidf = TfidfVectorizer(max_features=1000, stop_words='english')\n",
    "\n",
    "# Create a preprocessor that transforms the movie metadata:\n",
    "# - Applies TF-IDF vectorization to the cleaned 'title' column to extract textual features.\n",
    "# - Passes through the binary genre columns (already transformed by MultiLabelBinarizer).\n",
    "# - Drops any remaining columns that are not explicitly selected.\n",
    "preprocessor = ColumnTransformer(\n",
    "    transformers=[\n",
    "        ('tfidf', tfidf, 'title'),\n",
    "        ('genres', 'passthrough', genres_df.columns)\n",
    "    ],\n",
    "    remainder='drop'\n",
    ")"
   ],
   "id": "3c899a8aa448d3a3",
   "outputs": [],
   "execution_count": 112
  },
  {
   "metadata": {
    "ExecuteTime": {
     "end_time": "2025-04-14T21:42:50.940161387Z",
     "start_time": "2025-04-14T21:42:50.922627434Z"
    }
   },
   "cell_type": "code",
   "source": [
    "def predict_single_movie(user_id, movie_id, threshold=3.5):\n",
    "    ratings = ratings_train.copy()\n",
    "\n",
    "    # Step 1: Prepare user data\n",
    "    user_ratings = ratings[ratings['userId'] == user_id]\n",
    "    user_data = pd.merge(user_ratings, metadata, on='movieId')\n",
    "\n",
    "    # Step 2: Create binary labels\n",
    "    user_data['label'] = user_data['rating'].apply(lambda r: 1 if r >= threshold else (0 if r < threshold else None))\n",
    "    user_data = user_data.dropna(subset=['label'])\n",
    "    user_data['label'] = user_data['label'].astype(int)\n",
    "\n",
    "    if user_data.empty:\n",
    "        print(\"User has insufficient data.\")\n",
    "        return None\n",
    "\n",
    "    # Step 3: Train the model\n",
    "    pipeline = Pipeline([\n",
    "        ('preprocessor', preprocessor),\n",
    "        ('classifier', MultinomialNB())\n",
    "    ])\n",
    "\n",
    "    X_train = user_data.drop(columns=['userId', 'rating', 'label', 'timestamp', 'rating_ordinal'])\n",
    "    y_train = user_data['label']\n",
    "\n",
    "    pipeline.fit(X_train, y_train)\n",
    "\n",
    "    # Step 4: Check if the movie has already been watched\n",
    "    if movie_id in user_ratings['movieId'].values:\n",
    "        print(\"The movie has already been watched by the user.\")\n",
    "        return None\n",
    "\n",
    "    # Step 5: Extract features of the requested movie\n",
    "    movie_row = metadata[metadata['movieId'] == movie_id]\n",
    "\n",
    "    if movie_row.empty:\n",
    "        print(\"Movie ID not found in the metadata.\")\n",
    "        return None\n",
    "\n",
    "    input_cols = list(X_train.columns)\n",
    "    movie_features = movie_row[input_cols]\n",
    "\n",
    "    # Step 6: Predict the probability of liking the movie\n",
    "    probs = pipeline.predict_proba(movie_features)[0]  # P(liked | features)\n",
    "    if len(probs) < 2:\n",
    "        print(f\"The model for user {user_id} has seen only one class (not like/like).\")\n",
    "        return None\n",
    "    else:\n",
    "        prob = probs[1]\n",
    "\n",
    "    return \"Like\" if prob >= 0.5 else \"Don't like\""
   ],
   "id": "621d69e8f2d31476",
   "outputs": [],
   "execution_count": 113
  },
  {
   "cell_type": "code",
   "execution_count": 107,
   "outputs": [],
   "source": [
    "def evaluate_all_users(ratings_matrix, ratings_train):\n",
    "    actuals = []\n",
    "    predictions = []\n",
    "\n",
    "    user_ids = ratings_matrix.index\n",
    "    movie_ids = ratings_matrix.columns\n",
    "\n",
    "    for user_id in user_ids:\n",
    "        for movie_id in movie_ids:\n",
    "            rating = ratings_matrix.loc[user_id, movie_id]\n",
    "\n",
    "            # Skip if no actual rating\n",
    "            if pd.isna(rating):\n",
    "                continue\n",
    "\n",
    "            # Convert to binary label: 1 = Like (rating >= 4), 0 = Dislike (rating <= 2), else skip\n",
    "            if rating >= 4:\n",
    "                actual = 1\n",
    "            elif rating <= 2:\n",
    "                actual = 0\n",
    "            else:\n",
    "                continue  # ambiguous rating (e.g., 3)\n",
    "\n",
    "            # Predict using your custom function\n",
    "            pred_label = predict_single_movie(user_id, movie_id, ratings_train)\n",
    "            \n",
    "            mask = (ratings_copy[\"userId\"] == user_id) & (ratings_copy[\"movieId\"] == movie_id)\n",
    "            if mask.any():\n",
    "                ratings_copy.loc[mask, \"prediction\"] = pred_label\n",
    "\n",
    "            # Convert prediction to binary: \"Like\" → 1, \"Don't like\" → 0\n",
    "            if pred_label is not None:\n",
    "                pred = 1 if pred_label == \"Like\" else 0\n",
    "                actuals.append(actual)\n",
    "                predictions.append(pred)\n",
    "\n",
    "    return actuals, predictions"
   ],
   "metadata": {
    "collapsed": false,
    "ExecuteTime": {
     "end_time": "2025-04-14T21:37:06.107617404Z",
     "start_time": "2025-04-14T21:37:06.093837519Z"
    }
   },
   "id": "fd969071c6e2a558"
  },
  {
   "cell_type": "code",
   "execution_count": 110,
   "outputs": [],
   "source": [
    "ratings_matrix = ratings.pivot(index=\"userId\", columns=\"movieId\", values=\"rating\")"
   ],
   "metadata": {
    "collapsed": false,
    "ExecuteTime": {
     "end_time": "2025-04-14T21:38:36.509581817Z",
     "start_time": "2025-04-14T21:38:36.467517112Z"
    }
   },
   "id": "599917d7331f2cd4"
  },
  {
   "metadata": {
    "ExecuteTime": {
     "end_time": "2025-04-14T21:38:38.919758366Z",
     "start_time": "2025-04-14T21:38:38.889968123Z"
    }
   },
   "cell_type": "code",
   "source": [
    "actuals, predictions = evaluate_all_users(ratings_matrix, test_mask)"
   ],
   "id": "ad8b0d9b5380540c",
   "outputs": [
    {
     "ename": "IndexError",
     "evalue": "only integers, slices (`:`), ellipsis (`...`), numpy.newaxis (`None`) and integer or boolean arrays are valid indices",
     "output_type": "error",
     "traceback": [
      "\u001B[0;31m---------------------------------------------------------------------------\u001B[0m",
      "\u001B[0;31mIndexError\u001B[0m                                Traceback (most recent call last)",
      "Cell \u001B[0;32mIn[111], line 1\u001B[0m\n\u001B[0;32m----> 1\u001B[0m actuals, predictions \u001B[38;5;241m=\u001B[39m \u001B[43mevaluate_all_users\u001B[49m\u001B[43m(\u001B[49m\u001B[43mratings_matrix\u001B[49m\u001B[43m,\u001B[49m\u001B[43m \u001B[49m\u001B[43mtest_mask\u001B[49m\u001B[43m)\u001B[49m\n",
      "Cell \u001B[0;32mIn[107], line 25\u001B[0m, in \u001B[0;36mevaluate_all_users\u001B[0;34m(ratings_matrix, ratings_train)\u001B[0m\n\u001B[1;32m     22\u001B[0m     \u001B[38;5;28;01mcontinue\u001B[39;00m  \u001B[38;5;66;03m# ambiguous rating (e.g., 3)\u001B[39;00m\n\u001B[1;32m     24\u001B[0m \u001B[38;5;66;03m# Predict using your custom function\u001B[39;00m\n\u001B[0;32m---> 25\u001B[0m pred_label \u001B[38;5;241m=\u001B[39m \u001B[43mpredict_single_movie\u001B[49m\u001B[43m(\u001B[49m\u001B[43muser_id\u001B[49m\u001B[43m,\u001B[49m\u001B[43m \u001B[49m\u001B[43mmovie_id\u001B[49m\u001B[43m,\u001B[49m\u001B[43m \u001B[49m\u001B[43mratings_train\u001B[49m\u001B[43m)\u001B[49m\n\u001B[1;32m     27\u001B[0m mask \u001B[38;5;241m=\u001B[39m (ratings_copy[\u001B[38;5;124m\"\u001B[39m\u001B[38;5;124muserId\u001B[39m\u001B[38;5;124m\"\u001B[39m] \u001B[38;5;241m==\u001B[39m user_id) \u001B[38;5;241m&\u001B[39m (ratings_copy[\u001B[38;5;124m\"\u001B[39m\u001B[38;5;124mmovieId\u001B[39m\u001B[38;5;124m\"\u001B[39m] \u001B[38;5;241m==\u001B[39m movie_id)\n\u001B[1;32m     28\u001B[0m \u001B[38;5;28;01mif\u001B[39;00m mask\u001B[38;5;241m.\u001B[39many():\n",
      "Cell \u001B[0;32mIn[104], line 5\u001B[0m, in \u001B[0;36mpredict_single_movie\u001B[0;34m(user_id, movie_id, ratings_train, threshold)\u001B[0m\n\u001B[1;32m      2\u001B[0m ratings \u001B[38;5;241m=\u001B[39m ratings_train\u001B[38;5;241m.\u001B[39mcopy()\n\u001B[1;32m      4\u001B[0m \u001B[38;5;66;03m# Step 1: Prepare user data\u001B[39;00m\n\u001B[0;32m----> 5\u001B[0m user_ratings \u001B[38;5;241m=\u001B[39m ratings[\u001B[43mratings\u001B[49m\u001B[43m[\u001B[49m\u001B[38;5;124;43m'\u001B[39;49m\u001B[38;5;124;43muserId\u001B[39;49m\u001B[38;5;124;43m'\u001B[39;49m\u001B[43m]\u001B[49m \u001B[38;5;241m==\u001B[39m user_id]\n\u001B[1;32m      6\u001B[0m user_data \u001B[38;5;241m=\u001B[39m pd\u001B[38;5;241m.\u001B[39mmerge(user_ratings, metadata, on\u001B[38;5;241m=\u001B[39m\u001B[38;5;124m'\u001B[39m\u001B[38;5;124mmovieId\u001B[39m\u001B[38;5;124m'\u001B[39m)\n\u001B[1;32m      8\u001B[0m \u001B[38;5;66;03m# Step 2: Create binary labels\u001B[39;00m\n",
      "\u001B[0;31mIndexError\u001B[0m: only integers, slices (`:`), ellipsis (`...`), numpy.newaxis (`None`) and integer or boolean arrays are valid indices"
     ]
    }
   ],
   "execution_count": 111
  },
  {
   "metadata": {},
   "cell_type": "markdown",
   "source": [
    "#### 2. Global Content-Based Recommender (Single Model for All Users)"
   ],
   "id": "14fffcebd321f853"
  },
  {
   "metadata": {
    "ExecuteTime": {
     "end_time": "2025-04-14T20:54:55.481845600Z",
     "start_time": "2025-04-14T20:54:55.308053899Z"
    }
   },
   "cell_type": "code",
   "source": [
    "metadata_with_tags = metadata.merge(movies_df[[\"movieId\", \"tag\"]], on='movieId', how='left')\n",
    "\n",
    "preprocessor_global = ColumnTransformer(\n",
    "    transformers=[\n",
    "        ('tfidf', tfidf, 'title'),\n",
    "        ('genres', 'passthrough', genres_df.columns),\n",
    "        ('tfidf_tag', tfidf, 'tag')\n",
    "    ],\n",
    "    remainder='drop'\n",
    ")"
   ],
   "id": "1d8958d2b6dddc1",
   "outputs": [],
   "execution_count": 19
  },
  {
   "metadata": {
    "ExecuteTime": {
     "end_time": "2025-04-14T20:54:55.587234102Z",
     "start_time": "2025-04-14T20:54:55.449469925Z"
    }
   },
   "cell_type": "code",
   "source": [
    "def train_global_model(ratings_train):\n",
    "    ratings = ratings_train.copy()\n",
    "    # Step 1: Prepare data\n",
    "    data = pd.merge(ratings, metadata_with_tags, on='movieId')\n",
    "\n",
    "    # Step 2: Create binary labels\n",
    "    data['label'] = data['rating'].apply(lambda r: 1 if r >= 4 else (0 if r <= 2 else None))\n",
    "    data = data.dropna(subset=['label'])\n",
    "    data['label'] = data['label'].astype(int)\n",
    "\n",
    "    # Step 3: Train the model\n",
    "    pipeline = Pipeline([\n",
    "        ('preprocessor', preprocessor_global),\n",
    "        ('classifier', MultinomialNB())\n",
    "    ])\n",
    "\n",
    "    X = data.drop(columns=['userId', 'movieId', 'rating', 'label', 'timestamp', 'rating_ordinal'])\n",
    "    y = data['label']\n",
    "\n",
    "    model = pipeline.fit(X, y)\n",
    "    return model, X.columns\n",
    "\n",
    "\n",
    "model_global, train_columns = train_global_model(df_train)\n",
    "\n",
    "\n",
    "def recommend_global(user_id, movie_id, ratings_train):\n",
    "    ratings = ratings_train.copy()\n",
    "\n",
    "    # Step 4: Check if the movie has already been watched\n",
    "    user_ratings = ratings[ratings['userId'] == user_id]\n",
    "    if movie_id in user_ratings['movieId'].values:\n",
    "        print(\"The movie has already been watched by the user.\")\n",
    "        return None\n",
    "\n",
    "    # Step 5: Extract features of the requested movie\n",
    "    movie_row = metadata_with_tags[metadata_with_tags['movieId'] == movie_id]\n",
    "\n",
    "    if movie_row.empty:\n",
    "        print(\"Movie ID not found in the metadata.\")\n",
    "        return None\n",
    "    movie_features = movie_row[train_columns]\n",
    "\n",
    "    # Step 6: Predict the probability of liking the movie\n",
    "    probs = model_global.predict_proba(movie_features)[0]  # P(liked | features)\n",
    "    if len(probs) < 2:\n",
    "        print(f\"The model for user {user_id} has seen only one class (not like/like).\")\n",
    "        return None\n",
    "    else:\n",
    "        prob = probs[1]\n",
    "\n",
    "    return \"Like\" if prob >= 0.5 else \"Don't like\""
   ],
   "id": "90a58090827be11a",
   "outputs": [
    {
     "ename": "NameError",
     "evalue": "name 'df_train' is not defined",
     "output_type": "error",
     "traceback": [
      "\u001B[0;31m---------------------------------------------------------------------------\u001B[0m",
      "\u001B[0;31mNameError\u001B[0m                                 Traceback (most recent call last)",
      "Cell \u001B[0;32mIn[20], line 24\u001B[0m\n\u001B[1;32m     20\u001B[0m     model \u001B[38;5;241m=\u001B[39m pipeline\u001B[38;5;241m.\u001B[39mfit(X, y)\n\u001B[1;32m     21\u001B[0m     \u001B[38;5;28;01mreturn\u001B[39;00m model, X\u001B[38;5;241m.\u001B[39mcolumns\n\u001B[0;32m---> 24\u001B[0m model_global, train_columns \u001B[38;5;241m=\u001B[39m train_global_model(\u001B[43mdf_train\u001B[49m)\n\u001B[1;32m     27\u001B[0m \u001B[38;5;28;01mdef\u001B[39;00m \u001B[38;5;21mrecommend_global\u001B[39m(user_id, movie_id, ratings_train):\n\u001B[1;32m     28\u001B[0m     ratings \u001B[38;5;241m=\u001B[39m ratings_train\u001B[38;5;241m.\u001B[39mcopy()\n",
      "\u001B[0;31mNameError\u001B[0m: name 'df_train' is not defined"
     ]
    }
   ],
   "execution_count": 20
  },
  {
   "metadata": {
    "ExecuteTime": {
     "start_time": "2025-04-14T20:54:55.557007755Z"
    }
   },
   "cell_type": "code",
   "source": [
    "recommend_global(user_id=chosen_user, movie_id=chosen_film, ratings_train=df_train)"
   ],
   "id": "207a8ae7c2df056d",
   "outputs": [
    {
     "ename": "NameError",
     "evalue": "name 'recommend_global' is not defined",
     "output_type": "error",
     "traceback": [
      "\u001B[0;31m---------------------------------------------------------------------------\u001B[0m",
      "\u001B[0;31mNameError\u001B[0m                                 Traceback (most recent call last)",
      "Cell \u001B[0;32mIn[21], line 1\u001B[0m\n\u001B[0;32m----> 1\u001B[0m \u001B[43mrecommend_global\u001B[49m(user_id\u001B[38;5;241m=\u001B[39mchosen_user, movie_id\u001B[38;5;241m=\u001B[39mchosen_film, ratings_train\u001B[38;5;241m=\u001B[39mdf_train)\n",
      "\u001B[0;31mNameError\u001B[0m: name 'recommend_global' is not defined"
     ]
    }
   ],
   "execution_count": 21
  },
  {
   "metadata": {
    "ExecuteTime": {
     "end_time": "2025-04-14T20:54:55.786271423Z",
     "start_time": "2025-04-14T20:54:55.648582354Z"
    }
   },
   "cell_type": "code",
   "source": [
    "def test_naive_cf_content_based(df_param, df_train):\n",
    "    df_tmp = df_param.copy()\n",
    "\n",
    "    preds_user = []\n",
    "    preds_global = []\n",
    "    for idx, row in enumerate(df_tmp.itertuples()):\n",
    "        userId = row.userId\n",
    "        movieId = row.movieId\n",
    "\n",
    "        pred_user = predict_single_movie(userId, movieId, ratings_train=df_train)\n",
    "        pred_global = recommend_global(userId, movieId, ratings_train=df_train)\n",
    "\n",
    "        preds_user.append(pred_user)\n",
    "        preds_global.append(pred_global)\n",
    "        # df_tmp.loc[(df_predictions['userId'] == userId) & (df_predictions['movieId'] == movieId), 'pred_user'] = pred_user\n",
    "        # df_tmp.loc[(df_predictions['userId'] == userId) & (df_predictions['movieId'] == movieId), 'pred_glob'] = pred_global\n",
    "\n",
    "    return preds_user, preds_global"
   ],
   "id": "f3dc49ffcc8894ad",
   "outputs": [],
   "execution_count": 22
  },
  {
   "metadata": {
    "ExecuteTime": {
     "end_time": "2025-04-14T20:54:55.931377298Z",
     "start_time": "2025-04-14T20:54:55.745417846Z"
    }
   },
   "cell_type": "code",
   "source": [
    "df_predictions.head()"
   ],
   "id": "56788dd38d48fd49",
   "outputs": [
    {
     "ename": "NameError",
     "evalue": "name 'df_predictions' is not defined",
     "output_type": "error",
     "traceback": [
      "\u001B[0;31m---------------------------------------------------------------------------\u001B[0m",
      "\u001B[0;31mNameError\u001B[0m                                 Traceback (most recent call last)",
      "Cell \u001B[0;32mIn[23], line 1\u001B[0m\n\u001B[0;32m----> 1\u001B[0m \u001B[43mdf_predictions\u001B[49m\u001B[38;5;241m.\u001B[39mhead()\n",
      "\u001B[0;31mNameError\u001B[0m: name 'df_predictions' is not defined"
     ]
    }
   ],
   "execution_count": 23
  },
  {
   "metadata": {
    "ExecuteTime": {
     "start_time": "2025-04-14T20:54:55.880905208Z"
    }
   },
   "cell_type": "code",
   "source": [
    "u, g = test_naive_cf_content_based(df_predictions, df_train=df_train)"
   ],
   "id": "49121b96c6ace512",
   "outputs": [
    {
     "ename": "NameError",
     "evalue": "name 'df_predictions' is not defined",
     "output_type": "error",
     "traceback": [
      "\u001B[0;31m---------------------------------------------------------------------------\u001B[0m",
      "\u001B[0;31mNameError\u001B[0m                                 Traceback (most recent call last)",
      "Cell \u001B[0;32mIn[24], line 1\u001B[0m\n\u001B[0;32m----> 1\u001B[0m u, g \u001B[38;5;241m=\u001B[39m test_naive_cf_content_based(\u001B[43mdf_predictions\u001B[49m, df_train\u001B[38;5;241m=\u001B[39mdf_train)\n",
      "\u001B[0;31mNameError\u001B[0m: name 'df_predictions' is not defined"
     ]
    }
   ],
   "execution_count": 24
  },
  {
   "metadata": {
    "ExecuteTime": {
     "end_time": "2025-04-14T20:54:56.219958751Z",
     "start_time": "2025-04-14T20:54:56.013602478Z"
    }
   },
   "cell_type": "code",
   "source": [
    "len(u), len(df_predictions)"
   ],
   "id": "44d97d24dd2c7b58",
   "outputs": [
    {
     "ename": "NameError",
     "evalue": "name 'u' is not defined",
     "output_type": "error",
     "traceback": [
      "\u001B[0;31m---------------------------------------------------------------------------\u001B[0m",
      "\u001B[0;31mNameError\u001B[0m                                 Traceback (most recent call last)",
      "Cell \u001B[0;32mIn[25], line 1\u001B[0m\n\u001B[0;32m----> 1\u001B[0m \u001B[38;5;28mlen\u001B[39m(\u001B[43mu\u001B[49m), \u001B[38;5;28mlen\u001B[39m(df_predictions)\n",
      "\u001B[0;31mNameError\u001B[0m: name 'u' is not defined"
     ]
    }
   ],
   "execution_count": 25
  },
  {
   "metadata": {},
   "cell_type": "markdown",
   "source": [
    "# Evaluation"
   ],
   "id": "69f21698b1b4497a"
  },
  {
   "metadata": {
    "ExecuteTime": {
     "start_time": "2025-04-14T20:54:56.151605264Z"
    }
   },
   "cell_type": "code",
   "source": [
    "from eval_functions import (\n",
    "    evaluate_rating_predictions,\n",
    "    analyze_long_tail_effect,\n",
    "    plot_avg_error_by_genre,\n",
    "    plot_avg_error_by_popularity,\n",
    "    evaluate_ranking_spearman,\n",
    "    evaluate_topk,\n",
    "    plot_precision_recall_roc,\n",
    "    evaluate_random_recommender\n",
    ")"
   ],
   "id": "46f2751041bb55e3",
   "outputs": [],
   "execution_count": null
  },
  {
   "cell_type": "markdown",
   "source": [
    "## 1. Accuracy metrics on ratings prediction and analyse the effect of the long tail"
   ],
   "metadata": {
    "collapsed": false
   },
   "id": "15366f025a60caae"
  },
  {
   "metadata": {
    "ExecuteTime": {
     "start_time": "2025-04-14T20:54:56.194084591Z"
    }
   },
   "cell_type": "code",
   "source": [
    "# Supponiamo che ratings contenga una colonna 'predicted_rating' già calcolata\n",
    "# In caso contrario, puoi usare un modello qualsiasi per generarla\n",
    "\n",
    "# ESEMPIO: Accuracy + Long Tail\n",
    "metrics = evaluate_rating_predictions(ratings['rating'], ratings['predicted_rating'])\n",
    "print(\"Valutazione globale:\", metrics)\n",
    "\n",
    "long_tail_errors = analyze_long_tail_effect(ratings, prediction_column='predicted_rating')\n",
    "print(\"Errore medio long tail vs head:\\n\", long_tail_errors)\n",
    "\n",
    "# ESEMPIO: Visualizzazione errori\n",
    "plot_avg_error_by_genre(ratings, movies)\n",
    "plot_avg_error_by_popularity(ratings)\n",
    "\n",
    "# ESEMPIO: Ranking Spearman per un utente\n",
    "user_id = ratings['userId'].sample(1).values[0]\n",
    "user_df = ratings[ratings['userId'] == user_id]\n",
    "correlation = evaluate_ranking_spearman(user_df['rating'], user_df['predicted_rating'])\n",
    "print(f\"Spearman correlation per l'utente {user_id}: {correlation:.3f}\")\n",
    "\n",
    "# ESEMPIO: Top-k evaluation (supponendo y_true e y_scores binari)\n",
    "# Qui facciamo un esempio fittizio\n",
    "true_items = set(user_df[user_df['rating'] >= 4]['movieId'])\n",
    "all_items = list(user_df['movieId'])\n",
    "scores = list(user_df['predicted_rating'])\n",
    "\n",
    "# Costruiamo y_true binario: 1 se è un item rilevante\n",
    "y_true = [1 if item in true_items else 0 for item in all_items]\n",
    "\n",
    "topk_result = evaluate_topk(y_true, scores, k=10)\n",
    "print(\"Top-K Evaluation:\", topk_result)\n",
    "\n",
    "# Curve Precision-Recall e ROC\n",
    "plot_precision_recall_roc(y_true, scores)\n",
    "\n",
    "# ESEMPIO: Benchmark con Random Recommender\n",
    "random_baseline = evaluate_random_recommender(true_items, all_items, k=10)\n",
    "print(\"Random Recommender Benchmark:\", random_baseline)"
   ],
   "id": "8aee1ed9ac1f137d",
   "outputs": [
    {
     "ename": "KeyError",
     "evalue": "'predicted_rating'",
     "output_type": "error",
     "traceback": [
      "\u001B[0;31m---------------------------------------------------------------------------\u001B[0m",
      "\u001B[0;31mKeyError\u001B[0m                                  Traceback (most recent call last)",
      "File \u001B[0;32m~/.local/lib/python3.10/site-packages/pandas/core/indexes/base.py:3791\u001B[0m, in \u001B[0;36mIndex.get_loc\u001B[0;34m(self, key)\u001B[0m\n\u001B[1;32m   3790\u001B[0m \u001B[38;5;28;01mtry\u001B[39;00m:\n\u001B[0;32m-> 3791\u001B[0m     \u001B[38;5;28;01mreturn\u001B[39;00m \u001B[38;5;28;43mself\u001B[39;49m\u001B[38;5;241;43m.\u001B[39;49m\u001B[43m_engine\u001B[49m\u001B[38;5;241;43m.\u001B[39;49m\u001B[43mget_loc\u001B[49m\u001B[43m(\u001B[49m\u001B[43mcasted_key\u001B[49m\u001B[43m)\u001B[49m\n\u001B[1;32m   3792\u001B[0m \u001B[38;5;28;01mexcept\u001B[39;00m \u001B[38;5;167;01mKeyError\u001B[39;00m \u001B[38;5;28;01mas\u001B[39;00m err:\n",
      "File \u001B[0;32mindex.pyx:152\u001B[0m, in \u001B[0;36mpandas._libs.index.IndexEngine.get_loc\u001B[0;34m()\u001B[0m\n",
      "File \u001B[0;32mindex.pyx:181\u001B[0m, in \u001B[0;36mpandas._libs.index.IndexEngine.get_loc\u001B[0;34m()\u001B[0m\n",
      "File \u001B[0;32mpandas/_libs/hashtable_class_helper.pxi:7080\u001B[0m, in \u001B[0;36mpandas._libs.hashtable.PyObjectHashTable.get_item\u001B[0;34m()\u001B[0m\n",
      "File \u001B[0;32mpandas/_libs/hashtable_class_helper.pxi:7088\u001B[0m, in \u001B[0;36mpandas._libs.hashtable.PyObjectHashTable.get_item\u001B[0;34m()\u001B[0m\n",
      "\u001B[0;31mKeyError\u001B[0m: 'predicted_rating'",
      "\nThe above exception was the direct cause of the following exception:\n",
      "\u001B[0;31mKeyError\u001B[0m                                  Traceback (most recent call last)",
      "Cell \u001B[0;32mIn[26], line 5\u001B[0m\n\u001B[1;32m      1\u001B[0m \u001B[38;5;66;03m# Supponiamo che ratings contenga una colonna 'predicted_rating' già calcolata\u001B[39;00m\n\u001B[1;32m      2\u001B[0m \u001B[38;5;66;03m# In caso contrario, puoi usare un modello qualsiasi per generarla\u001B[39;00m\n\u001B[1;32m      3\u001B[0m \n\u001B[1;32m      4\u001B[0m \u001B[38;5;66;03m# ESEMPIO: Accuracy + Long Tail\u001B[39;00m\n\u001B[0;32m----> 5\u001B[0m metrics \u001B[38;5;241m=\u001B[39m evaluate_rating_predictions(ratings[\u001B[38;5;124m'\u001B[39m\u001B[38;5;124mrating\u001B[39m\u001B[38;5;124m'\u001B[39m], \u001B[43mratings\u001B[49m\u001B[43m[\u001B[49m\u001B[38;5;124;43m'\u001B[39;49m\u001B[38;5;124;43mpredicted_rating\u001B[39;49m\u001B[38;5;124;43m'\u001B[39;49m\u001B[43m]\u001B[49m)\n\u001B[1;32m      6\u001B[0m \u001B[38;5;28mprint\u001B[39m(\u001B[38;5;124m\"\u001B[39m\u001B[38;5;124mValutazione globale:\u001B[39m\u001B[38;5;124m\"\u001B[39m, metrics)\n\u001B[1;32m      8\u001B[0m long_tail_errors \u001B[38;5;241m=\u001B[39m analyze_long_tail_effect(ratings, prediction_column\u001B[38;5;241m=\u001B[39m\u001B[38;5;124m'\u001B[39m\u001B[38;5;124mpredicted_rating\u001B[39m\u001B[38;5;124m'\u001B[39m)\n",
      "File \u001B[0;32m~/.local/lib/python3.10/site-packages/pandas/core/frame.py:3893\u001B[0m, in \u001B[0;36mDataFrame.__getitem__\u001B[0;34m(self, key)\u001B[0m\n\u001B[1;32m   3891\u001B[0m \u001B[38;5;28;01mif\u001B[39;00m \u001B[38;5;28mself\u001B[39m\u001B[38;5;241m.\u001B[39mcolumns\u001B[38;5;241m.\u001B[39mnlevels \u001B[38;5;241m>\u001B[39m \u001B[38;5;241m1\u001B[39m:\n\u001B[1;32m   3892\u001B[0m     \u001B[38;5;28;01mreturn\u001B[39;00m \u001B[38;5;28mself\u001B[39m\u001B[38;5;241m.\u001B[39m_getitem_multilevel(key)\n\u001B[0;32m-> 3893\u001B[0m indexer \u001B[38;5;241m=\u001B[39m \u001B[38;5;28;43mself\u001B[39;49m\u001B[38;5;241;43m.\u001B[39;49m\u001B[43mcolumns\u001B[49m\u001B[38;5;241;43m.\u001B[39;49m\u001B[43mget_loc\u001B[49m\u001B[43m(\u001B[49m\u001B[43mkey\u001B[49m\u001B[43m)\u001B[49m\n\u001B[1;32m   3894\u001B[0m \u001B[38;5;28;01mif\u001B[39;00m is_integer(indexer):\n\u001B[1;32m   3895\u001B[0m     indexer \u001B[38;5;241m=\u001B[39m [indexer]\n",
      "File \u001B[0;32m~/.local/lib/python3.10/site-packages/pandas/core/indexes/base.py:3798\u001B[0m, in \u001B[0;36mIndex.get_loc\u001B[0;34m(self, key)\u001B[0m\n\u001B[1;32m   3793\u001B[0m     \u001B[38;5;28;01mif\u001B[39;00m \u001B[38;5;28misinstance\u001B[39m(casted_key, \u001B[38;5;28mslice\u001B[39m) \u001B[38;5;129;01mor\u001B[39;00m (\n\u001B[1;32m   3794\u001B[0m         \u001B[38;5;28misinstance\u001B[39m(casted_key, abc\u001B[38;5;241m.\u001B[39mIterable)\n\u001B[1;32m   3795\u001B[0m         \u001B[38;5;129;01mand\u001B[39;00m \u001B[38;5;28many\u001B[39m(\u001B[38;5;28misinstance\u001B[39m(x, \u001B[38;5;28mslice\u001B[39m) \u001B[38;5;28;01mfor\u001B[39;00m x \u001B[38;5;129;01min\u001B[39;00m casted_key)\n\u001B[1;32m   3796\u001B[0m     ):\n\u001B[1;32m   3797\u001B[0m         \u001B[38;5;28;01mraise\u001B[39;00m InvalidIndexError(key)\n\u001B[0;32m-> 3798\u001B[0m     \u001B[38;5;28;01mraise\u001B[39;00m \u001B[38;5;167;01mKeyError\u001B[39;00m(key) \u001B[38;5;28;01mfrom\u001B[39;00m \u001B[38;5;21;01merr\u001B[39;00m\n\u001B[1;32m   3799\u001B[0m \u001B[38;5;28;01mexcept\u001B[39;00m \u001B[38;5;167;01mTypeError\u001B[39;00m:\n\u001B[1;32m   3800\u001B[0m     \u001B[38;5;66;03m# If we have a listlike key, _check_indexing_error will raise\u001B[39;00m\n\u001B[1;32m   3801\u001B[0m     \u001B[38;5;66;03m#  InvalidIndexError. Otherwise we fall through and re-raise\u001B[39;00m\n\u001B[1;32m   3802\u001B[0m     \u001B[38;5;66;03m#  the TypeError.\u001B[39;00m\n\u001B[1;32m   3803\u001B[0m     \u001B[38;5;28mself\u001B[39m\u001B[38;5;241m.\u001B[39m_check_indexing_error(key)\n",
      "\u001B[0;31mKeyError\u001B[0m: 'predicted_rating'"
     ]
    }
   ],
   "execution_count": 26
  },
  {
   "metadata": {
    "ExecuteTime": {
     "end_time": "2025-04-14T20:54:57.104383437Z",
     "start_time": "2025-04-14T20:54:57.082571163Z"
    }
   },
   "cell_type": "code",
   "source": [
    "models_outputs = {\n",
    "    'Global Naive Bayes': df_global_nb,\n",
    "    'User Naive Bayes': df_user_nb,\n",
    "    'Matrix Factorization': df_mf,\n",
    "    'Random': df_random\n",
    "}\n",
    "\n",
    "for name, df in models_outputs.items():\n",
    "    print(f\"\\n============================\")\n",
    "    print(f\"📊 Risultati per: {name}\")\n",
    "\n",
    "    # Valutazione classica\n",
    "    metrics = evaluate_rating_predictions(df['rating'].dropna(), df['predicted_rating'].dropna())\n",
    "    print(\"📌 Accuracy:\", metrics)\n",
    "\n",
    "    # Long Tail\n",
    "    long_tail = analyze_long_tail_effect(df.dropna(subset=['rating']))\n",
    "    print(\"🐍 Long Tail Error:\")\n",
    "    print(long_tail)\n",
    "\n",
    "    # Top-K Example su un utente qualsiasi (solo se abbiamo ground truth)\n",
    "    sample_user = df['userId'].iloc[0]\n",
    "    user_df = df[df['userId'] == sample_user].dropna(subset=['rating'])\n",
    "\n",
    "    if not user_df.empty:\n",
    "        # costruiamo y_true e scores\n",
    "        true_items = set(user_df[user_df['rating'] >= 4]['movieId'])\n",
    "        movie_ids = user_df['movieId'].tolist()\n",
    "        scores = user_df['predicted_rating'].tolist()\n",
    "        y_true = [1 if m in true_items else 0 for m in movie_ids]\n",
    "\n",
    "        topk = evaluate_topk(y_true, scores, k=10)\n",
    "        print(\"🎯 Top-K:\", topk)\n",
    "\n",
    "        # Correlazione ranking\n",
    "        spearman = evaluate_ranking_spearman(user_df['rating'], user_df['predicted_rating'])\n",
    "        print(f\"🔗 Spearman correlation: {spearman:.3f}\")\n",
    "\n",
    "        # Curve\n",
    "        plot_precision_recall_roc(y_true, scores)\n"
   ],
   "id": "d58172f97bf44907",
   "outputs": [],
   "execution_count": null
  }
 ],
 "metadata": {
  "kernelspec": {
   "display_name": "Python 3",
   "language": "python",
   "name": "python3"
  },
  "language_info": {
   "codemirror_mode": {
    "name": "ipython",
    "version": 2
   },
   "file_extension": ".py",
   "mimetype": "text/x-python",
   "name": "python",
   "nbconvert_exporter": "python",
   "pygments_lexer": "ipython2",
   "version": "2.7.6"
  }
 },
 "nbformat": 4,
 "nbformat_minor": 5
}
