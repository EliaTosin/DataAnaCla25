{
 "cells": [
  {
   "cell_type": "markdown",
   "id": "4710dbc4",
   "metadata": {},
   "source": [
    "# Content-Based Recommender System using Naive Bayes\n",
    "\n",
    "This notebook implements two types of content-based recommendation systems using the MovieLens dataset:\n",
    "1. User-specific recommender using Naive Bayes (user profile models)\n",
    "2. Global recommender using Kronecker product of user/item features\n",
    "3. Evaluation methodology for realistic recommendation performance"
   ]
  },
  {
   "cell_type": "markdown",
   "id": "1c1c70de",
   "metadata": {},
   "source": [
    "### Load and Preprocess Data"
   ]
  },
  {
   "cell_type": "code",
   "execution_count": 15,
   "id": "d8227934",
   "metadata": {},
   "outputs": [],
   "source": [
    "import pandas as pd\n",
    "import os\n",
    "\n",
    "DATA_PATH = \"../ml-latest-small\"\n",
    "\n",
    "ratings = pd.read_csv(os.path.join(DATA_PATH, \"ratings.csv\"))\n",
    "movies = pd.read_csv(os.path.join(DATA_PATH, \"movies.csv\"))\n",
    "tags = pd.read_csv(os.path.join(DATA_PATH, \"tags.csv\"))\n",
    "\n",
    "## 🧹 Preprocess Movie Metadata\n",
    "tags_agg = tags.groupby(\"movieId\")[\"tag\"].apply(lambda x: \" \".join(x)).reset_index()\n",
    "movies = movies.merge(tags_agg, on=\"movieId\", how=\"left\")\n",
    "movies[\"tag\"] = movies[\"tag\"].fillna(\"\")\n",
    "movies[\"content\"] = movies[\"genres\"].str.replace(\"|\", \" \") + \" \" + movies[\"tag\"]"
   ]
  },
  {
   "cell_type": "markdown",
   "id": "bcb22e10",
   "metadata": {},
   "source": [
    "## 1. User-Specific Naive Bayes Recommender"
   ]
  },
  {
   "cell_type": "code",
   "execution_count": 16,
   "id": "4de669c2",
   "metadata": {},
   "outputs": [],
   "source": [
    "from sklearn.feature_extraction.text import TfidfVectorizer\n",
    "from sklearn.naive_bayes import MultinomialNB\n",
    "\n",
    "def user_specific_model(user_id, top_k=10):\n",
    "    user_ratings = ratings[ratings['userId'] == user_id]\n",
    "    user_data = pd.merge(user_ratings, movies, on='movieId')\n",
    "\n",
    "    # Create labels\n",
    "    user_data['label'] = user_data['rating'].apply(lambda r: 1 if r >= 4 else (0 if r <= 2 else None))\n",
    "    user_data = user_data.dropna(subset=['label'])\n",
    "    user_data['label'] = user_data['label'].astype(int)\n",
    "\n",
    "    if user_data.empty:\n",
    "        return pd.DataFrame()\n",
    "\n",
    "    tfidf = TfidfVectorizer(max_features=1000, stop_words='english')\n",
    "    X_train = tfidf.fit_transform(user_data['content'])\n",
    "    y_train = user_data['label']\n",
    "\n",
    "    model = MultinomialNB()\n",
    "    model.fit(X_train, y_train)\n",
    "\n",
    "    seen = user_ratings['movieId'].unique()\n",
    "    candidate_pool = movies[~movies['movieId'].isin(seen)].copy()\n",
    "    X_test = tfidf.transform(candidate_pool['content'])\n",
    "\n",
    "    candidate_pool['score'] = model.predict_proba(X_test)[:, 1]\n",
    "    return candidate_pool.sort_values(\"score\", ascending=False)[['movieId', 'title', 'score']].head(top_k)"
   ]
  },
  {
   "cell_type": "markdown",
   "id": "4f1dd69f",
   "metadata": {},
   "source": [
    "### 🔍 Test it:"
   ]
  },
  {
   "cell_type": "code",
   "execution_count": 17,
   "id": "472ec978",
   "metadata": {},
   "outputs": [
    {
     "data": {
      "text/html": [
       "<div>\n",
       "<style scoped>\n",
       "    .dataframe tbody tr th:only-of-type {\n",
       "        vertical-align: middle;\n",
       "    }\n",
       "\n",
       "    .dataframe tbody tr th {\n",
       "        vertical-align: top;\n",
       "    }\n",
       "\n",
       "    .dataframe thead th {\n",
       "        text-align: right;\n",
       "    }\n",
       "</style>\n",
       "<table border=\"1\" class=\"dataframe\">\n",
       "  <thead>\n",
       "    <tr style=\"text-align: right;\">\n",
       "      <th></th>\n",
       "      <th>movieId</th>\n",
       "      <th>title</th>\n",
       "      <th>score</th>\n",
       "    </tr>\n",
       "  </thead>\n",
       "  <tbody>\n",
       "    <tr>\n",
       "      <th>7550</th>\n",
       "      <td>85261</td>\n",
       "      <td>Mars Needs Moms (2011)</td>\n",
       "      <td>0.999852</td>\n",
       "    </tr>\n",
       "    <tr>\n",
       "      <th>9282</th>\n",
       "      <td>157865</td>\n",
       "      <td>Ratchet &amp; Clank (2016)</td>\n",
       "      <td>0.999852</td>\n",
       "    </tr>\n",
       "    <tr>\n",
       "      <th>6455</th>\n",
       "      <td>52287</td>\n",
       "      <td>Meet the Robinsons (2007)</td>\n",
       "      <td>0.999852</td>\n",
       "    </tr>\n",
       "    <tr>\n",
       "      <th>6047</th>\n",
       "      <td>40339</td>\n",
       "      <td>Chicken Little (2005)</td>\n",
       "      <td>0.999852</td>\n",
       "    </tr>\n",
       "    <tr>\n",
       "      <th>7170</th>\n",
       "      <td>71999</td>\n",
       "      <td>Aelita: The Queen of Mars (Aelita) (1924)</td>\n",
       "      <td>0.999838</td>\n",
       "    </tr>\n",
       "    <tr>\n",
       "      <th>1390</th>\n",
       "      <td>1907</td>\n",
       "      <td>Mulan (1998)</td>\n",
       "      <td>0.999833</td>\n",
       "    </tr>\n",
       "    <tr>\n",
       "      <th>9169</th>\n",
       "      <td>148775</td>\n",
       "      <td>Wizards of Waverly Place: The Movie (2009)</td>\n",
       "      <td>0.999830</td>\n",
       "    </tr>\n",
       "    <tr>\n",
       "      <th>478</th>\n",
       "      <td>546</td>\n",
       "      <td>Super Mario Bros. (1993)</td>\n",
       "      <td>0.999824</td>\n",
       "    </tr>\n",
       "    <tr>\n",
       "      <th>9358</th>\n",
       "      <td>161594</td>\n",
       "      <td>Kingsglaive: Final Fantasy XV (2016)</td>\n",
       "      <td>0.999824</td>\n",
       "    </tr>\n",
       "    <tr>\n",
       "      <th>4348</th>\n",
       "      <td>6350</td>\n",
       "      <td>Laputa: Castle in the Sky (Tenkû no shiro Rapy...</td>\n",
       "      <td>0.999818</td>\n",
       "    </tr>\n",
       "  </tbody>\n",
       "</table>\n",
       "</div>"
      ],
      "text/plain": [
       "      movieId                                              title     score\n",
       "7550    85261                             Mars Needs Moms (2011)  0.999852\n",
       "9282   157865                             Ratchet & Clank (2016)  0.999852\n",
       "6455    52287                          Meet the Robinsons (2007)  0.999852\n",
       "6047    40339                              Chicken Little (2005)  0.999852\n",
       "7170    71999          Aelita: The Queen of Mars (Aelita) (1924)  0.999838\n",
       "1390     1907                                       Mulan (1998)  0.999833\n",
       "9169   148775         Wizards of Waverly Place: The Movie (2009)  0.999830\n",
       "478       546                           Super Mario Bros. (1993)  0.999824\n",
       "9358   161594               Kingsglaive: Final Fantasy XV (2016)  0.999824\n",
       "4348     6350  Laputa: Castle in the Sky (Tenkû no shiro Rapy...  0.999818"
      ]
     },
     "execution_count": 17,
     "metadata": {},
     "output_type": "execute_result"
    }
   ],
   "source": [
    "user_specific_model(user_id=1)"
   ]
  },
  {
   "cell_type": "markdown",
   "id": "5e2c9617",
   "metadata": {},
   "source": [
    "## 2. Global Content-Based Recommender (Single Model for All Users)"
   ]
  },
  {
   "cell_type": "code",
   "execution_count": 18,
   "id": "e8e54c72",
   "metadata": {},
   "outputs": [],
   "source": [
    "def train_global_model():\n",
    "    data = pd.merge(ratings, tags_agg, on='movieId')\n",
    "    data = data.dropna(subset=['tag'])\n",
    "\n",
    "    data['label'] = data['rating'].apply(lambda r: 1 if r >= 4 else (0 if r <= 2 else None))\n",
    "    data = data.dropna(subset=['label'])\n",
    "    data['label'] = data['label'].astype(int)\n",
    "\n",
    "    tfidf = TfidfVectorizer(max_features=1000, stop_words='english')\n",
    "    X = tfidf.fit_transform(data['tag'])\n",
    "    y = data['label']\n",
    "\n",
    "    model = MultinomialNB()\n",
    "    model.fit(X, y)\n",
    "    return model, tfidf\n",
    "\n",
    "model_global, tfidf_global = train_global_model()\n",
    "\n",
    "def recommend_global(user_id, top_k=10):\n",
    "    seen = ratings[ratings['userId'] == user_id]['movieId'].unique()\n",
    "    unseen = tags_agg[~tags_agg['movieId'].isin(seen)].copy()\n",
    "    X_test = tfidf_global.transform(unseen['tag'])\n",
    "\n",
    "    unseen['score'] = model_global.predict_proba(X_test)[:, 1]\n",
    "    result = unseen.merge(movies[['movieId', 'title']], on='movieId')\n",
    "    return result.sort_values('score', ascending=False)[['movieId', 'title', 'score']].head(top_k)"
   ]
  },
  {
   "cell_type": "markdown",
   "id": "4807350c",
   "metadata": {},
   "source": [
    "### 🔍 Test it:"
   ]
  },
  {
   "cell_type": "code",
   "execution_count": 19,
   "id": "af1d9037",
   "metadata": {},
   "outputs": [
    {
     "data": {
      "text/html": [
       "<div>\n",
       "<style scoped>\n",
       "    .dataframe tbody tr th:only-of-type {\n",
       "        vertical-align: middle;\n",
       "    }\n",
       "\n",
       "    .dataframe tbody tr th {\n",
       "        vertical-align: top;\n",
       "    }\n",
       "\n",
       "    .dataframe thead th {\n",
       "        text-align: right;\n",
       "    }\n",
       "</style>\n",
       "<table border=\"1\" class=\"dataframe\">\n",
       "  <thead>\n",
       "    <tr style=\"text-align: right;\">\n",
       "      <th></th>\n",
       "      <th>movieId</th>\n",
       "      <th>title</th>\n",
       "      <th>score</th>\n",
       "    </tr>\n",
       "  </thead>\n",
       "  <tbody>\n",
       "    <tr>\n",
       "      <th>71</th>\n",
       "      <td>318</td>\n",
       "      <td>Shawshank Redemption, The (1994)</td>\n",
       "      <td>0.996657</td>\n",
       "    </tr>\n",
       "    <tr>\n",
       "      <th>1256</th>\n",
       "      <td>48516</td>\n",
       "      <td>Departed, The (2006)</td>\n",
       "      <td>0.991428</td>\n",
       "    </tr>\n",
       "    <tr>\n",
       "      <th>242</th>\n",
       "      <td>1193</td>\n",
       "      <td>One Flew Over the Cuckoo's Nest (1975)</td>\n",
       "      <td>0.985799</td>\n",
       "    </tr>\n",
       "    <tr>\n",
       "      <th>1035</th>\n",
       "      <td>7361</td>\n",
       "      <td>Eternal Sunshine of the Spotless Mind (2004)</td>\n",
       "      <td>0.984006</td>\n",
       "    </tr>\n",
       "    <tr>\n",
       "      <th>282</th>\n",
       "      <td>1276</td>\n",
       "      <td>Cool Hand Luke (1967)</td>\n",
       "      <td>0.983725</td>\n",
       "    </tr>\n",
       "    <tr>\n",
       "      <th>62</th>\n",
       "      <td>280</td>\n",
       "      <td>Murder in the First (1995)</td>\n",
       "      <td>0.983725</td>\n",
       "    </tr>\n",
       "    <tr>\n",
       "      <th>66</th>\n",
       "      <td>293</td>\n",
       "      <td>Léon: The Professional (a.k.a. The Professiona...</td>\n",
       "      <td>0.982317</td>\n",
       "    </tr>\n",
       "    <tr>\n",
       "      <th>157</th>\n",
       "      <td>904</td>\n",
       "      <td>Rear Window (1954)</td>\n",
       "      <td>0.981399</td>\n",
       "    </tr>\n",
       "    <tr>\n",
       "      <th>1326</th>\n",
       "      <td>79132</td>\n",
       "      <td>Inception (2010)</td>\n",
       "      <td>0.980381</td>\n",
       "    </tr>\n",
       "    <tr>\n",
       "      <th>1306</th>\n",
       "      <td>68157</td>\n",
       "      <td>Inglourious Basterds (2009)</td>\n",
       "      <td>0.977010</td>\n",
       "    </tr>\n",
       "  </tbody>\n",
       "</table>\n",
       "</div>"
      ],
      "text/plain": [
       "      movieId                                              title     score\n",
       "71        318                   Shawshank Redemption, The (1994)  0.996657\n",
       "1256    48516                               Departed, The (2006)  0.991428\n",
       "242      1193             One Flew Over the Cuckoo's Nest (1975)  0.985799\n",
       "1035     7361       Eternal Sunshine of the Spotless Mind (2004)  0.984006\n",
       "282      1276                              Cool Hand Luke (1967)  0.983725\n",
       "62        280                         Murder in the First (1995)  0.983725\n",
       "66        293  Léon: The Professional (a.k.a. The Professiona...  0.982317\n",
       "157       904                                 Rear Window (1954)  0.981399\n",
       "1326    79132                                   Inception (2010)  0.980381\n",
       "1306    68157                        Inglourious Basterds (2009)  0.977010"
      ]
     },
     "execution_count": 19,
     "metadata": {},
     "output_type": "execute_result"
    }
   ],
   "source": [
    "recommend_global(user_id=1)"
   ]
  },
  {
   "cell_type": "markdown",
   "id": "808e803c",
   "metadata": {},
   "source": [
    "## 3. Evaluation Methodology (Candidate Pool Strategy)"
   ]
  },
  {
   "cell_type": "code",
   "execution_count": 20,
   "id": "7f945680",
   "metadata": {},
   "outputs": [],
   "source": [
    "from sklearn.model_selection import train_test_split\n",
    "from sklearn.metrics import precision_score, roc_auc_score\n",
    "\n",
    "def evaluate_user_model(user_id):\n",
    "    user_ratings = ratings[ratings['userId'] == user_id]\n",
    "    if len(user_ratings) < 5:\n",
    "        return None\n",
    "\n",
    "    train, test = train_test_split(user_ratings, test_size=0.4, random_state=42)\n",
    "    train_data = pd.merge(train, movies, on='movieId')\n",
    "    train_data['label'] = train_data['rating'].apply(lambda r: 1 if r >= 4 else (0 if r <= 2 else None))\n",
    "    train_data = train_data.dropna(subset=['label'])\n",
    "    train_data['label'] = train_data['label'].astype(int)\n",
    "\n",
    "    if len(train_data) < 3:\n",
    "        return None\n",
    "\n",
    "    tfidf = TfidfVectorizer(max_features=1000, stop_words='english')\n",
    "    X_train = tfidf.fit_transform(train_data['content'])\n",
    "    y_train = train_data['label']\n",
    "\n",
    "    model = MultinomialNB()\n",
    "    model.fit(X_train, y_train)\n",
    "\n",
    "    test_data = pd.merge(test, movies, on='movieId')\n",
    "    X_test = tfidf.transform(test_data['content'])\n",
    "    y_test = test_data['rating'].apply(lambda r: 1 if r >= 4 else 0)\n",
    "\n",
    "    preds = model.predict(X_test)\n",
    "    precision = precision_score(y_test, preds)\n",
    "    auc = roc_auc_score(y_test, model.predict_proba(X_test)[:, 1])\n",
    "\n",
    "    return {\n",
    "        'user_id': user_id,\n",
    "        'precision': precision,\n",
    "        'auc': auc\n",
    "    }\n"
   ]
  },
  {
   "cell_type": "markdown",
   "id": "27227cb7",
   "metadata": {},
   "source": [
    "### 🔍 Test it:"
   ]
  },
  {
   "cell_type": "code",
   "execution_count": 21,
   "id": "1454a437",
   "metadata": {},
   "outputs": [
    {
     "data": {
      "text/plain": [
       "{'user_id': 1,\n",
       " 'precision': 0.8602150537634409,\n",
       " 'auc': np.float64(0.541826923076923)}"
      ]
     },
     "execution_count": 21,
     "metadata": {},
     "output_type": "execute_result"
    }
   ],
   "source": [
    "evaluate_user_model(user_id=1)"
   ]
  }
 ],
 "metadata": {
  "kernelspec": {
   "display_name": ".venv",
   "language": "python",
   "name": "python3"
  },
  "language_info": {
   "codemirror_mode": {
    "name": "ipython",
    "version": 3
   },
   "file_extension": ".py",
   "mimetype": "text/x-python",
   "name": "python",
   "nbconvert_exporter": "python",
   "pygments_lexer": "ipython3",
   "version": "3.12.3"
  }
 },
 "nbformat": 4,
 "nbformat_minor": 5
}
