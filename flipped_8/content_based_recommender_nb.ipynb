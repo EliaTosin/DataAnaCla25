{
 "cells": [
  {
   "cell_type": "markdown",
   "id": "4710dbc4",
   "metadata": {},
   "source": [
    "# Content-Based Recommender System using Naive Bayes\n",
    "\n",
    "This notebook implements two types of content-based recommendation systems using the MovieLens dataset:\n",
    "1. User-specific recommender using Naive Bayes (user profile models)\n",
    "2. Global recommender using Kronecker product of user/item features\n",
    "3. Evaluation methodology for realistic recommendation performance"
   ]
  },
  {
   "cell_type": "markdown",
   "id": "1c1c70de",
   "metadata": {},
   "source": [
    "### Load and Preprocess Data"
   ]
  },
  {
   "cell_type": "code",
   "execution_count": 1,
   "id": "d8227934",
   "metadata": {
    "ExecuteTime": {
     "end_time": "2025-04-08T16:25:09.910771812Z",
     "start_time": "2025-04-08T16:25:09.837986620Z"
    }
   },
   "outputs": [],
   "source": [
    "import pandas as pd\n",
    "import os\n",
    "import re\n",
    "\n",
    "DATA_PATH = \"../ml-latest-small\"\n",
    "\n",
    "ratings = pd.read_csv(os.path.join(DATA_PATH, \"ratings.csv\"))\n",
    "movies = pd.read_csv(os.path.join(DATA_PATH, \"movies.csv\"))\n",
    "tags = pd.read_csv(os.path.join(DATA_PATH, \"tags.csv\"))\n",
    "\n",
    "## 🧹 Preprocess Movie Metadata\n",
    "tags_agg = tags.groupby(\"movieId\")[\"tag\"].apply(lambda x: \" \".join(x)).reset_index()\n",
    "movies = movies.merge(tags_agg, on=\"movieId\", how=\"left\")\n",
    "movies[\"tag\"] = movies[\"tag\"].fillna(\"\")\n",
    "movies[\"content\"] = movies[\"genres\"].str.replace(\"|\", \" \") + \" \" + movies[\"tag\"]"
   ]
  },
  {
   "cell_type": "code",
   "execution_count": 2,
   "outputs": [
    {
     "data": {
      "text/plain": "   movieId                               title  \\\n0        1                    Toy Story (1995)   \n1        2                      Jumanji (1995)   \n2        3             Grumpier Old Men (1995)   \n3        4            Waiting to Exhale (1995)   \n4        5  Father of the Bride Part II (1995)   \n\n                                        genres  \\\n0  Adventure|Animation|Children|Comedy|Fantasy   \n1                   Adventure|Children|Fantasy   \n2                               Comedy|Romance   \n3                         Comedy|Drama|Romance   \n4                                       Comedy   \n\n                                            tag  \\\n0                               pixar pixar fun   \n1  fantasy magic board game Robin Williams game   \n2                                     moldy old   \n3                                                 \n4                              pregnancy remake   \n\n                                             content  \n0  Adventure Animation Children Comedy Fantasy pi...  \n1  Adventure Children Fantasy fantasy magic board...  \n2                           Comedy Romance moldy old  \n3                              Comedy Drama Romance   \n4                            Comedy pregnancy remake  ",
      "text/html": "<div>\n<style scoped>\n    .dataframe tbody tr th:only-of-type {\n        vertical-align: middle;\n    }\n\n    .dataframe tbody tr th {\n        vertical-align: top;\n    }\n\n    .dataframe thead th {\n        text-align: right;\n    }\n</style>\n<table border=\"1\" class=\"dataframe\">\n  <thead>\n    <tr style=\"text-align: right;\">\n      <th></th>\n      <th>movieId</th>\n      <th>title</th>\n      <th>genres</th>\n      <th>tag</th>\n      <th>content</th>\n    </tr>\n  </thead>\n  <tbody>\n    <tr>\n      <th>0</th>\n      <td>1</td>\n      <td>Toy Story (1995)</td>\n      <td>Adventure|Animation|Children|Comedy|Fantasy</td>\n      <td>pixar pixar fun</td>\n      <td>Adventure Animation Children Comedy Fantasy pi...</td>\n    </tr>\n    <tr>\n      <th>1</th>\n      <td>2</td>\n      <td>Jumanji (1995)</td>\n      <td>Adventure|Children|Fantasy</td>\n      <td>fantasy magic board game Robin Williams game</td>\n      <td>Adventure Children Fantasy fantasy magic board...</td>\n    </tr>\n    <tr>\n      <th>2</th>\n      <td>3</td>\n      <td>Grumpier Old Men (1995)</td>\n      <td>Comedy|Romance</td>\n      <td>moldy old</td>\n      <td>Comedy Romance moldy old</td>\n    </tr>\n    <tr>\n      <th>3</th>\n      <td>4</td>\n      <td>Waiting to Exhale (1995)</td>\n      <td>Comedy|Drama|Romance</td>\n      <td></td>\n      <td>Comedy Drama Romance</td>\n    </tr>\n    <tr>\n      <th>4</th>\n      <td>5</td>\n      <td>Father of the Bride Part II (1995)</td>\n      <td>Comedy</td>\n      <td>pregnancy remake</td>\n      <td>Comedy pregnancy remake</td>\n    </tr>\n  </tbody>\n</table>\n</div>"
     },
     "execution_count": 2,
     "metadata": {},
     "output_type": "execute_result"
    }
   ],
   "source": [
    "movies.head()"
   ],
   "metadata": {
    "collapsed": false,
    "ExecuteTime": {
     "end_time": "2025-04-08T16:25:09.947214207Z",
     "start_time": "2025-04-08T16:25:09.913553190Z"
    }
   },
   "id": "959b5d25eaf46924"
  },
  {
   "cell_type": "markdown",
   "id": "bcb22e10",
   "metadata": {},
   "source": [
    "## 1. User-Specific Naive Bayes Recommender"
   ]
  },
  {
   "cell_type": "markdown",
   "source": [
    "The model is trained on metadata including the movie title and genres, with titles cleaned to remove release years."
   ],
   "metadata": {
    "collapsed": false
   },
   "id": "c5031499e79f443c"
  },
  {
   "cell_type": "code",
   "execution_count": 18,
   "outputs": [
    {
     "data": {
      "text/plain": "   movieId                               title  \\\n0        1                    Toy Story (1995)   \n1        2                      Jumanji (1995)   \n2        3             Grumpier Old Men (1995)   \n3        4            Waiting to Exhale (1995)   \n4        5  Father of the Bride Part II (1995)   \n\n                                        genres  \n0  Adventure|Animation|Children|Comedy|Fantasy  \n1                   Adventure|Children|Fantasy  \n2                               Comedy|Romance  \n3                         Comedy|Drama|Romance  \n4                                       Comedy  ",
      "text/html": "<div>\n<style scoped>\n    .dataframe tbody tr th:only-of-type {\n        vertical-align: middle;\n    }\n\n    .dataframe tbody tr th {\n        vertical-align: top;\n    }\n\n    .dataframe thead th {\n        text-align: right;\n    }\n</style>\n<table border=\"1\" class=\"dataframe\">\n  <thead>\n    <tr style=\"text-align: right;\">\n      <th></th>\n      <th>movieId</th>\n      <th>title</th>\n      <th>genres</th>\n    </tr>\n  </thead>\n  <tbody>\n    <tr>\n      <th>0</th>\n      <td>1</td>\n      <td>Toy Story (1995)</td>\n      <td>Adventure|Animation|Children|Comedy|Fantasy</td>\n    </tr>\n    <tr>\n      <th>1</th>\n      <td>2</td>\n      <td>Jumanji (1995)</td>\n      <td>Adventure|Children|Fantasy</td>\n    </tr>\n    <tr>\n      <th>2</th>\n      <td>3</td>\n      <td>Grumpier Old Men (1995)</td>\n      <td>Comedy|Romance</td>\n    </tr>\n    <tr>\n      <th>3</th>\n      <td>4</td>\n      <td>Waiting to Exhale (1995)</td>\n      <td>Comedy|Drama|Romance</td>\n    </tr>\n    <tr>\n      <th>4</th>\n      <td>5</td>\n      <td>Father of the Bride Part II (1995)</td>\n      <td>Comedy</td>\n    </tr>\n  </tbody>\n</table>\n</div>"
     },
     "execution_count": 18,
     "metadata": {},
     "output_type": "execute_result"
    }
   ],
   "source": [
    "# metadata available for each movie\n",
    "metadata = movies[[\"movieId\", \"title\", \"genres\"]]\n",
    "metadata.head()"
   ],
   "metadata": {
    "collapsed": false,
    "ExecuteTime": {
     "end_time": "2025-04-08T16:26:55.461317698Z",
     "start_time": "2025-04-08T16:26:55.412616180Z"
    }
   },
   "id": "4d03e4257e9edd50"
  },
  {
   "cell_type": "markdown",
   "source": [
    "Removing the year from movie titles helps clean the data for content-based recommendation. The year adds no semantic value for models using text features like TF-IDF and can introduce noise or inflate the vocabulary. By focusing on the actual title, we ensure better feature extraction and more accurate similarity comparisons between movies."
   ],
   "metadata": {
    "collapsed": false
   },
   "id": "4447ea68e7fb8a95"
  },
  {
   "cell_type": "code",
   "execution_count": 19,
   "outputs": [],
   "source": [
    "# Clean the title by removing the year in parentheses\n",
    "def clean_title(title):\n",
    "    return re.sub(r'\\s*\\(\\d{4}\\)', '', title)"
   ],
   "metadata": {
    "collapsed": false,
    "ExecuteTime": {
     "end_time": "2025-04-08T16:26:56.211936690Z",
     "start_time": "2025-04-08T16:26:56.209147987Z"
    }
   },
   "id": "846989a9cb92bc14"
  },
  {
   "cell_type": "code",
   "execution_count": 20,
   "outputs": [
    {
     "name": "stderr",
     "output_type": "stream",
     "text": [
      "/tmp/ipykernel_3617577/272480860.py:1: SettingWithCopyWarning: \n",
      "A value is trying to be set on a copy of a slice from a DataFrame.\n",
      "Try using .loc[row_indexer,col_indexer] = value instead\n",
      "\n",
      "See the caveats in the documentation: https://pandas.pydata.org/pandas-docs/stable/user_guide/indexing.html#returning-a-view-versus-a-copy\n",
      "  metadata['title'] = metadata['title'].apply(clean_title)\n"
     ]
    }
   ],
   "source": [
    "metadata['title'] = metadata['title'].apply(clean_title)"
   ],
   "metadata": {
    "collapsed": false,
    "ExecuteTime": {
     "end_time": "2025-04-08T16:26:56.650283760Z",
     "start_time": "2025-04-08T16:26:56.643049604Z"
    }
   },
   "id": "bd67e6998ed7569e"
  },
  {
   "cell_type": "code",
   "execution_count": 21,
   "outputs": [
    {
     "data": {
      "text/plain": "   movieId                        title  \\\n0        1                    Toy Story   \n1        2                      Jumanji   \n2        3             Grumpier Old Men   \n3        4            Waiting to Exhale   \n4        5  Father of the Bride Part II   \n\n                                        genres  \n0  Adventure|Animation|Children|Comedy|Fantasy  \n1                   Adventure|Children|Fantasy  \n2                               Comedy|Romance  \n3                         Comedy|Drama|Romance  \n4                                       Comedy  ",
      "text/html": "<div>\n<style scoped>\n    .dataframe tbody tr th:only-of-type {\n        vertical-align: middle;\n    }\n\n    .dataframe tbody tr th {\n        vertical-align: top;\n    }\n\n    .dataframe thead th {\n        text-align: right;\n    }\n</style>\n<table border=\"1\" class=\"dataframe\">\n  <thead>\n    <tr style=\"text-align: right;\">\n      <th></th>\n      <th>movieId</th>\n      <th>title</th>\n      <th>genres</th>\n    </tr>\n  </thead>\n  <tbody>\n    <tr>\n      <th>0</th>\n      <td>1</td>\n      <td>Toy Story</td>\n      <td>Adventure|Animation|Children|Comedy|Fantasy</td>\n    </tr>\n    <tr>\n      <th>1</th>\n      <td>2</td>\n      <td>Jumanji</td>\n      <td>Adventure|Children|Fantasy</td>\n    </tr>\n    <tr>\n      <th>2</th>\n      <td>3</td>\n      <td>Grumpier Old Men</td>\n      <td>Comedy|Romance</td>\n    </tr>\n    <tr>\n      <th>3</th>\n      <td>4</td>\n      <td>Waiting to Exhale</td>\n      <td>Comedy|Drama|Romance</td>\n    </tr>\n    <tr>\n      <th>4</th>\n      <td>5</td>\n      <td>Father of the Bride Part II</td>\n      <td>Comedy</td>\n    </tr>\n  </tbody>\n</table>\n</div>"
     },
     "execution_count": 21,
     "metadata": {},
     "output_type": "execute_result"
    }
   ],
   "source": [
    "metadata.head()"
   ],
   "metadata": {
    "collapsed": false,
    "ExecuteTime": {
     "end_time": "2025-04-08T16:26:57.177202754Z",
     "start_time": "2025-04-08T16:26:57.171179991Z"
    }
   },
   "id": "65663c31a0df2cda"
  },
  {
   "cell_type": "markdown",
   "source": [
    "### Binarize the genres\n",
    "\n",
    "Binarizing genres turns categorical data into a binary format, making it easier for machine learning models to process. This method helps handle movies with multiple genres and captures interactions between them, improving recommendation accuracy. It simplifies the feature engineering process and ensures the model can effectively learn from genre information."
   ],
   "metadata": {
    "collapsed": false
   },
   "id": "bbd9341f827757dd"
  },
  {
   "cell_type": "code",
   "execution_count": 22,
   "outputs": [],
   "source": [
    "from sklearn.preprocessing import MultiLabelBinarizer\n",
    "\n",
    "mlb = MultiLabelBinarizer()\n",
    "genres_encoded = mlb.fit_transform(metadata['genres'].str.split('|'))"
   ],
   "metadata": {
    "collapsed": false,
    "ExecuteTime": {
     "end_time": "2025-04-08T16:26:58.174447127Z",
     "start_time": "2025-04-08T16:26:58.159998682Z"
    }
   },
   "id": "38f0cb3392416c99"
  },
  {
   "cell_type": "code",
   "execution_count": 23,
   "outputs": [
    {
     "data": {
      "text/plain": "array([[0, 0, 1, ..., 0, 0, 0],\n       [0, 0, 1, ..., 0, 0, 0],\n       [0, 0, 0, ..., 0, 0, 0],\n       ...,\n       [0, 0, 0, ..., 0, 0, 0],\n       [0, 1, 0, ..., 0, 0, 0],\n       [0, 0, 0, ..., 0, 0, 0]])"
     },
     "execution_count": 23,
     "metadata": {},
     "output_type": "execute_result"
    }
   ],
   "source": [
    "genres_encoded"
   ],
   "metadata": {
    "collapsed": false,
    "ExecuteTime": {
     "end_time": "2025-04-08T16:26:59.956487682Z",
     "start_time": "2025-04-08T16:26:59.939714066Z"
    }
   },
   "id": "fb3b03a928d8d3ce"
  },
  {
   "cell_type": "code",
   "execution_count": 24,
   "outputs": [
    {
     "data": {
      "text/plain": "   (no genres listed)  Action  Adventure  Animation  Children  Comedy  Crime  \\\n0                   0       0          1          1         1       1      0   \n1                   0       0          1          0         1       0      0   \n2                   0       0          0          0         0       1      0   \n3                   0       0          0          0         0       1      0   \n4                   0       0          0          0         0       1      0   \n\n   Documentary  Drama  Fantasy  Film-Noir  Horror  IMAX  Musical  Mystery  \\\n0            0      0        1          0       0     0        0        0   \n1            0      0        1          0       0     0        0        0   \n2            0      0        0          0       0     0        0        0   \n3            0      1        0          0       0     0        0        0   \n4            0      0        0          0       0     0        0        0   \n\n   Romance  Sci-Fi  Thriller  War  Western  \n0        0       0         0    0        0  \n1        0       0         0    0        0  \n2        1       0         0    0        0  \n3        1       0         0    0        0  \n4        0       0         0    0        0  ",
      "text/html": "<div>\n<style scoped>\n    .dataframe tbody tr th:only-of-type {\n        vertical-align: middle;\n    }\n\n    .dataframe tbody tr th {\n        vertical-align: top;\n    }\n\n    .dataframe thead th {\n        text-align: right;\n    }\n</style>\n<table border=\"1\" class=\"dataframe\">\n  <thead>\n    <tr style=\"text-align: right;\">\n      <th></th>\n      <th>(no genres listed)</th>\n      <th>Action</th>\n      <th>Adventure</th>\n      <th>Animation</th>\n      <th>Children</th>\n      <th>Comedy</th>\n      <th>Crime</th>\n      <th>Documentary</th>\n      <th>Drama</th>\n      <th>Fantasy</th>\n      <th>Film-Noir</th>\n      <th>Horror</th>\n      <th>IMAX</th>\n      <th>Musical</th>\n      <th>Mystery</th>\n      <th>Romance</th>\n      <th>Sci-Fi</th>\n      <th>Thriller</th>\n      <th>War</th>\n      <th>Western</th>\n    </tr>\n  </thead>\n  <tbody>\n    <tr>\n      <th>0</th>\n      <td>0</td>\n      <td>0</td>\n      <td>1</td>\n      <td>1</td>\n      <td>1</td>\n      <td>1</td>\n      <td>0</td>\n      <td>0</td>\n      <td>0</td>\n      <td>1</td>\n      <td>0</td>\n      <td>0</td>\n      <td>0</td>\n      <td>0</td>\n      <td>0</td>\n      <td>0</td>\n      <td>0</td>\n      <td>0</td>\n      <td>0</td>\n      <td>0</td>\n    </tr>\n    <tr>\n      <th>1</th>\n      <td>0</td>\n      <td>0</td>\n      <td>1</td>\n      <td>0</td>\n      <td>1</td>\n      <td>0</td>\n      <td>0</td>\n      <td>0</td>\n      <td>0</td>\n      <td>1</td>\n      <td>0</td>\n      <td>0</td>\n      <td>0</td>\n      <td>0</td>\n      <td>0</td>\n      <td>0</td>\n      <td>0</td>\n      <td>0</td>\n      <td>0</td>\n      <td>0</td>\n    </tr>\n    <tr>\n      <th>2</th>\n      <td>0</td>\n      <td>0</td>\n      <td>0</td>\n      <td>0</td>\n      <td>0</td>\n      <td>1</td>\n      <td>0</td>\n      <td>0</td>\n      <td>0</td>\n      <td>0</td>\n      <td>0</td>\n      <td>0</td>\n      <td>0</td>\n      <td>0</td>\n      <td>0</td>\n      <td>1</td>\n      <td>0</td>\n      <td>0</td>\n      <td>0</td>\n      <td>0</td>\n    </tr>\n    <tr>\n      <th>3</th>\n      <td>0</td>\n      <td>0</td>\n      <td>0</td>\n      <td>0</td>\n      <td>0</td>\n      <td>1</td>\n      <td>0</td>\n      <td>0</td>\n      <td>1</td>\n      <td>0</td>\n      <td>0</td>\n      <td>0</td>\n      <td>0</td>\n      <td>0</td>\n      <td>0</td>\n      <td>1</td>\n      <td>0</td>\n      <td>0</td>\n      <td>0</td>\n      <td>0</td>\n    </tr>\n    <tr>\n      <th>4</th>\n      <td>0</td>\n      <td>0</td>\n      <td>0</td>\n      <td>0</td>\n      <td>0</td>\n      <td>1</td>\n      <td>0</td>\n      <td>0</td>\n      <td>0</td>\n      <td>0</td>\n      <td>0</td>\n      <td>0</td>\n      <td>0</td>\n      <td>0</td>\n      <td>0</td>\n      <td>0</td>\n      <td>0</td>\n      <td>0</td>\n      <td>0</td>\n      <td>0</td>\n    </tr>\n  </tbody>\n</table>\n</div>"
     },
     "execution_count": 24,
     "metadata": {},
     "output_type": "execute_result"
    }
   ],
   "source": [
    "# Create a DataFrame with the encoded genres\n",
    "genres_df = pd.DataFrame(genres_encoded, columns=mlb.classes_)\n",
    "genres_df.head()"
   ],
   "metadata": {
    "collapsed": false,
    "ExecuteTime": {
     "end_time": "2025-04-08T16:27:05.008088517Z",
     "start_time": "2025-04-08T16:27:05.006317399Z"
    }
   },
   "id": "348863d5c65142bc"
  },
  {
   "cell_type": "code",
   "execution_count": 25,
   "outputs": [
    {
     "data": {
      "text/plain": "   movieId                        title  (no genres listed)  Action  \\\n0        1                    Toy Story                   0       0   \n1        2                      Jumanji                   0       0   \n2        3             Grumpier Old Men                   0       0   \n3        4            Waiting to Exhale                   0       0   \n4        5  Father of the Bride Part II                   0       0   \n\n   Adventure  Animation  Children  Comedy  Crime  Documentary  ...  Film-Noir  \\\n0          1          1         1       1      0            0  ...          0   \n1          1          0         1       0      0            0  ...          0   \n2          0          0         0       1      0            0  ...          0   \n3          0          0         0       1      0            0  ...          0   \n4          0          0         0       1      0            0  ...          0   \n\n   Horror  IMAX  Musical  Mystery  Romance  Sci-Fi  Thriller  War  Western  \n0       0     0        0        0        0       0         0    0        0  \n1       0     0        0        0        0       0         0    0        0  \n2       0     0        0        0        1       0         0    0        0  \n3       0     0        0        0        1       0         0    0        0  \n4       0     0        0        0        0       0         0    0        0  \n\n[5 rows x 22 columns]",
      "text/html": "<div>\n<style scoped>\n    .dataframe tbody tr th:only-of-type {\n        vertical-align: middle;\n    }\n\n    .dataframe tbody tr th {\n        vertical-align: top;\n    }\n\n    .dataframe thead th {\n        text-align: right;\n    }\n</style>\n<table border=\"1\" class=\"dataframe\">\n  <thead>\n    <tr style=\"text-align: right;\">\n      <th></th>\n      <th>movieId</th>\n      <th>title</th>\n      <th>(no genres listed)</th>\n      <th>Action</th>\n      <th>Adventure</th>\n      <th>Animation</th>\n      <th>Children</th>\n      <th>Comedy</th>\n      <th>Crime</th>\n      <th>Documentary</th>\n      <th>...</th>\n      <th>Film-Noir</th>\n      <th>Horror</th>\n      <th>IMAX</th>\n      <th>Musical</th>\n      <th>Mystery</th>\n      <th>Romance</th>\n      <th>Sci-Fi</th>\n      <th>Thriller</th>\n      <th>War</th>\n      <th>Western</th>\n    </tr>\n  </thead>\n  <tbody>\n    <tr>\n      <th>0</th>\n      <td>1</td>\n      <td>Toy Story</td>\n      <td>0</td>\n      <td>0</td>\n      <td>1</td>\n      <td>1</td>\n      <td>1</td>\n      <td>1</td>\n      <td>0</td>\n      <td>0</td>\n      <td>...</td>\n      <td>0</td>\n      <td>0</td>\n      <td>0</td>\n      <td>0</td>\n      <td>0</td>\n      <td>0</td>\n      <td>0</td>\n      <td>0</td>\n      <td>0</td>\n      <td>0</td>\n    </tr>\n    <tr>\n      <th>1</th>\n      <td>2</td>\n      <td>Jumanji</td>\n      <td>0</td>\n      <td>0</td>\n      <td>1</td>\n      <td>0</td>\n      <td>1</td>\n      <td>0</td>\n      <td>0</td>\n      <td>0</td>\n      <td>...</td>\n      <td>0</td>\n      <td>0</td>\n      <td>0</td>\n      <td>0</td>\n      <td>0</td>\n      <td>0</td>\n      <td>0</td>\n      <td>0</td>\n      <td>0</td>\n      <td>0</td>\n    </tr>\n    <tr>\n      <th>2</th>\n      <td>3</td>\n      <td>Grumpier Old Men</td>\n      <td>0</td>\n      <td>0</td>\n      <td>0</td>\n      <td>0</td>\n      <td>0</td>\n      <td>1</td>\n      <td>0</td>\n      <td>0</td>\n      <td>...</td>\n      <td>0</td>\n      <td>0</td>\n      <td>0</td>\n      <td>0</td>\n      <td>0</td>\n      <td>1</td>\n      <td>0</td>\n      <td>0</td>\n      <td>0</td>\n      <td>0</td>\n    </tr>\n    <tr>\n      <th>3</th>\n      <td>4</td>\n      <td>Waiting to Exhale</td>\n      <td>0</td>\n      <td>0</td>\n      <td>0</td>\n      <td>0</td>\n      <td>0</td>\n      <td>1</td>\n      <td>0</td>\n      <td>0</td>\n      <td>...</td>\n      <td>0</td>\n      <td>0</td>\n      <td>0</td>\n      <td>0</td>\n      <td>0</td>\n      <td>1</td>\n      <td>0</td>\n      <td>0</td>\n      <td>0</td>\n      <td>0</td>\n    </tr>\n    <tr>\n      <th>4</th>\n      <td>5</td>\n      <td>Father of the Bride Part II</td>\n      <td>0</td>\n      <td>0</td>\n      <td>0</td>\n      <td>0</td>\n      <td>0</td>\n      <td>1</td>\n      <td>0</td>\n      <td>0</td>\n      <td>...</td>\n      <td>0</td>\n      <td>0</td>\n      <td>0</td>\n      <td>0</td>\n      <td>0</td>\n      <td>0</td>\n      <td>0</td>\n      <td>0</td>\n      <td>0</td>\n      <td>0</td>\n    </tr>\n  </tbody>\n</table>\n<p>5 rows × 22 columns</p>\n</div>"
     },
     "execution_count": 25,
     "metadata": {},
     "output_type": "execute_result"
    }
   ],
   "source": [
    "# Concatenate the original metadata with the encoded genres\n",
    "metadata = pd.concat([metadata[['movieId', 'title']], genres_df], axis=1)\n",
    "# metadata = metadata.drop(columns=['(no genres listed)'])\n",
    "metadata.head()"
   ],
   "metadata": {
    "collapsed": false,
    "ExecuteTime": {
     "end_time": "2025-04-08T16:27:10.278101775Z",
     "start_time": "2025-04-08T16:27:10.269748621Z"
    }
   },
   "id": "8ea312b6752e05"
  },
  {
   "cell_type": "code",
   "execution_count": 26,
   "outputs": [],
   "source": [
    "from sklearn.feature_extraction.text import TfidfVectorizer\n",
    "from sklearn.compose import ColumnTransformer\n",
    "\n",
    "tfidf = TfidfVectorizer(max_features=1000, stop_words='english')\n",
    "\n",
    "# Create a preprocessor that transforms the movie metadata:\n",
    "# - Applies TF-IDF vectorization to the cleaned 'title' column to extract textual features.\n",
    "# - Passes through the binary genre columns (already transformed by MultiLabelBinarizer).\n",
    "# - Drops any remaining columns that are not explicitly selected.\n",
    "preprocessor = ColumnTransformer(\n",
    "    transformers=[\n",
    "        ('tfidf', tfidf, 'title'),\n",
    "        ('genres', 'passthrough', genres_df.columns)\n",
    "    ],\n",
    "    remainder='drop'\n",
    ")"
   ],
   "metadata": {
    "collapsed": false,
    "ExecuteTime": {
     "end_time": "2025-04-08T16:27:13.395342258Z",
     "start_time": "2025-04-08T16:27:13.393178283Z"
    }
   },
   "id": "fb9877a99e0fcbaa"
  },
  {
   "cell_type": "code",
   "execution_count": 31,
   "id": "4de669c2",
   "metadata": {
    "ExecuteTime": {
     "end_time": "2025-04-08T16:27:43.634419181Z",
     "start_time": "2025-04-08T16:27:43.593377859Z"
    }
   },
   "outputs": [],
   "source": [
    "from sklearn.feature_extraction.text import TfidfVectorizer\n",
    "from sklearn.naive_bayes import MultinomialNB\n",
    "from sklearn.pipeline import Pipeline\n",
    "\n",
    "def user_specific_model(user_id, top_k=10):\n",
    "    user_ratings = ratings[ratings['userId'] == user_id]\n",
    "    user_data = pd.merge(user_ratings, metadata, on='movieId')\n",
    "    \n",
    "\n",
    "    # Create labels\n",
    "    user_data['label'] = user_data['rating'].apply(lambda r: 1 if r >= 4 else (0 if r <= 2 else None))\n",
    "    user_data = user_data.dropna(subset=['label'])\n",
    "    user_data['label'] = user_data['label'].astype(int)\n",
    "\n",
    "    if user_data.empty:\n",
    "        return pd.DataFrame()\n",
    "    \n",
    "    pipeline = Pipeline([\n",
    "        ('preprocessor', preprocessor),\n",
    "        ('classifier', MultinomialNB())\n",
    "    ])\n",
    "\n",
    "    X_train = user_data.drop(columns=['userId', 'rating', 'label', 'timestamp'])  # drop irrelevant columns\n",
    "    y_train = user_data['label']\n",
    "\n",
    "    pipeline.fit(X_train, y_train)\n",
    "\n",
    "    seen = user_ratings['movieId'].unique()\n",
    "    candidate_pool = metadata[~metadata['movieId'].isin(seen)].copy()\n",
    "    input_cols = list(X_train.columns)  # X used during training\n",
    "\n",
    "    candidate_pool['score'] = pipeline.predict_proba(candidate_pool[input_cols])[:, 1]\n",
    "    return candidate_pool.sort_values(\"score\", ascending=False)[['movieId', 'title', 'score']].head(top_k)"
   ]
  },
  {
   "cell_type": "code",
   "execution_count": 34,
   "id": "472ec978",
   "metadata": {
    "ExecuteTime": {
     "end_time": "2025-04-08T16:27:55.070582820Z",
     "start_time": "2025-04-08T16:27:55.018504550Z"
    }
   },
   "outputs": [
    {
     "data": {
      "text/plain": "      movieId                          title     score\n5657    27549           Dead or Alive: Final  0.999369\n454       519                      RoboCop 3  0.999117\n2248     2985                        RoboCop  0.999117\n4843     7235  Ichi the Killer (Koroshiya 1)  0.999023\n4693     7007            Last Boy Scout, The  0.998991\n3657     5027                Another 48 Hrs.  0.998991\n19         20                    Money Train  0.998991\n1076     1396                       Sneakers  0.998991\n3989     5628                         Wasabi  0.998991\n1103     1432                          Metro  0.998991",
      "text/html": "<div>\n<style scoped>\n    .dataframe tbody tr th:only-of-type {\n        vertical-align: middle;\n    }\n\n    .dataframe tbody tr th {\n        vertical-align: top;\n    }\n\n    .dataframe thead th {\n        text-align: right;\n    }\n</style>\n<table border=\"1\" class=\"dataframe\">\n  <thead>\n    <tr style=\"text-align: right;\">\n      <th></th>\n      <th>movieId</th>\n      <th>title</th>\n      <th>score</th>\n    </tr>\n  </thead>\n  <tbody>\n    <tr>\n      <th>5657</th>\n      <td>27549</td>\n      <td>Dead or Alive: Final</td>\n      <td>0.999369</td>\n    </tr>\n    <tr>\n      <th>454</th>\n      <td>519</td>\n      <td>RoboCop 3</td>\n      <td>0.999117</td>\n    </tr>\n    <tr>\n      <th>2248</th>\n      <td>2985</td>\n      <td>RoboCop</td>\n      <td>0.999117</td>\n    </tr>\n    <tr>\n      <th>4843</th>\n      <td>7235</td>\n      <td>Ichi the Killer (Koroshiya 1)</td>\n      <td>0.999023</td>\n    </tr>\n    <tr>\n      <th>4693</th>\n      <td>7007</td>\n      <td>Last Boy Scout, The</td>\n      <td>0.998991</td>\n    </tr>\n    <tr>\n      <th>3657</th>\n      <td>5027</td>\n      <td>Another 48 Hrs.</td>\n      <td>0.998991</td>\n    </tr>\n    <tr>\n      <th>19</th>\n      <td>20</td>\n      <td>Money Train</td>\n      <td>0.998991</td>\n    </tr>\n    <tr>\n      <th>1076</th>\n      <td>1396</td>\n      <td>Sneakers</td>\n      <td>0.998991</td>\n    </tr>\n    <tr>\n      <th>3989</th>\n      <td>5628</td>\n      <td>Wasabi</td>\n      <td>0.998991</td>\n    </tr>\n    <tr>\n      <th>1103</th>\n      <td>1432</td>\n      <td>Metro</td>\n      <td>0.998991</td>\n    </tr>\n  </tbody>\n</table>\n</div>"
     },
     "execution_count": 34,
     "metadata": {},
     "output_type": "execute_result"
    }
   ],
   "source": [
    "user_specific_model(user_id=37)"
   ]
  },
  {
   "cell_type": "markdown",
   "source": [
    "# Evaluate the model"
   ],
   "metadata": {
    "collapsed": false
   },
   "id": "a833eba01569ff8e"
  },
  {
   "cell_type": "code",
   "execution_count": 41,
   "outputs": [],
   "source": [
    "from sklearn.metrics import accuracy_score\n",
    "from sklearn.pipeline import Pipeline\n",
    "from tqdm import tqdm\n",
    "\n",
    "def evaluate_accuracy_all_users(ratings_df, metadata_df, min_ratings=50):\n",
    "    results = []\n",
    "\n",
    "    user_ids = ratings_df['userId'].value_counts()\n",
    "    user_ids = user_ids[user_ids >= min_ratings].index\n",
    "\n",
    "    for user_id in tqdm(user_ids, desc=\"Evaluating accuracy\"):\n",
    "        user_ratings = ratings_df[ratings_df['userId'] == user_id]\n",
    "        user_data = pd.merge(user_ratings, metadata_df, on='movieId')\n",
    "\n",
    "        # Create binary labels: like (1), dislike (0), ignore neutral\n",
    "        user_data['label'] = user_data['rating'].apply(lambda r: 1 if r >= 4 else (0 if r <= 2 else None))\n",
    "        user_data = user_data.dropna(subset=['label'])\n",
    "        user_data['label'] = user_data['label'].astype(int)\n",
    "\n",
    "        if len(user_data) < min_ratings:\n",
    "            continue\n",
    "\n",
    "        # Train/test split\n",
    "        train = user_data.sample(frac=0.8, random_state=42)\n",
    "        test = user_data.drop(train.index)\n",
    "\n",
    "        if test.empty or train.empty:\n",
    "            continue\n",
    "\n",
    "        X_train = train.drop(columns=['userId', 'rating', 'label', 'timestamp'])\n",
    "        y_train = train['label']\n",
    "        X_test = test.drop(columns=['userId', 'rating', 'label', 'timestamp'])\n",
    "        y_test = test['label']\n",
    "\n",
    "        try:\n",
    "            pipeline = Pipeline([\n",
    "                ('preprocessor', preprocessor),\n",
    "                ('classifier', MultinomialNB())\n",
    "            ])\n",
    "\n",
    "            pipeline.fit(X_train, y_train)\n",
    "            y_pred = pipeline.predict(X_test)\n",
    "            acc = accuracy_score(y_test, y_pred)\n",
    "\n",
    "            results.append({\n",
    "                'userId': user_id,\n",
    "                'accuracy': acc,\n",
    "                'n_train': len(train),\n",
    "                'n_test': len(test)\n",
    "            })\n",
    "\n",
    "        except Exception as e:\n",
    "            continue\n",
    "\n",
    "    return pd.DataFrame(results)"
   ],
   "metadata": {
    "collapsed": false,
    "ExecuteTime": {
     "end_time": "2025-04-08T16:33:28.290112253Z",
     "start_time": "2025-04-08T16:33:28.283503495Z"
    }
   },
   "id": "91a4137e5e1ee66d"
  },
  {
   "cell_type": "code",
   "execution_count": 42,
   "outputs": [
    {
     "name": "stderr",
     "output_type": "stream",
     "text": [
      "Evaluating accuracy: 100%|██████████| 385/385 [00:03<00:00, 107.63it/s]"
     ]
    },
    {
     "name": "stdout",
     "output_type": "stream",
     "text": [
      "     userId  accuracy  n_train  n_test\n",
      "0       414  0.700297     1349     337\n",
      "1       599  0.834286      699     175\n",
      "2       474  0.764423      834     208\n",
      "3       448  0.624413      851     213\n",
      "4       274  0.683673      391      98\n",
      "..      ...       ...      ...     ...\n",
      "301     585  1.000000       44      11\n",
      "302     267  0.818182       44      11\n",
      "303     413  1.000000       42      10\n",
      "304     348  1.000000       42      11\n",
      "305     224  1.000000       43      11\n",
      "\n",
      "[306 rows x 4 columns]\n"
     ]
    },
    {
     "name": "stderr",
     "output_type": "stream",
     "text": [
      "\n"
     ]
    }
   ],
   "source": [
    "results_df = evaluate_accuracy_all_users(ratings, metadata)\n",
    "print(results_df)"
   ],
   "metadata": {
    "collapsed": false,
    "ExecuteTime": {
     "end_time": "2025-04-08T16:33:32.668487669Z",
     "start_time": "2025-04-08T16:33:29.085762030Z"
    }
   },
   "id": "c0c4325c46eac494"
  },
  {
   "cell_type": "code",
   "execution_count": 43,
   "outputs": [
    {
     "data": {
      "text/plain": "           userId    accuracy      n_train      n_test\ncount  306.000000  306.000000   306.000000  306.000000\nmean   302.287582    0.840202   141.849673   35.421569\nstd    182.190233    0.133264   141.621072   35.401890\nmin      1.000000    0.400000    40.000000   10.000000\n25%    139.250000    0.750000    57.000000   14.000000\n50%    299.500000    0.857143    91.000000   23.000000\n75%    461.500000    0.948381   177.000000   44.750000\nmax    610.000000    1.000000  1349.000000  337.000000",
      "text/html": "<div>\n<style scoped>\n    .dataframe tbody tr th:only-of-type {\n        vertical-align: middle;\n    }\n\n    .dataframe tbody tr th {\n        vertical-align: top;\n    }\n\n    .dataframe thead th {\n        text-align: right;\n    }\n</style>\n<table border=\"1\" class=\"dataframe\">\n  <thead>\n    <tr style=\"text-align: right;\">\n      <th></th>\n      <th>userId</th>\n      <th>accuracy</th>\n      <th>n_train</th>\n      <th>n_test</th>\n    </tr>\n  </thead>\n  <tbody>\n    <tr>\n      <th>count</th>\n      <td>306.000000</td>\n      <td>306.000000</td>\n      <td>306.000000</td>\n      <td>306.000000</td>\n    </tr>\n    <tr>\n      <th>mean</th>\n      <td>302.287582</td>\n      <td>0.840202</td>\n      <td>141.849673</td>\n      <td>35.421569</td>\n    </tr>\n    <tr>\n      <th>std</th>\n      <td>182.190233</td>\n      <td>0.133264</td>\n      <td>141.621072</td>\n      <td>35.401890</td>\n    </tr>\n    <tr>\n      <th>min</th>\n      <td>1.000000</td>\n      <td>0.400000</td>\n      <td>40.000000</td>\n      <td>10.000000</td>\n    </tr>\n    <tr>\n      <th>25%</th>\n      <td>139.250000</td>\n      <td>0.750000</td>\n      <td>57.000000</td>\n      <td>14.000000</td>\n    </tr>\n    <tr>\n      <th>50%</th>\n      <td>299.500000</td>\n      <td>0.857143</td>\n      <td>91.000000</td>\n      <td>23.000000</td>\n    </tr>\n    <tr>\n      <th>75%</th>\n      <td>461.500000</td>\n      <td>0.948381</td>\n      <td>177.000000</td>\n      <td>44.750000</td>\n    </tr>\n    <tr>\n      <th>max</th>\n      <td>610.000000</td>\n      <td>1.000000</td>\n      <td>1349.000000</td>\n      <td>337.000000</td>\n    </tr>\n  </tbody>\n</table>\n</div>"
     },
     "execution_count": 43,
     "metadata": {},
     "output_type": "execute_result"
    }
   ],
   "source": [
    "results_df.describe()"
   ],
   "metadata": {
    "collapsed": false,
    "ExecuteTime": {
     "end_time": "2025-04-08T16:33:39.606839700Z",
     "start_time": "2025-04-08T16:33:39.564500536Z"
    }
   },
   "id": "c23b0188d65bca85"
  },
  {
   "cell_type": "markdown",
   "id": "5e2c9617",
   "metadata": {},
   "source": [
    "## 2. Global Content-Based Recommender (Single Model for All Users)"
   ]
  },
  {
   "cell_type": "code",
   "execution_count": null,
   "id": "e8e54c72",
   "metadata": {
    "ExecuteTime": {
     "start_time": "2025-04-08T16:25:10.960493859Z"
    }
   },
   "outputs": [],
   "source": [
    "def train_global_model():\n",
    "    data = pd.merge(ratings, tags_agg, on='movieId')\n",
    "    data = data.dropna(subset=['tag'])\n",
    "\n",
    "    data['label'] = data['rating'].apply(lambda r: 1 if r >= 4 else (0 if r <= 2 else None))\n",
    "    data = data.dropna(subset=['label'])\n",
    "    data['label'] = data['label'].astype(int)\n",
    "\n",
    "    tfidf = TfidfVectorizer(max_features=1000, stop_words='english')\n",
    "    X = tfidf.fit_transform(data['tag'])\n",
    "    y = data['label']\n",
    "\n",
    "    model = MultinomialNB()\n",
    "    model.fit(X, y)\n",
    "    return model, tfidf\n",
    "\n",
    "model_global, tfidf_global = train_global_model()\n",
    "\n",
    "def recommend_global(user_id, top_k=10):\n",
    "    seen = ratings[ratings['userId'] == user_id]['movieId'].unique()\n",
    "    unseen = tags_agg[~tags_agg['movieId'].isin(seen)].copy()\n",
    "    X_test = tfidf_global.transform(unseen['tag'])\n",
    "\n",
    "    unseen['score'] = model_global.predict_proba(X_test)[:, 1]\n",
    "    result = unseen.merge(movies[['movieId', 'title']], on='movieId')\n",
    "    return result.sort_values('score', ascending=False)[['movieId', 'title', 'score']].head(top_k)"
   ]
  },
  {
   "cell_type": "markdown",
   "id": "4807350c",
   "metadata": {},
   "source": [
    "### 🔍 Test it:"
   ]
  },
  {
   "cell_type": "code",
   "execution_count": null,
   "id": "af1d9037",
   "metadata": {
    "ExecuteTime": {
     "start_time": "2025-04-08T16:25:10.960609920Z"
    }
   },
   "outputs": [],
   "source": [
    "recommend_global(user_id=1)"
   ]
  },
  {
   "cell_type": "markdown",
   "id": "808e803c",
   "metadata": {},
   "source": [
    "## 3. Evaluation Methodology (Candidate Pool Strategy)"
   ]
  },
  {
   "cell_type": "code",
   "execution_count": null,
   "id": "7f945680",
   "metadata": {
    "ExecuteTime": {
     "start_time": "2025-04-08T16:25:10.960658693Z"
    }
   },
   "outputs": [],
   "source": [
    "from sklearn.model_selection import train_test_split\n",
    "from sklearn.metrics import precision_score, roc_auc_score\n",
    "\n",
    "def evaluate_user_model(user_id):\n",
    "    user_ratings = ratings[ratings['userId'] == user_id]\n",
    "    if len(user_ratings) < 5:\n",
    "        return None\n",
    "\n",
    "    train, test = train_test_split(user_ratings, test_size=0.4, random_state=42)\n",
    "    train_data = pd.merge(train, movies, on='movieId')\n",
    "    train_data['label'] = train_data['rating'].apply(lambda r: 1 if r >= 4 else (0 if r <= 2 else None))\n",
    "    train_data = train_data.dropna(subset=['label'])\n",
    "    train_data['label'] = train_data['label'].astype(int)\n",
    "\n",
    "    if len(train_data) < 3:\n",
    "        return None\n",
    "\n",
    "    tfidf = TfidfVectorizer(max_features=1000, stop_words='english')\n",
    "    X_train = tfidf.fit_transform(train_data['content'])\n",
    "    y_train = train_data['label']\n",
    "\n",
    "    model = MultinomialNB()\n",
    "    model.fit(X_train, y_train)\n",
    "\n",
    "    test_data = pd.merge(test, movies, on='movieId')\n",
    "    X_test = tfidf.transform(test_data['content'])\n",
    "    y_test = test_data['rating'].apply(lambda r: 1 if r >= 4 else 0)\n",
    "\n",
    "    preds = model.predict(X_test)\n",
    "    precision = precision_score(y_test, preds)\n",
    "    auc = roc_auc_score(y_test, model.predict_proba(X_test)[:, 1])\n",
    "\n",
    "    return {\n",
    "        'user_id': user_id,\n",
    "        'precision': precision,\n",
    "        'auc': auc\n",
    "    }\n"
   ]
  },
  {
   "cell_type": "markdown",
   "id": "27227cb7",
   "metadata": {},
   "source": [
    "### 🔍 Test it:"
   ]
  },
  {
   "cell_type": "code",
   "execution_count": null,
   "id": "1454a437",
   "metadata": {
    "ExecuteTime": {
     "start_time": "2025-04-08T16:25:10.960683710Z"
    }
   },
   "outputs": [],
   "source": [
    "evaluate_user_model(user_id=1)"
   ]
  }
 ],
 "metadata": {
  "kernelspec": {
   "display_name": ".venv",
   "language": "python",
   "name": "python3"
  },
  "language_info": {
   "codemirror_mode": {
    "name": "ipython",
    "version": 3
   },
   "file_extension": ".py",
   "mimetype": "text/x-python",
   "name": "python",
   "nbconvert_exporter": "python",
   "pygments_lexer": "ipython3",
   "version": "3.12.3"
  }
 },
 "nbformat": 4,
 "nbformat_minor": 5
}
